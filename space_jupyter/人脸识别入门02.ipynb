{
 "cells": [
  {
   "cell_type": "code",
   "execution_count": 39,
   "metadata": {},
   "outputs": [
    {
     "data": {
      "text/plain": [
       "True"
      ]
     },
     "execution_count": 39,
     "metadata": {},
     "output_type": "execute_result"
    }
   ],
   "source": [
    "# 单张图片人脸+眼睛识别\n",
    "# bilibili视频教程:同济子豪兄\n",
    "# 2019-5-16\n",
    "\n",
    "#导入opencv\n",
    "import cv2\n",
    "\n",
    "# 导入人脸级联分类器引擎，'.xml'文件里包含训练出来的人脸特征，cv2.data.haarcascades即为存放所有级联分类器模型文件的目录\n",
    "# face_cascade = cv2.CascadeClassifier(cv2.data.haarcascades+'haarcascade_frontalface_default.xml')\n",
    "face_cascade = cv2.CascadeClassifier(r'D:\\Work\\CodeSpace\\data\\opencv-master\\data\\haarcascades\\haarcascade_frontalface_alt2.xml')\n",
    "\n",
    "\n",
    "# 导入人眼级联分类器引擎吗，'.xml'文件里包含训练出来的人眼特征\n",
    "eye_cascade = cv2.CascadeClassifier(r'D:\\Work\\CodeSpace\\data\\opencv-master\\data\\haarcascades\\haarcascade_eye.xml')\n",
    "# eye_cascade = cv2.CascadeClassifier(r'D:\\Work\\CodeSpace\\data\\opencv-master\\data\\haarcascade_lefteye_2splits.xml')\n",
    "\n",
    "\n",
    "# 读入一张图片，引号里为图片的路径，需要你自己手动设置\n",
    "# img = cv2.imread('image3.png')\n",
    "img = cv2.imread(r'D:\\Work\\CodeSpace\\data\\6.png',1)\n",
    "\n",
    "# 用人脸级联分类器引擎进行人脸识别，返回的faces为人脸坐标列表，1.3是放大比例，5是重复识别次数\n",
    "faces = face_cascade.detectMultiScale(img, 1.3, 5)\n",
    "\n",
    "# 对每一张脸，进行如下操作\n",
    "for (x,y,w,h) in faces:\n",
    "    # 画出人脸框，蓝色（BGR色彩体系），画笔宽度为2\n",
    "    img = cv2.rectangle(img,(x,y),(x+w,y+h),(255,0,0),2)\n",
    "    # 框选出人脸区域，在人脸区域而不是全图中进行人眼检测，节省计算资源\n",
    "    face_area = img[y:y+h, x:x+w]\n",
    "    eyes = eye_cascade.detectMultiScale(face_area)\n",
    "    # 用人眼级联分类器引擎在人脸区域进行人眼识别，返回的eyes为眼睛坐标列表\n",
    "    for (ex,ey,ew,eh) in eyes:\n",
    "        #画出人眼框，绿色，画笔宽度为1\n",
    "        cv2.rectangle(face_area,(ex,ey),(ex+ew,ey+eh),(0,255,0),1)\n",
    "        \n",
    "# 在\"img2\"窗口中展示效果图\n",
    "cv2.imshow('img2',img)\n",
    "# 监听键盘上任何按键，如有案件即退出并关闭窗口，并将图片保存为output.jpg\n",
    "cv2.waitKey(0)\n",
    "cv2.destroyAllWindows()\n",
    "cv2.imwrite('output.jpg',img)"
   ]
  },
  {
   "cell_type": "code",
   "execution_count": null,
   "metadata": {},
   "outputs": [],
   "source": []
  },
  {
   "cell_type": "code",
   "execution_count": 2,
   "metadata": {},
   "outputs": [],
   "source": [
    "# 单张图片人脸+眼睛识别\n",
    "# bilibili视频教程:同济子豪兄\n",
    "# 2019-5-16\n",
    "\n",
    "#导入opencv\n",
    "import cv2"
   ]
  },
  {
   "cell_type": "code",
   "execution_count": 31,
   "metadata": {},
   "outputs": [],
   "source": [
    "# 导入人脸级联分类器引擎，'.xml'文件里包含训练出来的人脸特征，cv2.data.haarcascades即为存放所有级联分类器模型文件的目录\n",
    "# face_cascade = cv2.CascadeClassifier(cv2.data.haarcascades+'haarcascade_frontalface_default.xml')\n",
    "face_cascade = cv2.CascadeClassifier(r'D:\\Work\\CodeSpace\\data\\opencv-master\\data\\haarcascades\\haarcascade_frontalface_alt2.xml')\n",
    "\n",
    "\n",
    "# 导入人眼级联分类器引擎吗，'.xml'文件里包含训练出来的人眼特征\n",
    "eye_cascade = cv2.CascadeClassifier(r'D:\\Work\\CodeSpace\\data\\opencv-master\\data\\haarcascades\\haarcascade_eye.xml')\n",
    "# eye_cascade = cv2.CascadeClassifier(r'D:\\Work\\CodeSpace\\data\\opencv-master\\data\\haarcascade_lefteye_2splits.xml')\n",
    "\n"
   ]
  },
  {
   "cell_type": "code",
   "execution_count": 32,
   "metadata": {},
   "outputs": [],
   "source": [
    "# 读入一张图片，引号里为图片的路径，需要你自己手动设置\n",
    "# img = cv2.imread('image3.png')\n",
    "img = cv2.imread(r'D:\\Work\\CodeSpace\\data\\6.png',1)"
   ]
  },
  {
   "cell_type": "code",
   "execution_count": 33,
   "metadata": {},
   "outputs": [],
   "source": [
    "# 用人脸级联分类器引擎进行人脸识别，返回的faces为人脸坐标列表，1.3是放大比例，5是重复识别次数\n",
    "faces = face_cascade.detectMultiScale(img, 1.3, 5)"
   ]
  },
  {
   "cell_type": "code",
   "execution_count": 37,
   "metadata": {},
   "outputs": [],
   "source": [
    "# 对每一张脸，进行如下操作\n",
    "for (x,y,w,h) in faces:\n",
    "    # 画出人脸框，蓝色（BGR色彩体系），画笔宽度为2\n",
    "    img = cv2.rectangle(img,(x,y),(x+w,y+h),(255,0,0),2)\n",
    "    # 框选出人脸区域，在人脸区域而不是全图中进行人眼检测，节省计算资源\n",
    "    face_area = img[y:y+h, x:x+w]\n",
    "    eyes = eye_cascade.detectMultiScale(face_area)\n",
    "    # 用人眼级联分类器引擎在人脸区域进行人眼识别，返回的eyes为眼睛坐标列表\n",
    "    for (ex,ey,ew,eh) in eyes:\n",
    "        #画出人眼框，绿色，画笔宽度为1\n",
    "        cv2.rectangle(face_area,(ex,ey),(ex+ew,ey+eh),(0,255,0),1)\n"
   ]
  },
  {
   "cell_type": "code",
   "execution_count": 38,
   "metadata": {},
   "outputs": [
    {
     "data": {
      "text/plain": [
       "True"
      ]
     },
     "execution_count": 38,
     "metadata": {},
     "output_type": "execute_result"
    }
   ],
   "source": [
    "# 在\"img2\"窗口中展示效果图\n",
    "cv2.imshow('img2',img)\n",
    "# 监听键盘上任何按键，如有案件即退出并关闭窗口，并将图片保存为output.jpg\n",
    "cv2.waitKey(0)\n",
    "cv2.destroyAllWindows()\n",
    "cv2.imwrite('output.jpg',img)"
   ]
  },
  {
   "cell_type": "code",
   "execution_count": null,
   "metadata": {},
   "outputs": [],
   "source": []
  }
 ],
 "metadata": {
  "kernelspec": {
   "display_name": "Python 3",
   "language": "python",
   "name": "python3"
  },
  "language_info": {
   "codemirror_mode": {
    "name": "ipython",
    "version": 3
   },
   "file_extension": ".py",
   "mimetype": "text/x-python",
   "name": "python",
   "nbconvert_exporter": "python",
   "pygments_lexer": "ipython3",
   "version": "3.6.5"
  }
 },
 "nbformat": 4,
 "nbformat_minor": 2
}
