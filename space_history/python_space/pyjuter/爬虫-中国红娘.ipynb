{
 "cells": [
  {
   "cell_type": "code",
   "execution_count": 1,
   "metadata": {
    "collapsed": true
   },
   "outputs": [],
   "source": [
    "import requests\n",
    "from bs4 import BeautifulSoup \n",
    "import pandas as pd\n"
   ]
  },
  {
   "cell_type": "code",
   "execution_count": 2,
   "metadata": {
    "collapsed": true
   },
   "outputs": [],
   "source": [
    "url = 'http://www.hongniang.com/index/search?sort=0&wh=0&sex=0&starage=0&province=0&city=0&marriage=0&edu=0&income=0&height=0&pro=0&house=0&child=0&xz=0&sx=0&mz=0&hometownprovince=0&page=1'\n",
    "url1 = 'http://www.hongniang.com/index/search?sort=reg-desc&wh=0&sex=0&starage=0&province=&city=&marriage=0&edu=0&income=0&height=0&pro=0&house=0&child=0&xz=0&sx=0&mz=0&hometownprovince=0&zhiye='\n",
    "url2 = 'http://www.hongniang.com/index/search?sort=reg-asc&wh=0&sex=0&starage=0&province=&city=&marriage=0&edu=0&income=0&height=0&pro=0&house=0&child=0&xz=0&sx=0&mz=0&hometownprovince=0&zhiye='\n"
   ]
  },
  {
   "cell_type": "code",
   "execution_count": 22,
   "metadata": {
    "collapsed": true
   },
   "outputs": [],
   "source": [
    "url = 'http://www.hongniang.com/index/search?sort=0&wh=0&sex=0&starage=0&province=0&city=0&marriage=0&edu=0&income=0&height=0&pro=0&house=0&child=0&xz=0&sx=0&mz=0&hometownprovince=0&page=1'"
   ]
  },
  {
   "cell_type": "code",
   "execution_count": 23,
   "metadata": {
    "collapsed": true
   },
   "outputs": [],
   "source": [
    "data = requests.get(url).content\n"
   ]
  },
  {
   "cell_type": "code",
   "execution_count": 24,
   "metadata": {
    "collapsed": true
   },
   "outputs": [],
   "source": [
    "soup = BeautifulSoup(data,'lxml')"
   ]
  },
  {
   "cell_type": "code",
   "execution_count": 25,
   "metadata": {
    "collapsed": true
   },
   "outputs": [],
   "source": [
    "lis = soup.find('div',attrs={'class':'search_box'}).find_all('li',attrs={'class':'pin'})\n"
   ]
  },
  {
   "cell_type": "code",
   "execution_count": 27,
   "metadata": {},
   "outputs": [
    {
     "data": {
      "text/plain": [
       "<li class=\"pin\"> <div class=\"pin_img\" id=\"mid_10910710\" onmouseout=\"hide_zhaohu(10910710);\" onmouseover=\"show_zhaohu(10910710);\"> <a href=\"/user/member/id/10910710\" target=\"_blank\"><img alt=\"\" class=\"lazy\" src=\"http://www.hongniang.com/public/images/man.jpg\"/></a> <span>0</span> <div class=\"imh_zh hd\"><a data-id=\"10910710\" href=\"javascript:void(0)\"><em>打招呼</em></a></div> </div> <div class=\"name\"> <a href=\"/user/member/id/10910710\" target=\"_blank\">咖啡和巧克力</a> <img alt=\"手机已验证\" src=\"/public/home/images/mem_rz22.png\" title=\"手机已验证\"/> <img alt=\"身份证未验证\" src=\"/public/home/images/mem_rz1.png\" title=\"身份证未验证\"/> <img alt=\"\" class=\"lazy\" src=\"http://local.hongniang.com/public/images/vipb.png\" style=\"position:relative;top:5px;\"/> </div> <div class=\"xx\"> <span>30岁</span><span>云南 昆明</span><span>未婚</span><span>162cm</span> </div> <div class=\"db\"> <b>内心独白：</b><br/>\t\t\t\t\t\t\t\t   我是残疾人，自己不会喂饭的，我要找温梁.善良.顾家.孝顺\t\t\n",
       "\t\t\t\t\t\t\t\t</div> </li>"
      ]
     },
     "execution_count": 27,
     "metadata": {},
     "output_type": "execute_result"
    }
   ],
   "source": [
    "lis[3]"
   ]
  },
  {
   "cell_type": "code",
   "execution_count": 28,
   "metadata": {
    "collapsed": true
   },
   "outputs": [],
   "source": [
    "url = 'http://www.hongniang.com/user/c/b/10994055.html'"
   ]
  },
  {
   "cell_type": "code",
   "execution_count": 29,
   "metadata": {
    "collapsed": true
   },
   "outputs": [],
   "source": [
    "data = requests.get(url).content\n",
    "soup = BeautifulSoup(data,'lxml')"
   ]
  },
  {
   "cell_type": "code",
   "execution_count": null,
   "metadata": {
    "collapsed": true
   },
   "outputs": [],
   "source": [
    "s"
   ]
  }
 ],
 "metadata": {
  "kernelspec": {
   "display_name": "Python 3",
   "language": "python",
   "name": "python3"
  },
  "language_info": {
   "codemirror_mode": {
    "name": "ipython",
    "version": 3
   },
   "file_extension": ".py",
   "mimetype": "text/x-python",
   "name": "python",
   "nbconvert_exporter": "python",
   "pygments_lexer": "ipython3",
   "version": "3.6.3"
  }
 },
 "nbformat": 4,
 "nbformat_minor": 2
}
