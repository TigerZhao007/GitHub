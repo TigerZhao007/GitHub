{
 "cells": [
  {
   "cell_type": "code",
   "execution_count": 27,
   "metadata": {},
   "outputs": [],
   "source": [
    "# 十行代码完成人脸识别\n",
    "# bilibili:同济子豪兄\n",
    "# 20190516\n",
    "import cv2\n",
    "\n",
    "img = cv2.imread(r'D:\\Work\\CodeSpace\\data\\6.png',1)\n",
    "\n",
    "face_engine = cv2.CascadeClassifier(r'D:\\Work\\CodeSpace\\data\\opencv-master\\data\\haarcascades\\haarcascade_frontalface_alt2.xml')\n",
    "\n",
    "faces = face_engine.detectMultiScale(img,scaleFactor=1.3,minNeighbors=2)\n",
    "\n",
    "for (x,y,w,h) in faces:\n",
    "    img = cv2.rectangle(img,(x,y),(x+w,y+h),(255,0,0),2)\n",
    "\n",
    "cv2.imshow('img',img)\n",
    "cv2.waitKey(0)\n",
    "cv2.destroyAllWindows()"
   ]
  },
  {
   "cell_type": "code",
   "execution_count": null,
   "metadata": {},
   "outputs": [],
   "source": [
    "# # 十行代码完成人脸识别-注释版\n",
    "# # bilibili:同济子豪兄 \n",
    "# # 20190516\n",
    "\n",
    "# # 导入opencv-python\n",
    "# import cv2\n",
    "\n",
    "# # 读入一张图片，引号里为图片的路径，需要你自己手动设置\n",
    "# img = cv2.imread('image1.jpg',1)\n",
    "\n",
    "# # 导入人脸级联分类器引擎，'.xml'文件里包含训练出来的人脸特征\n",
    "# # face_engine = cv2.CascadeClassifier(cv2.data.haarcascades+'haarcascade_frontalface_default.xml')\n",
    "# face_engine = cv2.CascadeClassifier(r'D:\\Work\\CodeSpace\\data\\opencv-master\\data\\haarcascades\\haarcascade_frontalface_alt2.xml')\n",
    "\n",
    "# # 用人脸级联分类器引擎进行人脸识别，返回的faces为人脸坐标列表，1.3是放大比例，5是重复识别次数\n",
    "# faces = face_engine.detectMultiScale(img,scaleFactor=1.3,minNeighbors=5)\n",
    "\n",
    "# # 对每一张脸，进行如下操作\n",
    "# for (x,y,w,h) in faces:\n",
    "#     # 画出人脸框，蓝色（BGR色彩体系），画笔宽度为2\n",
    "#     img = cv2.rectangle(img,(x,y),(x+w,y+h),(255,0,0),2)\n",
    "\n",
    "# # 在\"img2\"窗口中展示效果图\n",
    "# cv2.imshow('img2',img)\n",
    "# # 监听键盘上任何按键，如有按键即退出并关闭窗口，并将图片保存为output.jpg\n",
    "# cv2.waitKey(0)\n",
    "# cv2.destroyAllWindows()\n",
    "# cv2.imwrite('output.jpg',img)"
   ]
  },
  {
   "cell_type": "code",
   "execution_count": 11,
   "metadata": {},
   "outputs": [],
   "source": [
    "# 十行代码完成人脸识别\n",
    "# bilibili:同济子豪兄\n",
    "# 20190516\n",
    "import cv2\n",
    "\n",
    "img = cv2.imread(r'D:\\Work\\CodeSpace\\data\\2.png',1)"
   ]
  },
  {
   "cell_type": "code",
   "execution_count": 12,
   "metadata": {},
   "outputs": [],
   "source": [
    "# face_engine = cv2.CascadeClassifier(r'D:\\Work\\CodeSpace\\data\\opencv-master\\data\\haarcascades\\haarcascade_frontalcatface.xml')\n",
    "face_engine = cv2.CascadeClassifier(r'D:\\Work\\CodeSpace\\data\\opencv-master\\data\\haarcascades\\haarcascade_frontalface_alt2.xml')"
   ]
  },
  {
   "cell_type": "code",
   "execution_count": 13,
   "metadata": {},
   "outputs": [
    {
     "data": {
      "text/plain": [
       "<CascadeClassifier 0000018E2B9A7230>"
      ]
     },
     "execution_count": 13,
     "metadata": {},
     "output_type": "execute_result"
    }
   ],
   "source": [
    "face_engine"
   ]
  },
  {
   "cell_type": "code",
   "execution_count": 14,
   "metadata": {},
   "outputs": [],
   "source": [
    "faces = face_engine.detectMultiScale(img,scaleFactor=1.3,minNeighbors=5)"
   ]
  },
  {
   "cell_type": "code",
   "execution_count": 15,
   "metadata": {},
   "outputs": [
    {
     "data": {
      "text/plain": [
       "()"
      ]
     },
     "execution_count": 15,
     "metadata": {},
     "output_type": "execute_result"
    }
   ],
   "source": [
    "faces"
   ]
  },
  {
   "cell_type": "code",
   "execution_count": 16,
   "metadata": {},
   "outputs": [],
   "source": [
    "for (x,y,w,h) in faces:\n",
    "    img = cv2.rectangle(img,(x,y),(x+w,y+h),(255,0,0),2)"
   ]
  },
  {
   "cell_type": "code",
   "execution_count": 17,
   "metadata": {},
   "outputs": [
    {
     "ename": "error",
     "evalue": "OpenCV(4.1.0) D:\\Build\\OpenCV\\opencv-4.1.0\\modules\\highgui\\src\\window.cpp:360: error: (-215:Assertion failed) size.width>0 && size.height>0 in function 'cv::imshow'\n",
     "output_type": "error",
     "traceback": [
      "\u001b[1;31m---------------------------------------------------------------------------\u001b[0m",
      "\u001b[1;31merror\u001b[0m                                     Traceback (most recent call last)",
      "\u001b[1;32m<ipython-input-17-4761f54c809b>\u001b[0m in \u001b[0;36m<module>\u001b[1;34m()\u001b[0m\n\u001b[1;32m----> 1\u001b[1;33m \u001b[0mcv2\u001b[0m\u001b[1;33m.\u001b[0m\u001b[0mimshow\u001b[0m\u001b[1;33m(\u001b[0m\u001b[1;34m'img'\u001b[0m\u001b[1;33m,\u001b[0m\u001b[0mimg\u001b[0m\u001b[1;33m)\u001b[0m\u001b[1;33m\u001b[0m\u001b[0m\n\u001b[0m\u001b[0;32m      2\u001b[0m \u001b[0mcv2\u001b[0m\u001b[1;33m.\u001b[0m\u001b[0mwaitKey\u001b[0m\u001b[1;33m(\u001b[0m\u001b[1;36m0\u001b[0m\u001b[1;33m)\u001b[0m\u001b[1;33m\u001b[0m\u001b[0m\n\u001b[0;32m      3\u001b[0m \u001b[0mcv2\u001b[0m\u001b[1;33m.\u001b[0m\u001b[0mdestroyAllWindows\u001b[0m\u001b[1;33m(\u001b[0m\u001b[1;33m)\u001b[0m\u001b[1;33m\u001b[0m\u001b[0m\n",
      "\u001b[1;31merror\u001b[0m: OpenCV(4.1.0) D:\\Build\\OpenCV\\opencv-4.1.0\\modules\\highgui\\src\\window.cpp:360: error: (-215:Assertion failed) size.width>0 && size.height>0 in function 'cv::imshow'\n"
     ]
    }
   ],
   "source": [
    "cv2.imshow('img',img)\n",
    "cv2.waitKey(0)\n",
    "cv2.destroyAllWindows()"
   ]
  },
  {
   "cell_type": "code",
   "execution_count": null,
   "metadata": {},
   "outputs": [],
   "source": []
  }
 ],
 "metadata": {
  "kernelspec": {
   "display_name": "Python 3",
   "language": "python",
   "name": "python3"
  },
  "language_info": {
   "codemirror_mode": {
    "name": "ipython",
    "version": 3
   },
   "file_extension": ".py",
   "mimetype": "text/x-python",
   "name": "python",
   "nbconvert_exporter": "python",
   "pygments_lexer": "ipython3",
   "version": "3.6.5"
  }
 },
 "nbformat": 4,
 "nbformat_minor": 2
}
