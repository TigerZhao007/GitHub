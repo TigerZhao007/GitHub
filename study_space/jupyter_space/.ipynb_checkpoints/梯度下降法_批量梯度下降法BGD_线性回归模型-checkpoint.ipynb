{
 "cells": [
  {
   "cell_type": "code",
   "execution_count": 6,
   "metadata": {},
   "outputs": [],
   "source": [
    "import numpy as np\n",
    "import matplotlib.pyplot as plt"
   ]
  },
  {
   "cell_type": "code",
   "execution_count": 7,
   "metadata": {},
   "outputs": [],
   "source": [
    "np.random.seed(1234)\n",
    "x = 2 * np.random.random(size=100)\n",
    "y = x * 3. + 4. + np.random.normal(size=100)"
   ]
  },
  {
   "cell_type": "code",
   "execution_count": 8,
   "metadata": {},
   "outputs": [
    {
     "data": {
      "image/png": "[encoded data removed]",
      "text/plain": [
       "<Figure size 432x288 with 1 Axes>"
      ]
     },
     "metadata": {},
     "output_type": "display_data"
    }
   ],
   "source": [
    "plt.scatter(x, y)\n",
    "plt.show()"
   ]
  },
  {
   "cell_type": "code",
   "execution_count": 10,
   "metadata": {},
   "outputs": [],
   "source": [
    "### 使用梯度下降法训练\n",
    "\n",
    "### 损失函数：J(theta)=MSE(y,y~)\n",
    "### 目标：使得损失函数值最小\n",
    "### 梯度：损失函数在参数theta处的对应的梯度"
   ]
  },
  {
   "cell_type": "code",
   "execution_count": 90,
   "metadata": {},
   "outputs": [],
   "source": [
    "# 计算参数theta处对应的损失函数值\n",
    "def J( X_b, Y, theta):\n",
    "    try:\n",
    "        return np.sum((Y - X_b.dot(theta))**2) / len(X_b)\n",
    "    except:\n",
    "        return float('inf') # 如果toolage，返回一个最大值。"
   ]
  },
  {
   "cell_type": "code",
   "execution_count": 91,
   "metadata": {},
   "outputs": [
    {
     "data": {
      "text/plain": [
       "54.35204383558604"
      ]
     },
     "execution_count": 91,
     "metadata": {},
     "output_type": "execute_result"
    }
   ],
   "source": [
    "J(X_b=X_b, Y=y, theta= initial_theta)"
   ]
  },
  {
   "cell_type": "code",
   "execution_count": 92,
   "metadata": {},
   "outputs": [],
   "source": [
    "# 计算参数theta处对应的梯度（一元对应的为导数）\n",
    "def DJ(X_b, Y, theta):\n",
    "    res = np.empty(len(theta))\n",
    "    res[0] = np.sum(X_b.dot(theta) - Y )\n",
    "    for i in range(1, len(theta)):\n",
    "        res[i] = (X_b.dot(theta) - Y).dot(X_b[:,i])    # 少了np.sum\n",
    "    return res * 2 / len(X_b)    "
   ]
  },
  {
   "cell_type": "code",
   "execution_count": 93,
   "metadata": {},
   "outputs": [
    {
     "data": {
      "text/plain": [
       "array([-14.2513053 , -16.57651051])"
      ]
     },
     "execution_count": 93,
     "metadata": {},
     "output_type": "execute_result"
    }
   ],
   "source": [
    "DJ(X_b=X_b, Y=y, theta= initial_theta)"
   ]
  },
  {
   "cell_type": "code",
   "execution_count": 97,
   "metadata": {},
   "outputs": [],
   "source": [
    "# ############################\n",
    "# 梯度下降法，代码封装优化\n",
    "# 优化问题：如果学习率过大，会报错toolager，进行判断，如果过大，返回inf\n",
    "# 新增加参数： 最大迭代次数\n",
    "def grad_desc(X_b, Y, initial_theta, eta,n_iters= 1000, epsilon=1e-8):\n",
    "    theta = initial_theta\n",
    "    i_iters = 0\n",
    "    \n",
    " \n",
    "    # 实现梯度下降法\n",
    "    while i_iters < n_iters:\n",
    "        gradient = DJ(X_b, Y,theta)\n",
    "        last_theta = theta\n",
    "        theta = theta - eta * gradient\n",
    "\n",
    "        if(abs(J(X_b, Y, theta) - J(X_b, Y, last_theta)) < epsilon):\n",
    "            break\n",
    "        i_iters += 1\n",
    "            \n",
    "    return {'theta':theta}"
   ]
  },
  {
   "cell_type": "code",
   "execution_count": 98,
   "metadata": {},
   "outputs": [],
   "source": [
    "X_b = np.hstack([np.ones((len(x), 1)), x.reshape(-1,1)])\n",
    "initial_theta = np.zeros(X_b.shape[1])\n",
    "eta = 0.01"
   ]
  },
  {
   "cell_type": "code",
   "execution_count": 99,
   "metadata": {},
   "outputs": [
    {
     "data": {
      "text/plain": [
       "{'theta': array([4.01386335, 2.99333591])}"
      ]
     },
     "execution_count": 99,
     "metadata": {},
     "output_type": "execute_result"
    }
   ],
   "source": [
    "grad_desc(X_b=X_b, Y=y, initial_theta=initial_theta, eta=eta,n_iters= 1000, epsilon=1e-8)"
   ]
  },
  {
   "cell_type": "code",
   "execution_count": null,
   "metadata": {},
   "outputs": [],
   "source": []
  }
 ],
 "metadata": {
  "kernelspec": {
   "display_name": "Python 3",
   "language": "python",
   "name": "python3"
  },
  "language_info": {
   "codemirror_mode": {
    "name": "ipython",
    "version": 3
   },
   "file_extension": ".py",
   "mimetype": "text/x-python",
   "name": "python",
   "nbconvert_exporter": "python",
   "pygments_lexer": "ipython3",
   "version": "3.6.5"
  }
 },
 "nbformat": 4,
 "nbformat_minor": 2
}
