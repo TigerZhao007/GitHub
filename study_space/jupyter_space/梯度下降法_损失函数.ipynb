{
 "cells": [
  {
   "cell_type": "code",
   "execution_count": 1,
   "metadata": {},
   "outputs": [],
   "source": [
    "import numpy as np\n",
    "import matplotlib.pyplot as plt"
   ]
  },
  {
   "cell_type": "code",
   "execution_count": 2,
   "metadata": {},
   "outputs": [],
   "source": [
    "# 生成序列X ,在-1到6直接产生140个点\n",
    "plot_x = np.linspace(-1,6,141)\n",
    "# plot_x"
   ]
  },
  {
   "cell_type": "code",
   "execution_count": 3,
   "metadata": {},
   "outputs": [],
   "source": [
    "# 生成序列Y， 二次函数\n",
    "plot_y = (plot_x-2.5)**2 - 1"
   ]
  },
  {
   "cell_type": "code",
   "execution_count": 4,
   "metadata": {},
   "outputs": [
    {
     "data": {
      "image/png": "[encoded data removed]",
      "text/plain": [
       "<Figure size 432x288 with 1 Axes>"
      ]
     },
     "metadata": {},
     "output_type": "display_data"
    }
   ],
   "source": [
    "# 绘制二次函数图像\n",
    "plt.plot(plot_x, plot_y)\n",
    "plt.show()"
   ]
  },
  {
   "cell_type": "code",
   "execution_count": 5,
   "metadata": {},
   "outputs": [],
   "source": [
    "# 定义损失函数，计算损失函数的梯度\n",
    "def DJ(theta):\n",
    "    '''\n",
    "    首先定义损失函数，其次计算损失函数的梯度。\n",
    "    :param theta: 待估计参数，这里指自变量X\n",
    "    :return: 指定参数，对应的梯度\n",
    "    '''\n",
    "    # 写出损失函数\n",
    "    # f(x) = y = (x-2.5)**2 -1\n",
    "    # 计算损失函数的梯度\n",
    "    grad_f = 2 * (theta - 2.5)\n",
    "    return grad_f"
   ]
  },
  {
   "cell_type": "code",
   "execution_count": 6,
   "metadata": {},
   "outputs": [],
   "source": [
    "# 计算theta对应的损失函数值\n",
    "def J(theta):\n",
    "    '''\n",
    "    计算theta对应的损失函数值\n",
    "    :param theta: 待估计参数，这里指自变量X\n",
    "    :return: 指定参数，对应的损失函数值\n",
    "    '''\n",
    "    f_theta = (theta - 2.5) ** 2 - 1\n",
    "    return f_theta"
   ]
  },
  {
   "cell_type": "code",
   "execution_count": 7,
   "metadata": {},
   "outputs": [],
   "source": [
    "# 定义相关的参数\n",
    "eta = 0.2        # 定义学习率\n",
    "epsilon = 1e-8   # 定义误差变动最小值\n",
    "theta = 0.0      # 定义参数的初始值（这里指X的初始值）"
   ]
  },
  {
   "cell_type": "code",
   "execution_count": 8,
   "metadata": {},
   "outputs": [],
   "source": [
    "# 实现梯度下降法，\n",
    "# 首先计算初始参数theta的梯度，然后以学习率eta，沿着梯度反方向修正参数\n",
    "# 如果最后一个theta对应的误差函数值与上一个参数对应的误差函数值变动极小，则终止循环。\n",
    "while True:\n",
    "    gradient = DJ(theta= theta)\n",
    "    last_theta = theta\n",
    "    theta = theta - eta * gradient\n",
    "\n",
    "    if(abs(J(theta= theta) - J(theta= last_theta)) < epsilon):\n",
    "        break"
   ]
  },
  {
   "cell_type": "code",
   "execution_count": 9,
   "metadata": {},
   "outputs": [
    {
     "name": "stdout",
     "output_type": "stream",
     "text": [
      "参数theta：2.499945157623399\n",
      "损失函数值：-0.9999999969923137\n"
     ]
    }
   ],
   "source": [
    "# 打印参数以及损失函数值\n",
    "print('参数theta：%s' %(theta) )\n",
    "print('损失函数值：%s' %(J(theta= theta)) )"
   ]
  },
  {
   "cell_type": "code",
   "execution_count": 10,
   "metadata": {},
   "outputs": [],
   "source": [
    "# ############################\n",
    "# 记录梯度下降的过程，即参数值theta\n",
    "theta = 0.0\n",
    "theta_history = [theta]\n",
    "while True:\n",
    "    gradient = DJ(theta= theta)\n",
    "    last_theta = theta\n",
    "    theta = theta - eta * gradient\n",
    "    theta_history.append(theta)\n",
    "\n",
    "    if(abs(J(theta= theta) - J(theta= last_theta)) < epsilon):\n",
    "        break"
   ]
  },
  {
   "cell_type": "code",
   "execution_count": 11,
   "metadata": {},
   "outputs": [
    {
     "data": {
      "image/png": "[encoded data removed]",
      "text/plain": [
       "<Figure size 432x288 with 1 Axes>"
      ]
     },
     "metadata": {},
     "output_type": "display_data"
    }
   ],
   "source": [
    "# 绘制梯度下降的过程图像\n",
    "plt.plot(plot_x, J(theta= plot_x))\n",
    "plt.plot(np.array(theta_history),\n",
    "         J(theta=np.array(theta_history)),\n",
    "         color= 'red', marker='+')\n",
    "plt.show()"
   ]
  },
  {
   "cell_type": "code",
   "execution_count": 12,
   "metadata": {},
   "outputs": [],
   "source": [
    "# ############################\n",
    "# 梯度下降法，代码封装\n",
    "def grad_desc(initial_theta, eta, epsilon=1e-8):\n",
    "    theta = initial_theta\n",
    "    theta_history = [initial_theta]\n",
    "    \n",
    "    # 定义损失函数，计算损失函数的梯度\n",
    "    def DJ(theta):\n",
    "        grad_f = 2 * (theta - 2.5)\n",
    "        return grad_f\n",
    "    \n",
    "    # 计算theta对应的损失函数值\n",
    "    def J(theta):\n",
    "        f_theta = (theta - 2.5) ** 2 - 1\n",
    "        return f_theta\n",
    "    \n",
    "    # 实现梯度下降法\n",
    "    while True:\n",
    "        gradient = DJ(theta= theta)\n",
    "        last_theta = theta\n",
    "        theta = theta - eta * gradient\n",
    "        theta_history.append(theta)\n",
    "\n",
    "        if(abs(J(theta= theta) - J(theta= last_theta)) < epsilon):\n",
    "            break\n",
    "            \n",
    "    return {'theta':theta,'theta_history':theta_history}"
   ]
  },
  {
   "cell_type": "code",
   "execution_count": 13,
   "metadata": {},
   "outputs": [],
   "source": [
    "# 绘制梯度下降的过程图像\n",
    "def plot_theta_history(plot_x = plot_x,theta_history = theta_history):\n",
    "    plt.plot(plot_x, J(theta = plot_x))\n",
    "    plt.plot(np.array(theta_history),\n",
    "             J(theta = np.array(theta_history)),\n",
    "             color = 'red', marker='+')\n",
    "    plt.show()"
   ]
  },
  {
   "cell_type": "code",
   "execution_count": 14,
   "metadata": {},
   "outputs": [
    {
     "data": {
      "image/png": "[encoded data removed]",
      "text/plain": [
       "<Figure size 432x288 with 1 Axes>"
      ]
     },
     "metadata": {},
     "output_type": "display_data"
    }
   ],
   "source": [
    "result = grad_desc(initial_theta = 5.0, eta=0.01)\n",
    "plot_theta_history(plot_x, result['theta_history'])"
   ]
  },
  {
   "cell_type": "code",
   "execution_count": 15,
   "metadata": {},
   "outputs": [],
   "source": [
    "# ############################\n",
    "# 梯度下降法，代码封装优化\n",
    "# 优化问题：如果学习率过大，会报错toolager，进行判断，如果过大，返回inf\n",
    "# 新增加参数： 最大迭代次数\n",
    "def grad_desc(initial_theta, eta,n_iters= 1000, epsilon=1e-8):\n",
    "    theta = initial_theta\n",
    "    theta_history = [initial_theta]\n",
    "    n_iters = n_iters\n",
    "    i_iters = 0\n",
    "    \n",
    "    # 定义损失函数，计算损失函数的梯度\n",
    "    def DJ(theta):\n",
    "        grad_f = 2 * (theta - 2.5)\n",
    "        return grad_f\n",
    "    \n",
    "    # 计算theta对应的损失函数值\n",
    "    def J(theta):\n",
    "        # 如果学习率过大，会报错toolager，进行判断，如果过大，返回inf\n",
    "        try:\n",
    "            f_theta = (theta - 2.5) ** 2 - 1\n",
    "            return f_theta\n",
    "        except:\n",
    "            return float('inf')\n",
    "    \n",
    "    # 实现梯度下降法\n",
    "    while i_iters < n_iters:\n",
    "        gradient = DJ(theta= theta)\n",
    "        last_theta = theta\n",
    "        theta = theta - eta * gradient\n",
    "        theta_history.append(theta)\n",
    "\n",
    "        if(abs(J(theta= theta) - J(theta= last_theta)) < epsilon):\n",
    "            break\n",
    "        i_iters += 1\n",
    "            \n",
    "    return {'theta':theta,'theta_history':theta_history}"
   ]
  },
  {
   "cell_type": "code",
   "execution_count": 16,
   "metadata": {},
   "outputs": [
    {
     "data": {
      "image/png": "[encoded data removed]",
      "text/plain": [
       "<Figure size 432x288 with 1 Axes>"
      ]
     },
     "metadata": {},
     "output_type": "display_data"
    }
   ],
   "source": [
    "result = grad_desc(initial_theta = 0.0, eta=1.1,n_iters= 10)\n",
    "plot_theta_history(plot_x, result['theta_history'])"
   ]
  },
  {
   "cell_type": "code",
   "execution_count": null,
   "metadata": {},
   "outputs": [],
   "source": []
  }
 ],
 "metadata": {
  "kernelspec": {
   "display_name": "Python 3",
   "language": "python",
   "name": "python3"
  },
  "language_info": {
   "codemirror_mode": {
    "name": "ipython",
    "version": 3
   },
   "file_extension": ".py",
   "mimetype": "text/x-python",
   "name": "python",
   "nbconvert_exporter": "python",
   "pygments_lexer": "ipython3",
   "version": "3.6.5"
  }
 },
 "nbformat": 4,
 "nbformat_minor": 2
}
