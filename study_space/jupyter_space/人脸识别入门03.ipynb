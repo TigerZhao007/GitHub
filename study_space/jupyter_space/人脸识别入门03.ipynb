{
 "cells": [
  {
   "cell_type": "code",
   "execution_count": 1,
   "metadata": {},
   "outputs": [
    {
     "ename": "KeyboardInterrupt",
     "evalue": "",
     "output_type": "error",
     "traceback": [
      "\u001b[1;31m---------------------------------------------------------------------------\u001b[0m",
      "\u001b[1;31mKeyboardInterrupt\u001b[0m                         Traceback (most recent call last)",
      "\u001b[1;32m<ipython-input-1-a8aecc76d4f5>\u001b[0m in \u001b[0;36m<module>\u001b[1;34m()\u001b[0m\n\u001b[0;32m     19\u001b[0m     \u001b[1;31m# 获取摄像头拍摄到的画面\u001b[0m\u001b[1;33m\u001b[0m\u001b[1;33m\u001b[0m\u001b[0m\n\u001b[0;32m     20\u001b[0m     \u001b[0mret\u001b[0m\u001b[1;33m,\u001b[0m \u001b[0mframe\u001b[0m \u001b[1;33m=\u001b[0m \u001b[0mcap\u001b[0m\u001b[1;33m.\u001b[0m\u001b[0mread\u001b[0m\u001b[1;33m(\u001b[0m\u001b[1;33m)\u001b[0m\u001b[1;33m\u001b[0m\u001b[0m\n\u001b[1;32m---> 21\u001b[1;33m     \u001b[0mfaces\u001b[0m \u001b[1;33m=\u001b[0m \u001b[0mface_cascade\u001b[0m\u001b[1;33m.\u001b[0m\u001b[0mdetectMultiScale\u001b[0m\u001b[1;33m(\u001b[0m\u001b[0mframe\u001b[0m\u001b[1;33m,\u001b[0m \u001b[1;36m1.3\u001b[0m\u001b[1;33m,\u001b[0m \u001b[1;36m3\u001b[0m\u001b[1;33m)\u001b[0m\u001b[1;33m\u001b[0m\u001b[0m\n\u001b[0m\u001b[0;32m     22\u001b[0m     \u001b[0mimg\u001b[0m \u001b[1;33m=\u001b[0m \u001b[0mframe\u001b[0m\u001b[1;33m\u001b[0m\u001b[0m\n\u001b[0;32m     23\u001b[0m     \u001b[1;32mfor\u001b[0m \u001b[1;33m(\u001b[0m\u001b[0mx\u001b[0m\u001b[1;33m,\u001b[0m\u001b[0my\u001b[0m\u001b[1;33m,\u001b[0m\u001b[0mw\u001b[0m\u001b[1;33m,\u001b[0m\u001b[0mh\u001b[0m\u001b[1;33m)\u001b[0m \u001b[1;32min\u001b[0m \u001b[0mfaces\u001b[0m\u001b[1;33m:\u001b[0m\u001b[1;33m\u001b[0m\u001b[0m\n",
      "\u001b[1;31mKeyboardInterrupt\u001b[0m: "
     ]
    }
   ],
   "source": [
    "# 调用电脑摄像头进行实时人脸+眼睛识别，可直接复制粘贴运行\n",
    "# bilibili视频教程:同济子豪兄\n",
    "# 2019-5-16\n",
    "import cv2\n",
    "\n",
    "# 导入人脸级联分类器引擎，'.xml'文件里包含训练出来的人脸特征，cv2.data.haarcascades即为存放所有级联分类器模型文件的目录\n",
    "# face_cascade = cv2.CascadeClassifier(cv2.data.haarcascades+'haarcascade_frontalface_default.xml')\n",
    "face_cascade = cv2.CascadeClassifier(r'D:\\Work\\CodeSpace\\data\\opencv-master\\data\\haarcascades\\haarcascade_frontalface_alt2.xml')\n",
    "\n",
    "\n",
    "# 导入人眼级联分类器引擎吗，'.xml'文件里包含训练出来的人眼特征\n",
    "eye_cascade = cv2.CascadeClassifier(r'D:\\Work\\CodeSpace\\data\\opencv-master\\data\\haarcascades\\haarcascade_eye.xml')\n",
    "# eye_cascade = cv2.CascadeClassifier(r'D:\\Work\\CodeSpace\\data\\opencv-master\\data\\haarcascade_lefteye_2splits.xml')\n",
    "\n",
    "# 调用摄像头摄像头\n",
    "cap = cv2.VideoCapture(0)\n",
    "\n",
    "while(True):\n",
    "    # 获取摄像头拍摄到的画面\n",
    "    ret, frame = cap.read()\n",
    "    faces = face_cascade.detectMultiScale(frame, 1.3, 3)\n",
    "    img = frame\n",
    "    for (x,y,w,h) in faces:\n",
    "    \t# 画出人脸框，蓝色，画笔宽度微\n",
    "        img = cv2.rectangle(img,(x,y),(x+w,y+h),(255,0,0),2)\n",
    "    \t# 框选出人脸区域，在人脸区域而不是全图中进行人眼检测，节省计算资源\n",
    "        face_area = img[y:y+h, x:x+w]\n",
    "        eyes = eye_cascade.detectMultiScale(face_area, 1.3, 4)\n",
    "    \t# 用人眼级联分类器引擎在人脸区域进行人眼识别，返回的eyes为眼睛坐标列表\n",
    "        for (ex,ey,ew,eh) in eyes:\n",
    "            #画出人眼框，绿色，画笔宽度为1\n",
    "            cv2.rectangle(face_area,(ex,ey),(ex+ew,ey+eh),(0,255,0),1)\n",
    "        \n",
    "\t# 实时展示效果画面\n",
    "    cv2.imshow('frame2',img)\n",
    "    # 每5毫秒监听一次键盘动作\n",
    "    if cv2.waitKey(5) & 0xFF == ord('q'):\n",
    "        break\n",
    "\n",
    "# 最后，关闭所有窗口\n",
    "cap.release()\n",
    "cv2.destroyAllWindows()"
   ]
  },
  {
   "cell_type": "code",
   "execution_count": null,
   "metadata": {},
   "outputs": [],
   "source": [
    "q"
   ]
  }
 ],
 "metadata": {
  "kernelspec": {
   "display_name": "Python 3",
   "language": "python",
   "name": "python3"
  },
  "language_info": {
   "codemirror_mode": {
    "name": "ipython",
    "version": 3
   },
   "file_extension": ".py",
   "mimetype": "text/x-python",
   "name": "python",
   "nbconvert_exporter": "python",
   "pygments_lexer": "ipython3",
   "version": "3.6.5"
  }
 },
 "nbformat": 4,
 "nbformat_minor": 2
}
