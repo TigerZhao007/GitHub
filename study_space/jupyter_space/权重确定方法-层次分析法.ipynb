{
 "cells": [
  {
   "cell_type": "code",
   "execution_count": 3,
   "metadata": {},
   "outputs": [],
   "source": [
    "import numpy as np"
   ]
  },
  {
   "cell_type": "code",
   "execution_count": 4,
   "metadata": {},
   "outputs": [],
   "source": [
    "# 1. 成对比较矩阵 \n",
    "def comparision(W0):  # W为每个信息值的权重\n",
    "    n=len(W0)\n",
    "    F=np.zeros([n,n])\n",
    "    for i in range(n):\n",
    "        for j in range(n):\n",
    "            if i==j:\n",
    "                F[i,j]=1\n",
    "            else:\n",
    "                F[i,j]=W0[i]/W0[j]\n",
    "    return F"
   ]
  },
  {
   "cell_type": "code",
   "execution_count": 5,
   "metadata": {},
   "outputs": [],
   "source": [
    "# 2. 单层排序,相对重要度\n",
    "def ReImpo(F):\n",
    "    n=np.shape(F)[0]\n",
    "    W=np.zeros([1,n])\n",
    "    for i in range(n):\n",
    "        t=1\n",
    "        for j in range(n):\n",
    "            t=F[i,j]*t\n",
    "        W[0,i]=t**(1/n)\n",
    "    W=W/sum(W[0,:])  # 归一化 W=[0.874,2.467,0.464]\n",
    "    return W.T"
   ]
  },
  {
   "cell_type": "code",
   "execution_count": 6,
   "metadata": {},
   "outputs": [],
   "source": [
    "# 3. 一致性检验\n",
    "def isConsist(F):\n",
    "    n=np.shape(F)[0]\n",
    "    a,b=np.linalg.eig(F)\n",
    "    maxlam=a[0].real\n",
    "    CI=(maxlam-n)/(n-1)\n",
    "    if CI<0.1:\n",
    "        return bool(1)\n",
    "    else:\n",
    "        return bool(0)"
   ]
  },
  {
   "cell_type": "code",
   "execution_count": 7,
   "metadata": {},
   "outputs": [],
   "source": [
    "# 4. 计算综合重要性\n",
    "def ComImpo(W12,W231,W232,W233):  # 综合重要性\n",
    "    #F12=comparision(W12)  # 实际应用中可以根据特征的权重求解成对比较矩阵。\n",
    "    #F231=comparision(W231)\n",
    "    #F232=comparision(W232)\n",
    "    #F233=comparision(W233)\n",
    "    F12=np.array([[1,1/3,2],[3,1,5],[1/2,1/5,1]])  # 此处直接假设出成对比较矩阵\n",
    "    F231=np.array([[1,1/3,1/5],[3,1,1/3],[5,3,1]])\n",
    "    F232=np.array([[1,2,7],[1/2,1,5],[1/7,1/5,1]])\n",
    "    F233=np.array([[1,1/3,1/7],[3,1,1/5],[7,5,1]])\n",
    "    \n",
    "    if isConsist(F12) and isConsist(F231) and isConsist(F232) and isConsist(F233):\n",
    "        W12=ReImpo(F12)\n",
    "        W231=ReImpo(F231)\n",
    "        W232=ReImpo(F232)\n",
    "        W233=ReImpo(F233)\n",
    "        W23=np.hstack([W231,W232,W233])\n",
    "    else:\n",
    "        print(\"成对比较矩阵不一致，请调整权重后重试！\")\n",
    "        return 0\n",
    "    n=len(W12)\n",
    "    C=np.zeros([1,n])\n",
    "    for i in range(n):\n",
    "        t=W23[i,:]\n",
    "        C[0,i]=sum((W12.T*t)[0])\n",
    "    return C"
   ]
  },
  {
   "cell_type": "code",
   "execution_count": 8,
   "metadata": {},
   "outputs": [],
   "source": [
    " def main():\n",
    "    print(\"这里是AHP的演示程序：\")\n",
    "    w=np.ones([3])  # W 为成对比较矩阵\n",
    "    C=ComImpo(w,w,w,w)\n",
    "    print('最佳方案为第',np.argmax(C)+1,'个方案.','综合推荐指数为',max(C[0,:]))"
   ]
  },
  {
   "cell_type": "code",
   "execution_count": 9,
   "metadata": {},
   "outputs": [
    {
     "name": "stdout",
     "output_type": "stream",
     "text": [
      "这里是AHP的演示程序：\n",
      "最佳方案为第 1 个方案. 综合推荐指数为 0.41756414543818826\n"
     ]
    }
   ],
   "source": [
    "if __name__ == '__main__':\n",
    "    main()\n",
    "    # print(__name__)"
   ]
  }
 ],
 "metadata": {
  "kernelspec": {
   "display_name": "Python 3",
   "language": "python",
   "name": "python3"
  },
  "language_info": {
   "codemirror_mode": {
    "name": "ipython",
    "version": 3
   },
   "file_extension": ".py",
   "mimetype": "text/x-python",
   "name": "python",
   "nbconvert_exporter": "python",
   "pygments_lexer": "ipython3",
   "version": "3.6.5"
  }
 },
 "nbformat": 4,
 "nbformat_minor": 2
}
