{
 "cells": [
  {
   "cell_type": "code",
   "execution_count": 4,
   "metadata": {},
   "outputs": [],
   "source": [
    "from graphviz import Digraph"
   ]
  },
  {
   "cell_type": "code",
   "execution_count": 56,
   "metadata": {},
   "outputs": [
    {
     "data": {
      "text/plain": [
       "'产品购课退课数量&金额计算流程图.gv.png'"
      ]
     },
     "execution_count": 56,
     "metadata": {},
     "output_type": "execute_result"
    }
   ],
   "source": [
    "gz=Digraph(\"产品购课退课数量&金额计算流程图\",'comment',None,None,'png',None,\"UTF-8\",\n",
    "           {'rankdir':'TB'},\n",
    "           {'color':'black','fontcolor':'black','fontname':'SimSun','fontsize':'12','style':'rounded','shape':'box'},\n",
    "           {'color':'#999999','fontcolor':'#888888','fontsize':'10','fontname':'SimSun'},None,False)\n",
    "\n",
    "gz.node('a','course',{'color':'blue','fontcolor':'blue'})\n",
    "gz.node('b','Courseedu_subject',{'color':'blue','fontcolor':'blue'})\n",
    "gz.node('c','course_subject',{'color':'blue','fontcolor':'blue'})\n",
    "gz.node('d','product_info_vip_db')\n",
    "\n",
    "gz.node('e','product_info_vip_ry20190614',{'color':'green','fontcolor':'green'})\n",
    "gz.node('f','product_info_relation')\n",
    "\n",
    "gz.node('g','pcenter_payment',{'color':'blue','fontcolor':'blue'})\n",
    "gz.node('h','pcenter_payment_buy')\n",
    "gz.node('i','pcenter_payment_buy_main')\n",
    "gz.node('j','product_vip_buy_ymd')\n",
    "gz.node('k','pcenter_payment_ref')\n",
    "gz.node('l','pcenter_payment_ref_main')\n",
    "gz.node('m','product_vip_ref_ymd')\n",
    "gz.node('n','product_vip',{'color':'red','fontcolor':'red'})\n",
    "\n",
    "a1 = set(['ad'])\n",
    "a2 = set(['bd'])\n",
    "a3 = set(['cd'])\n",
    "b1 = set(['ef'])\n",
    "\n",
    "gz.edges(a1|a2|a3|b1)\n",
    "# gz.edge('d','f','根据产品ProductID关联')\n",
    "gz.edge('d','g','根据产品ProductID关联')\n",
    "\n",
    "gz.edge('g','h','合并两种支付方式，计算购课金额')\n",
    "gz.edge('d','h','添加班级ID')\n",
    "gz.edge('f','h','添加主课程代码')\n",
    "\n",
    "gz.edge('h','i','计算每个用户每个订单主课程数量和金额')\n",
    "gz.edge('i','j','分别计算每日主课程和其他交费购课数量和金额')\n",
    "\n",
    "gz.edge('g','k','合并两种支付方式，计算退课金额')\n",
    "gz.edge('d','k','添加班级ID')\n",
    "gz.edge('f','k','添加主课程代码')\n",
    "gz.edge('k','l','计算每个用户每个订单主课程数量和金额')\n",
    "gz.edge('l','m','分别计算每日主课程和其他交费退课数量和金额')\n",
    "\n",
    "gz.edge('j','n','合并')\n",
    "gz.edge('m','n','合并')\n",
    "\n",
    "# print(gz.source)\n",
    "gz.view()"
   ]
  },
  {
   "cell_type": "code",
   "execution_count": 59,
   "metadata": {},
   "outputs": [
    {
     "data": {
      "text/plain": [
       "'产品退课原因数量&金额计算流程图.gv.png'"
      ]
     },
     "execution_count": 59,
     "metadata": {},
     "output_type": "execute_result"
    }
   ],
   "source": [
    "gz=Digraph(\"产品退课原因数量&金额计算流程图\",'comment',None,None,'png',None,\"UTF-8\",\n",
    "           {'rankdir':'TB'},\n",
    "           {'color':'black','fontcolor':'black','fontname':'SimSun','fontsize':'12','style':'rounded','shape':'box'},\n",
    "           {'color':'#999999','fontcolor':'#888888','fontsize':'10','fontname':'SimSun'},None,False)\n",
    "\n",
    "gz.node('a','course',{'color':'blue','fontcolor':'blue'})\n",
    "gz.node('b','Courseedu_subject',{'color':'blue','fontcolor':'blue'})\n",
    "gz.node('c','course_subject',{'color':'blue','fontcolor':'blue'})\n",
    "gz.node('d','product_info_vip_db')\n",
    "\n",
    "gz.node('e','product_info_vip_ry20190614',{'color':'green','fontcolor':'green'})\n",
    "gz.node('f','product_info_relation')\n",
    "\n",
    "gz.node('g','Pay_CourseFavourableCause',{'color':'blue','fontcolor':'blue'})\n",
    "gz.node('h','refund_reason_list')\n",
    "\n",
    "gz.node('i','pcenter_payment',{'color':'blue','fontcolor':'blue'})\n",
    "gz.node('j','product_refund')\n",
    "\n",
    "gz.node('k','Pay_Payment',{'color':'blue','fontcolor':'blue'})\n",
    "gz.node('l','Pay_PaymentRefundment',{'color':'blue','fontcolor':'blue'})\n",
    "gz.node('m','Pay_CourseFavourableCause',{'color':'blue','fontcolor':'blue'})\n",
    "\n",
    "gz.node('n','product_refund_caiwu')\n",
    "gz.node('o','product_refund_yewu')\n",
    "\n",
    "gz.node('p','Sale_OrderRefund',{'color':'blue','fontcolor':'blue'})\n",
    "gz.node('q','Sale_OrderRefundDetail',{'color':'blue','fontcolor':'blue'})\n",
    "gz.node('r','product_refund_list')\n",
    "\n",
    "gz.node('s','product_refund_total')\n",
    "\n",
    "gz.node('t','product_refund_t',{'color':'red','fontcolor':'red'})\n",
    "\n",
    "gz.edges(set(['ad'])|set(['bd'])|set(['cd'])|set(['ef'])|set(['gh'])|set(['ij'])|\n",
    "         set(['kn'])|set(['lk'])|set(['ml'])|set(['pr'])|set(['qp'])|\n",
    "         set(['ro'])|set(['js'])|set(['st']))\n",
    "\n",
    "gz.edge('n','j','合并')\n",
    "gz.edge('o','j','合并')\n",
    "gz.edge('h','s','添加原因名称')\n",
    "gz.edge('d','s','添加班级ID')\n",
    "gz.edge('f','s','添加主课程代码')\n",
    "gz.edge('d','k','提供产品ID')\n",
    "gz.edge('d','i','提供产品ID')\n",
    "gz.edge('n','p','提供财务表没有找到原因的产品ID')\n",
    "\n",
    "# print(gz.source)\n",
    "gz.view()"
   ]
  },
  {
   "cell_type": "code",
   "execution_count": 62,
   "metadata": {},
   "outputs": [
    {
     "data": {
      "text/plain": [
       "'会计网所有产品购课退课数量&金额计算流程图.gv.png'"
      ]
     },
     "execution_count": 62,
     "metadata": {},
     "output_type": "execute_result"
    }
   ],
   "source": [
    "gz=Digraph(\"会计网所有产品购课退课数量&金额计算流程图\",'comment',None,None,'png',None,\"UTF-8\",\n",
    "           {'rankdir':'TB'},\n",
    "           {'color':'black','fontcolor':'black','fontname':'SimSun','fontsize':'12','style':'rounded','shape':'box'},\n",
    "           {'color':'#999999','fontcolor':'#888888','fontsize':'10','fontname':'SimSun'},None,False)\n",
    "\n",
    "gz.node('a','pcenter_payment',{'color':'blue','fontcolor':'blue'})\n",
    "gz.node('b','pcenter_account',{'color':'blue','fontcolor':'blue'})\n",
    "gz.node('c','product_buy')\n",
    "gz.node('d','product_refund')\n",
    "gz.node('e','product_rechage')\n",
    "gz.node('f','product_rebate')\n",
    "gz.node('g','product_total',{'color':'red','fontcolor':'red'})\n",
    "\n",
    "gz.edges(set(['ac'])|set(['ad'])|set(['be'])|set(['bf'])|set(['cg'])|set(['dg'])|\n",
    "         set(['eg'])|set(['fg']))\n",
    "\n",
    "# gz.edge('d','g','根据产品ProductID关联')\n",
    "\n",
    "gz.view()"
   ]
  },
  {
   "cell_type": "code",
   "execution_count": null,
   "metadata": {},
   "outputs": [],
   "source": []
  }
 ],
 "metadata": {
  "kernelspec": {
   "display_name": "Python 3",
   "language": "python",
   "name": "python3"
  },
  "language_info": {
   "codemirror_mode": {
    "name": "ipython",
    "version": 3
   },
   "file_extension": ".py",
   "mimetype": "text/x-python",
   "name": "python",
   "nbconvert_exporter": "python",
   "pygments_lexer": "ipython3",
   "version": "3.6.5"
  }
 },
 "nbformat": 4,
 "nbformat_minor": 2
}
