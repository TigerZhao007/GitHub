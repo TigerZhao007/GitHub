{
 "cells": [
  {
   "cell_type": "code",
   "execution_count": 1,
   "metadata": {},
   "outputs": [],
   "source": [
    "import pymysql\n",
    "from bs4 import BeautifulSoup\n",
    "import pandas as pd\n",
    "from selenium import webdriver  \n",
    "import re\n",
    "import urllib"
   ]
  },
  {
   "cell_type": "code",
   "execution_count": 2,
   "metadata": {},
   "outputs": [],
   "source": [
    "conn = pymysql.connect(host='127.0.0.1',user = 'root', password = 's3438838', db = 'fangwu',charset=\"utf8\")"
   ]
  },
  {
   "cell_type": "code",
   "execution_count": 87,
   "metadata": {},
   "outputs": [],
   "source": [
    "cursor = conn.cursor()"
   ]
  },
  {
   "cell_type": "code",
   "execution_count": 88,
   "metadata": {},
   "outputs": [
    {
     "data": {
      "text/plain": [
       "0"
      ]
     },
     "execution_count": 88,
     "metadata": {},
     "output_type": "execute_result"
    }
   ],
   "source": [
    "# 如果数据表已经存在使用 execute() 方法删除表。\n",
    "cursor.execute(\"DROP TABLE IF EXISTS shangqiu_58tongcheng\")"
   ]
  },
  {
   "cell_type": "code",
   "execution_count": 89,
   "metadata": {},
   "outputs": [],
   "source": [
    "# 创建数据表SQL语句\n",
    "sql = \"\"\"CREATE TABLE shangqiu_58tongcheng (\n",
    "         houseid  CHAR(200) not null unique,\n",
    "         housename  text,\n",
    "         houseprice text,  \n",
    "         housearea text,\n",
    "         houselink text )\"\"\""
   ]
  },
  {
   "cell_type": "code",
   "execution_count": 90,
   "metadata": {},
   "outputs": [
    {
     "data": {
      "text/plain": [
       "0"
      ]
     },
     "execution_count": 90,
     "metadata": {},
     "output_type": "execute_result"
    }
   ],
   "source": [
    "cursor.execute(sql)\n",
    "#conn.close()"
   ]
  },
  {
   "cell_type": "code",
   "execution_count": 106,
   "metadata": {},
   "outputs": [
    {
     "data": {
      "text/plain": [
       "\"INSERT INTO shangqiu_58tongcheng(houseid,housename,houseprice,housearea,houselink)\\n         VALUES ('100002','房屋名字','房屋价格','房屋面积','房屋链接')\""
      ]
     },
     "execution_count": 106,
     "metadata": {},
     "output_type": "execute_result"
    }
   ],
   "source": [
    "# SQL 插入语句\n",
    "sql = \"\"\"INSERT INTO shangqiu_58tongcheng(houseid,housename,houseprice,housearea,houselink)\n",
    "         VALUES ('%s','%s','%s','%s','%s')\"\"\"%(item['houseid'], item['housename'], item['houseprice'],item['housearea'],item['houselink'])\n",
    "sql\n"
   ]
  },
  {
   "cell_type": "code",
   "execution_count": 107,
   "metadata": {},
   "outputs": [],
   "source": [
    "cursor.execute(sql)\n",
    "conn.commit()"
   ]
  },
  {
   "cell_type": "code",
   "execution_count": 109,
   "metadata": {},
   "outputs": [
    {
     "data": {
      "text/plain": [
       "{'housearea': '房屋面积',\n",
       " 'houseid': '1000002',\n",
       " 'houselink': '房屋链接',\n",
       " 'housename': '房屋名字',\n",
       " 'houseprice': '房屋价格'}"
      ]
     },
     "execution_count": 109,
     "metadata": {},
     "output_type": "execute_result"
    }
   ],
   "source": [
    "item = {\n",
    "    'houseid':'1000002',\n",
    "    'housename':'房屋名字',\n",
    "    'houseprice':'房屋价格',\n",
    "    'housearea':'房屋面积',\n",
    "    'houselink':'房屋链接'\n",
    "}\n",
    "#item = pd.DataFrame.from_dict(item,orient='index').T\n",
    "item"
   ]
  },
  {
   "cell_type": "code",
   "execution_count": 95,
   "metadata": {},
   "outputs": [
    {
     "data": {
      "text/plain": [
       "('100002', '房屋名字', '房屋价格', '房屋面积', '房屋链接')"
      ]
     },
     "execution_count": 95,
     "metadata": {},
     "output_type": "execute_result"
    }
   ],
   "source": [
    "item['houselink']\n",
    "item['housename']\n",
    "item['houseid'], item['housename'], item['houseprice'],item['housearea'],item['houselink']"
   ]
  },
  {
   "cell_type": "code",
   "execution_count": 110,
   "metadata": {},
   "outputs": [],
   "source": [
    "def savetosql(item):\n",
    "    sql = \"\"\"INSERT INTO shangqiu_58tongcheng(houseid,housename,houseprice,housearea,houselink)\n",
    "         VALUES ('%s','%s','%s','%s','%s')\"\"\"%(item['houseid'], item['housename'], item['houseprice'],item['housearea'],item['houselink'])\n",
    "    cursor.execute(sql)\n",
    "    conn.commit()"
   ]
  },
  {
   "cell_type": "code",
   "execution_count": 111,
   "metadata": {},
   "outputs": [],
   "source": [
    "savetosql(item)"
   ]
  },
  {
   "cell_type": "code",
   "execution_count": null,
   "metadata": {},
   "outputs": [],
   "source": []
  }
 ],
 "metadata": {
  "kernelspec": {
   "display_name": "Python 3",
   "language": "python",
   "name": "python3"
  },
  "language_info": {
   "codemirror_mode": {
    "name": "ipython",
    "version": 3
   },
   "file_extension": ".py",
   "mimetype": "text/x-python",
   "name": "python",
   "nbconvert_exporter": "python",
   "pygments_lexer": "ipython3",
   "version": "3.6.4"
  }
 },
 "nbformat": 4,
 "nbformat_minor": 2
}
