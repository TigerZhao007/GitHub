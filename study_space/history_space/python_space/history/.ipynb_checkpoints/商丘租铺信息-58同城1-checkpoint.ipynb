{
 "cells": [
  {
   "cell_type": "code",
   "execution_count": 21,
   "metadata": {},
   "outputs": [],
   "source": [
    "from bs4 import BeautifulSoup\n",
    "import pandas as pd\n",
    "from selenium import webdriver  \n",
    "import re\n",
    "import urllib\n",
    "import pymysql"
   ]
  },
  {
   "cell_type": "code",
   "execution_count": 22,
   "metadata": {},
   "outputs": [],
   "source": [
    "item = {\n",
    "    'houseid':'房屋编码',\n",
    "    'housename':'房屋名字',\n",
    "    'houseprice':'房屋价格',\n",
    "    'housearea':'房屋面积',\n",
    "    'houselink':'房屋链接'\n",
    "}\n",
    "item = pd.DataFrame.from_dict(item,orient='index').T"
   ]
  },
  {
   "cell_type": "code",
   "execution_count": 23,
   "metadata": {},
   "outputs": [],
   "source": [
    "url_list = ['http://sq.58.com/shengyizr/?PGTID=0d306b37-0040-5fb9-7fea-a369078878ba&ClickID=%s'%(str(num))\n",
    "        for num in range(1,63)]"
   ]
  },
  {
   "cell_type": "code",
   "execution_count": 24,
   "metadata": {},
   "outputs": [
    {
     "name": "stderr",
     "output_type": "stream",
     "text": [
      "D:\\Python\\lib\\site-packages\\selenium\\webdriver\\phantomjs\\webdriver.py:49: UserWarning: Selenium support for PhantomJS has been deprecated, please use headless versions of Chrome or Firefox instead\n",
      "  warnings.warn('Selenium support for PhantomJS has been deprecated, please use headless '\n"
     ]
    }
   ],
   "source": [
    "browser = webdriver.PhantomJS(executable_path=\"D:/Python/selenium/webdriver/phantomjs/bin/phantomjs.exe\")  "
   ]
  },
  {
   "cell_type": "code",
   "execution_count": 5,
   "metadata": {},
   "outputs": [
    {
     "name": "stdout",
     "output_type": "stream",
     "text": [
      "--------------------------------------------------------\n",
      "正在加载http://sq.58.com/shengyizr/?PGTID=0d306b37-0040-5fb9-7fea-a369078878ba&ClickID=1信息\n",
      "--------------------------------------------------------\n",
      "正在加载http://sq.58.com/shengyizr/?PGTID=0d306b37-0040-5fb9-7fea-a369078878ba&ClickID=2信息\n",
      "--------------------------------------------------------\n",
      "正在加载http://sq.58.com/shengyizr/?PGTID=0d306b37-0040-5fb9-7fea-a369078878ba&ClickID=3信息\n",
      "--------------------------------------------------------\n",
      "正在加载http://sq.58.com/shengyizr/?PGTID=0d306b37-0040-5fb9-7fea-a369078878ba&ClickID=4信息\n",
      "--------------------------------------------------------\n",
      "正在加载http://sq.58.com/shengyizr/?PGTID=0d306b37-0040-5fb9-7fea-a369078878ba&ClickID=5信息\n",
      "--------------------------------------------------------\n",
      "正在加载http://sq.58.com/shengyizr/?PGTID=0d306b37-0040-5fb9-7fea-a369078878ba&ClickID=6信息\n",
      "--------------------------------------------------------\n",
      "正在加载http://sq.58.com/shengyizr/?PGTID=0d306b37-0040-5fb9-7fea-a369078878ba&ClickID=7信息\n",
      "--------------------------------------------------------\n",
      "正在加载http://sq.58.com/shengyizr/?PGTID=0d306b37-0040-5fb9-7fea-a369078878ba&ClickID=8信息\n",
      "--------------------------------------------------------\n",
      "正在加载http://sq.58.com/shengyizr/?PGTID=0d306b37-0040-5fb9-7fea-a369078878ba&ClickID=9信息\n",
      "--------------------------------------------------------\n",
      "正在加载http://sq.58.com/shengyizr/?PGTID=0d306b37-0040-5fb9-7fea-a369078878ba&ClickID=10信息\n",
      "--------------------------------------------------------\n",
      "正在加载http://sq.58.com/shengyizr/?PGTID=0d306b37-0040-5fb9-7fea-a369078878ba&ClickID=11信息\n",
      "--------------------------------------------------------\n",
      "正在加载http://sq.58.com/shengyizr/?PGTID=0d306b37-0040-5fb9-7fea-a369078878ba&ClickID=12信息\n",
      "--------------------------------------------------------\n",
      "正在加载http://sq.58.com/shengyizr/?PGTID=0d306b37-0040-5fb9-7fea-a369078878ba&ClickID=13信息\n",
      "--------------------------------------------------------\n",
      "正在加载http://sq.58.com/shengyizr/?PGTID=0d306b37-0040-5fb9-7fea-a369078878ba&ClickID=14信息\n",
      "--------------------------------------------------------\n",
      "正在加载http://sq.58.com/shengyizr/?PGTID=0d306b37-0040-5fb9-7fea-a369078878ba&ClickID=15信息\n",
      "--------------------------------------------------------\n",
      "正在加载http://sq.58.com/shengyizr/?PGTID=0d306b37-0040-5fb9-7fea-a369078878ba&ClickID=16信息\n",
      "--------------------------------------------------------\n",
      "正在加载http://sq.58.com/shengyizr/?PGTID=0d306b37-0040-5fb9-7fea-a369078878ba&ClickID=17信息\n",
      "--------------------------------------------------------\n",
      "正在加载http://sq.58.com/shengyizr/?PGTID=0d306b37-0040-5fb9-7fea-a369078878ba&ClickID=18信息\n",
      "--------------------------------------------------------\n",
      "正在加载http://sq.58.com/shengyizr/?PGTID=0d306b37-0040-5fb9-7fea-a369078878ba&ClickID=19信息\n",
      "--------------------------------------------------------\n",
      "正在加载http://sq.58.com/shengyizr/?PGTID=0d306b37-0040-5fb9-7fea-a369078878ba&ClickID=20信息\n",
      "--------------------------------------------------------\n",
      "正在加载http://sq.58.com/shengyizr/?PGTID=0d306b37-0040-5fb9-7fea-a369078878ba&ClickID=21信息\n",
      "--------------------------------------------------------\n",
      "正在加载http://sq.58.com/shengyizr/?PGTID=0d306b37-0040-5fb9-7fea-a369078878ba&ClickID=22信息\n",
      "--------------------------------------------------------\n",
      "正在加载http://sq.58.com/shengyizr/?PGTID=0d306b37-0040-5fb9-7fea-a369078878ba&ClickID=23信息\n",
      "--------------------------------------------------------\n",
      "正在加载http://sq.58.com/shengyizr/?PGTID=0d306b37-0040-5fb9-7fea-a369078878ba&ClickID=24信息\n",
      "--------------------------------------------------------\n",
      "正在加载http://sq.58.com/shengyizr/?PGTID=0d306b37-0040-5fb9-7fea-a369078878ba&ClickID=25信息\n",
      "--------------------------------------------------------\n",
      "正在加载http://sq.58.com/shengyizr/?PGTID=0d306b37-0040-5fb9-7fea-a369078878ba&ClickID=26信息\n",
      "--------------------------------------------------------\n",
      "正在加载http://sq.58.com/shengyizr/?PGTID=0d306b37-0040-5fb9-7fea-a369078878ba&ClickID=27信息\n",
      "--------------------------------------------------------\n",
      "正在加载http://sq.58.com/shengyizr/?PGTID=0d306b37-0040-5fb9-7fea-a369078878ba&ClickID=28信息\n",
      "--------------------------------------------------------\n",
      "正在加载http://sq.58.com/shengyizr/?PGTID=0d306b37-0040-5fb9-7fea-a369078878ba&ClickID=29信息\n",
      "--------------------------------------------------------\n",
      "正在加载http://sq.58.com/shengyizr/?PGTID=0d306b37-0040-5fb9-7fea-a369078878ba&ClickID=30信息\n",
      "--------------------------------------------------------\n",
      "正在加载http://sq.58.com/shengyizr/?PGTID=0d306b37-0040-5fb9-7fea-a369078878ba&ClickID=31信息\n",
      "--------------------------------------------------------\n",
      "正在加载http://sq.58.com/shengyizr/?PGTID=0d306b37-0040-5fb9-7fea-a369078878ba&ClickID=32信息\n",
      "--------------------------------------------------------\n",
      "正在加载http://sq.58.com/shengyizr/?PGTID=0d306b37-0040-5fb9-7fea-a369078878ba&ClickID=33信息\n",
      "--------------------------------------------------------\n",
      "正在加载http://sq.58.com/shengyizr/?PGTID=0d306b37-0040-5fb9-7fea-a369078878ba&ClickID=34信息\n",
      "--------------------------------------------------------\n",
      "正在加载http://sq.58.com/shengyizr/?PGTID=0d306b37-0040-5fb9-7fea-a369078878ba&ClickID=35信息\n",
      "--------------------------------------------------------\n",
      "正在加载http://sq.58.com/shengyizr/?PGTID=0d306b37-0040-5fb9-7fea-a369078878ba&ClickID=36信息\n",
      "--------------------------------------------------------\n",
      "正在加载http://sq.58.com/shengyizr/?PGTID=0d306b37-0040-5fb9-7fea-a369078878ba&ClickID=37信息\n",
      "--------------------------------------------------------\n",
      "正在加载http://sq.58.com/shengyizr/?PGTID=0d306b37-0040-5fb9-7fea-a369078878ba&ClickID=38信息\n",
      "--------------------------------------------------------\n",
      "正在加载http://sq.58.com/shengyizr/?PGTID=0d306b37-0040-5fb9-7fea-a369078878ba&ClickID=39信息\n",
      "--------------------------------------------------------\n",
      "正在加载http://sq.58.com/shengyizr/?PGTID=0d306b37-0040-5fb9-7fea-a369078878ba&ClickID=40信息\n",
      "--------------------------------------------------------\n",
      "正在加载http://sq.58.com/shengyizr/?PGTID=0d306b37-0040-5fb9-7fea-a369078878ba&ClickID=41信息\n",
      "--------------------------------------------------------\n",
      "正在加载http://sq.58.com/shengyizr/?PGTID=0d306b37-0040-5fb9-7fea-a369078878ba&ClickID=42信息\n",
      "--------------------------------------------------------\n",
      "正在加载http://sq.58.com/shengyizr/?PGTID=0d306b37-0040-5fb9-7fea-a369078878ba&ClickID=43信息\n",
      "--------------------------------------------------------\n",
      "正在加载http://sq.58.com/shengyizr/?PGTID=0d306b37-0040-5fb9-7fea-a369078878ba&ClickID=44信息\n",
      "--------------------------------------------------------\n",
      "正在加载http://sq.58.com/shengyizr/?PGTID=0d306b37-0040-5fb9-7fea-a369078878ba&ClickID=45信息\n",
      "--------------------------------------------------------\n",
      "正在加载http://sq.58.com/shengyizr/?PGTID=0d306b37-0040-5fb9-7fea-a369078878ba&ClickID=46信息\n",
      "--------------------------------------------------------\n",
      "正在加载http://sq.58.com/shengyizr/?PGTID=0d306b37-0040-5fb9-7fea-a369078878ba&ClickID=47信息\n",
      "--------------------------------------------------------\n",
      "正在加载http://sq.58.com/shengyizr/?PGTID=0d306b37-0040-5fb9-7fea-a369078878ba&ClickID=48信息\n",
      "--------------------------------------------------------\n",
      "正在加载http://sq.58.com/shengyizr/?PGTID=0d306b37-0040-5fb9-7fea-a369078878ba&ClickID=49信息\n",
      "--------------------------------------------------------\n",
      "正在加载http://sq.58.com/shengyizr/?PGTID=0d306b37-0040-5fb9-7fea-a369078878ba&ClickID=50信息\n",
      "--------------------------------------------------------\n",
      "正在加载http://sq.58.com/shengyizr/?PGTID=0d306b37-0040-5fb9-7fea-a369078878ba&ClickID=51信息\n",
      "--------------------------------------------------------\n",
      "正在加载http://sq.58.com/shengyizr/?PGTID=0d306b37-0040-5fb9-7fea-a369078878ba&ClickID=52信息\n",
      "--------------------------------------------------------\n",
      "正在加载http://sq.58.com/shengyizr/?PGTID=0d306b37-0040-5fb9-7fea-a369078878ba&ClickID=53信息\n",
      "--------------------------------------------------------\n",
      "正在加载http://sq.58.com/shengyizr/?PGTID=0d306b37-0040-5fb9-7fea-a369078878ba&ClickID=54信息\n"
     ]
    },
    {
     "ename": "ConnectionResetError",
     "evalue": "[WinError 10054] 远程主机强迫关闭了一个现有的连接。",
     "output_type": "error",
     "traceback": [
      "\u001b[1;31m---------------------------------------------------------------------------\u001b[0m",
      "\u001b[1;31mConnectionResetError\u001b[0m                      Traceback (most recent call last)",
      "\u001b[1;32m<ipython-input-5-c7ff16bd41d6>\u001b[0m in \u001b[0;36m<module>\u001b[1;34m()\u001b[0m\n\u001b[0;32m      3\u001b[0m     \u001b[0mprint\u001b[0m\u001b[1;33m(\u001b[0m\u001b[1;34m'--------------------------------------------------------'\u001b[0m\u001b[1;33m)\u001b[0m\u001b[1;33m\u001b[0m\u001b[0m\n\u001b[0;32m      4\u001b[0m     \u001b[0mprint\u001b[0m\u001b[1;33m(\u001b[0m\u001b[1;34m'正在加载%s信息'\u001b[0m\u001b[1;33m%\u001b[0m\u001b[1;33m(\u001b[0m\u001b[0murl\u001b[0m\u001b[1;33m)\u001b[0m\u001b[1;33m)\u001b[0m\u001b[1;33m\u001b[0m\u001b[0m\n\u001b[1;32m----> 5\u001b[1;33m     \u001b[0mbrowser\u001b[0m\u001b[1;33m.\u001b[0m\u001b[0mget\u001b[0m\u001b[1;33m(\u001b[0m\u001b[0murl\u001b[0m\u001b[1;33m)\u001b[0m\u001b[1;33m\u001b[0m\u001b[0m\n\u001b[0m\u001b[0;32m      6\u001b[0m     \u001b[0mdata\u001b[0m \u001b[1;33m=\u001b[0m \u001b[0mbrowser\u001b[0m\u001b[1;33m.\u001b[0m\u001b[0mpage_source\u001b[0m\u001b[1;33m\u001b[0m\u001b[0m\n\u001b[0;32m      7\u001b[0m     \u001b[0msoup\u001b[0m \u001b[1;33m=\u001b[0m  \u001b[0mBeautifulSoup\u001b[0m\u001b[1;33m(\u001b[0m\u001b[0mdata\u001b[0m\u001b[1;33m,\u001b[0m\u001b[1;34m'lxml'\u001b[0m\u001b[1;33m)\u001b[0m\u001b[1;33m\u001b[0m\u001b[0m\n",
      "\u001b[1;32mD:\\Python\\lib\\site-packages\\selenium\\webdriver\\remote\\webdriver.py\u001b[0m in \u001b[0;36mget\u001b[1;34m(self, url)\u001b[0m\n\u001b[0;32m    322\u001b[0m         \u001b[0mLoads\u001b[0m \u001b[0ma\u001b[0m \u001b[0mweb\u001b[0m \u001b[0mpage\u001b[0m \u001b[1;32min\u001b[0m \u001b[0mthe\u001b[0m \u001b[0mcurrent\u001b[0m \u001b[0mbrowser\u001b[0m \u001b[0msession\u001b[0m\u001b[1;33m.\u001b[0m\u001b[1;33m\u001b[0m\u001b[0m\n\u001b[0;32m    323\u001b[0m         \"\"\"\n\u001b[1;32m--> 324\u001b[1;33m         \u001b[0mself\u001b[0m\u001b[1;33m.\u001b[0m\u001b[0mexecute\u001b[0m\u001b[1;33m(\u001b[0m\u001b[0mCommand\u001b[0m\u001b[1;33m.\u001b[0m\u001b[0mGET\u001b[0m\u001b[1;33m,\u001b[0m \u001b[1;33m{\u001b[0m\u001b[1;34m'url'\u001b[0m\u001b[1;33m:\u001b[0m \u001b[0murl\u001b[0m\u001b[1;33m}\u001b[0m\u001b[1;33m)\u001b[0m\u001b[1;33m\u001b[0m\u001b[0m\n\u001b[0m\u001b[0;32m    325\u001b[0m \u001b[1;33m\u001b[0m\u001b[0m\n\u001b[0;32m    326\u001b[0m     \u001b[1;33m@\u001b[0m\u001b[0mproperty\u001b[0m\u001b[1;33m\u001b[0m\u001b[0m\n",
      "\u001b[1;32mD:\\Python\\lib\\site-packages\\selenium\\webdriver\\remote\\webdriver.py\u001b[0m in \u001b[0;36mexecute\u001b[1;34m(self, driver_command, params)\u001b[0m\n\u001b[0;32m    308\u001b[0m \u001b[1;33m\u001b[0m\u001b[0m\n\u001b[0;32m    309\u001b[0m         \u001b[0mparams\u001b[0m \u001b[1;33m=\u001b[0m \u001b[0mself\u001b[0m\u001b[1;33m.\u001b[0m\u001b[0m_wrap_value\u001b[0m\u001b[1;33m(\u001b[0m\u001b[0mparams\u001b[0m\u001b[1;33m)\u001b[0m\u001b[1;33m\u001b[0m\u001b[0m\n\u001b[1;32m--> 310\u001b[1;33m         \u001b[0mresponse\u001b[0m \u001b[1;33m=\u001b[0m \u001b[0mself\u001b[0m\u001b[1;33m.\u001b[0m\u001b[0mcommand_executor\u001b[0m\u001b[1;33m.\u001b[0m\u001b[0mexecute\u001b[0m\u001b[1;33m(\u001b[0m\u001b[0mdriver_command\u001b[0m\u001b[1;33m,\u001b[0m \u001b[0mparams\u001b[0m\u001b[1;33m)\u001b[0m\u001b[1;33m\u001b[0m\u001b[0m\n\u001b[0m\u001b[0;32m    311\u001b[0m         \u001b[1;32mif\u001b[0m \u001b[0mresponse\u001b[0m\u001b[1;33m:\u001b[0m\u001b[1;33m\u001b[0m\u001b[0m\n\u001b[0;32m    312\u001b[0m             \u001b[0mself\u001b[0m\u001b[1;33m.\u001b[0m\u001b[0merror_handler\u001b[0m\u001b[1;33m.\u001b[0m\u001b[0mcheck_response\u001b[0m\u001b[1;33m(\u001b[0m\u001b[0mresponse\u001b[0m\u001b[1;33m)\u001b[0m\u001b[1;33m\u001b[0m\u001b[0m\n",
      "\u001b[1;32mD:\\Python\\lib\\site-packages\\selenium\\webdriver\\remote\\remote_connection.py\u001b[0m in \u001b[0;36mexecute\u001b[1;34m(self, command, params)\u001b[0m\n\u001b[0;32m    464\u001b[0m         \u001b[0mdata\u001b[0m \u001b[1;33m=\u001b[0m \u001b[0mutils\u001b[0m\u001b[1;33m.\u001b[0m\u001b[0mdump_json\u001b[0m\u001b[1;33m(\u001b[0m\u001b[0mparams\u001b[0m\u001b[1;33m)\u001b[0m\u001b[1;33m\u001b[0m\u001b[0m\n\u001b[0;32m    465\u001b[0m         \u001b[0murl\u001b[0m \u001b[1;33m=\u001b[0m \u001b[1;34m'%s%s'\u001b[0m \u001b[1;33m%\u001b[0m \u001b[1;33m(\u001b[0m\u001b[0mself\u001b[0m\u001b[1;33m.\u001b[0m\u001b[0m_url\u001b[0m\u001b[1;33m,\u001b[0m \u001b[0mpath\u001b[0m\u001b[1;33m)\u001b[0m\u001b[1;33m\u001b[0m\u001b[0m\n\u001b[1;32m--> 466\u001b[1;33m         \u001b[1;32mreturn\u001b[0m \u001b[0mself\u001b[0m\u001b[1;33m.\u001b[0m\u001b[0m_request\u001b[0m\u001b[1;33m(\u001b[0m\u001b[0mcommand_info\u001b[0m\u001b[1;33m[\u001b[0m\u001b[1;36m0\u001b[0m\u001b[1;33m]\u001b[0m\u001b[1;33m,\u001b[0m \u001b[0murl\u001b[0m\u001b[1;33m,\u001b[0m \u001b[0mbody\u001b[0m\u001b[1;33m=\u001b[0m\u001b[0mdata\u001b[0m\u001b[1;33m)\u001b[0m\u001b[1;33m\u001b[0m\u001b[0m\n\u001b[0m\u001b[0;32m    467\u001b[0m \u001b[1;33m\u001b[0m\u001b[0m\n\u001b[0;32m    468\u001b[0m     \u001b[1;32mdef\u001b[0m \u001b[0m_request\u001b[0m\u001b[1;33m(\u001b[0m\u001b[0mself\u001b[0m\u001b[1;33m,\u001b[0m \u001b[0mmethod\u001b[0m\u001b[1;33m,\u001b[0m \u001b[0murl\u001b[0m\u001b[1;33m,\u001b[0m \u001b[0mbody\u001b[0m\u001b[1;33m=\u001b[0m\u001b[1;32mNone\u001b[0m\u001b[1;33m)\u001b[0m\u001b[1;33m:\u001b[0m\u001b[1;33m\u001b[0m\u001b[0m\n",
      "\u001b[1;32mD:\\Python\\lib\\site-packages\\selenium\\webdriver\\remote\\remote_connection.py\u001b[0m in \u001b[0;36m_request\u001b[1;34m(self, method, url, body)\u001b[0m\n\u001b[0;32m    526\u001b[0m                 opener = url_request.build_opener(url_request.HTTPRedirectHandler(),\n\u001b[0;32m    527\u001b[0m                                                   HttpErrorHandler())\n\u001b[1;32m--> 528\u001b[1;33m             \u001b[0mresp\u001b[0m \u001b[1;33m=\u001b[0m \u001b[0mopener\u001b[0m\u001b[1;33m.\u001b[0m\u001b[0mopen\u001b[0m\u001b[1;33m(\u001b[0m\u001b[0mrequest\u001b[0m\u001b[1;33m,\u001b[0m \u001b[0mtimeout\u001b[0m\u001b[1;33m=\u001b[0m\u001b[0mself\u001b[0m\u001b[1;33m.\u001b[0m\u001b[0m_timeout\u001b[0m\u001b[1;33m)\u001b[0m\u001b[1;33m\u001b[0m\u001b[0m\n\u001b[0m\u001b[0;32m    529\u001b[0m             \u001b[0mstatuscode\u001b[0m \u001b[1;33m=\u001b[0m \u001b[0mresp\u001b[0m\u001b[1;33m.\u001b[0m\u001b[0mcode\u001b[0m\u001b[1;33m\u001b[0m\u001b[0m\n\u001b[0;32m    530\u001b[0m             \u001b[1;32mif\u001b[0m \u001b[1;32mnot\u001b[0m \u001b[0mhasattr\u001b[0m\u001b[1;33m(\u001b[0m\u001b[0mresp\u001b[0m\u001b[1;33m,\u001b[0m \u001b[1;34m'getheader'\u001b[0m\u001b[1;33m)\u001b[0m\u001b[1;33m:\u001b[0m\u001b[1;33m\u001b[0m\u001b[0m\n",
      "\u001b[1;32mD:\\Python\\lib\\urllib\\request.py\u001b[0m in \u001b[0;36mopen\u001b[1;34m(self, fullurl, data, timeout)\u001b[0m\n\u001b[0;32m    524\u001b[0m             \u001b[0mreq\u001b[0m \u001b[1;33m=\u001b[0m \u001b[0mmeth\u001b[0m\u001b[1;33m(\u001b[0m\u001b[0mreq\u001b[0m\u001b[1;33m)\u001b[0m\u001b[1;33m\u001b[0m\u001b[0m\n\u001b[0;32m    525\u001b[0m \u001b[1;33m\u001b[0m\u001b[0m\n\u001b[1;32m--> 526\u001b[1;33m         \u001b[0mresponse\u001b[0m \u001b[1;33m=\u001b[0m \u001b[0mself\u001b[0m\u001b[1;33m.\u001b[0m\u001b[0m_open\u001b[0m\u001b[1;33m(\u001b[0m\u001b[0mreq\u001b[0m\u001b[1;33m,\u001b[0m \u001b[0mdata\u001b[0m\u001b[1;33m)\u001b[0m\u001b[1;33m\u001b[0m\u001b[0m\n\u001b[0m\u001b[0;32m    527\u001b[0m \u001b[1;33m\u001b[0m\u001b[0m\n\u001b[0;32m    528\u001b[0m         \u001b[1;31m# post-process response\u001b[0m\u001b[1;33m\u001b[0m\u001b[1;33m\u001b[0m\u001b[0m\n",
      "\u001b[1;32mD:\\Python\\lib\\urllib\\request.py\u001b[0m in \u001b[0;36m_open\u001b[1;34m(self, req, data)\u001b[0m\n\u001b[0;32m    542\u001b[0m         \u001b[0mprotocol\u001b[0m \u001b[1;33m=\u001b[0m \u001b[0mreq\u001b[0m\u001b[1;33m.\u001b[0m\u001b[0mtype\u001b[0m\u001b[1;33m\u001b[0m\u001b[0m\n\u001b[0;32m    543\u001b[0m         result = self._call_chain(self.handle_open, protocol, protocol +\n\u001b[1;32m--> 544\u001b[1;33m                                   '_open', req)\n\u001b[0m\u001b[0;32m    545\u001b[0m         \u001b[1;32mif\u001b[0m \u001b[0mresult\u001b[0m\u001b[1;33m:\u001b[0m\u001b[1;33m\u001b[0m\u001b[0m\n\u001b[0;32m    546\u001b[0m             \u001b[1;32mreturn\u001b[0m \u001b[0mresult\u001b[0m\u001b[1;33m\u001b[0m\u001b[0m\n",
      "\u001b[1;32mD:\\Python\\lib\\urllib\\request.py\u001b[0m in \u001b[0;36m_call_chain\u001b[1;34m(self, chain, kind, meth_name, *args)\u001b[0m\n\u001b[0;32m    502\u001b[0m         \u001b[1;32mfor\u001b[0m \u001b[0mhandler\u001b[0m \u001b[1;32min\u001b[0m \u001b[0mhandlers\u001b[0m\u001b[1;33m:\u001b[0m\u001b[1;33m\u001b[0m\u001b[0m\n\u001b[0;32m    503\u001b[0m             \u001b[0mfunc\u001b[0m \u001b[1;33m=\u001b[0m \u001b[0mgetattr\u001b[0m\u001b[1;33m(\u001b[0m\u001b[0mhandler\u001b[0m\u001b[1;33m,\u001b[0m \u001b[0mmeth_name\u001b[0m\u001b[1;33m)\u001b[0m\u001b[1;33m\u001b[0m\u001b[0m\n\u001b[1;32m--> 504\u001b[1;33m             \u001b[0mresult\u001b[0m \u001b[1;33m=\u001b[0m \u001b[0mfunc\u001b[0m\u001b[1;33m(\u001b[0m\u001b[1;33m*\u001b[0m\u001b[0margs\u001b[0m\u001b[1;33m)\u001b[0m\u001b[1;33m\u001b[0m\u001b[0m\n\u001b[0m\u001b[0;32m    505\u001b[0m             \u001b[1;32mif\u001b[0m \u001b[0mresult\u001b[0m \u001b[1;32mis\u001b[0m \u001b[1;32mnot\u001b[0m \u001b[1;32mNone\u001b[0m\u001b[1;33m:\u001b[0m\u001b[1;33m\u001b[0m\u001b[0m\n\u001b[0;32m    506\u001b[0m                 \u001b[1;32mreturn\u001b[0m \u001b[0mresult\u001b[0m\u001b[1;33m\u001b[0m\u001b[0m\n",
      "\u001b[1;32mD:\\Python\\lib\\urllib\\request.py\u001b[0m in \u001b[0;36mhttp_open\u001b[1;34m(self, req)\u001b[0m\n\u001b[0;32m   1344\u001b[0m \u001b[1;33m\u001b[0m\u001b[0m\n\u001b[0;32m   1345\u001b[0m     \u001b[1;32mdef\u001b[0m \u001b[0mhttp_open\u001b[0m\u001b[1;33m(\u001b[0m\u001b[0mself\u001b[0m\u001b[1;33m,\u001b[0m \u001b[0mreq\u001b[0m\u001b[1;33m)\u001b[0m\u001b[1;33m:\u001b[0m\u001b[1;33m\u001b[0m\u001b[0m\n\u001b[1;32m-> 1346\u001b[1;33m         \u001b[1;32mreturn\u001b[0m \u001b[0mself\u001b[0m\u001b[1;33m.\u001b[0m\u001b[0mdo_open\u001b[0m\u001b[1;33m(\u001b[0m\u001b[0mhttp\u001b[0m\u001b[1;33m.\u001b[0m\u001b[0mclient\u001b[0m\u001b[1;33m.\u001b[0m\u001b[0mHTTPConnection\u001b[0m\u001b[1;33m,\u001b[0m \u001b[0mreq\u001b[0m\u001b[1;33m)\u001b[0m\u001b[1;33m\u001b[0m\u001b[0m\n\u001b[0m\u001b[0;32m   1347\u001b[0m \u001b[1;33m\u001b[0m\u001b[0m\n\u001b[0;32m   1348\u001b[0m     \u001b[0mhttp_request\u001b[0m \u001b[1;33m=\u001b[0m \u001b[0mAbstractHTTPHandler\u001b[0m\u001b[1;33m.\u001b[0m\u001b[0mdo_request_\u001b[0m\u001b[1;33m\u001b[0m\u001b[0m\n",
      "\u001b[1;32mD:\\Python\\lib\\urllib\\request.py\u001b[0m in \u001b[0;36mdo_open\u001b[1;34m(self, http_class, req, **http_conn_args)\u001b[0m\n\u001b[0;32m   1319\u001b[0m             \u001b[1;32mexcept\u001b[0m \u001b[0mOSError\u001b[0m \u001b[1;32mas\u001b[0m \u001b[0merr\u001b[0m\u001b[1;33m:\u001b[0m \u001b[1;31m# timeout error\u001b[0m\u001b[1;33m\u001b[0m\u001b[0m\n\u001b[0;32m   1320\u001b[0m                 \u001b[1;32mraise\u001b[0m \u001b[0mURLError\u001b[0m\u001b[1;33m(\u001b[0m\u001b[0merr\u001b[0m\u001b[1;33m)\u001b[0m\u001b[1;33m\u001b[0m\u001b[0m\n\u001b[1;32m-> 1321\u001b[1;33m             \u001b[0mr\u001b[0m \u001b[1;33m=\u001b[0m \u001b[0mh\u001b[0m\u001b[1;33m.\u001b[0m\u001b[0mgetresponse\u001b[0m\u001b[1;33m(\u001b[0m\u001b[1;33m)\u001b[0m\u001b[1;33m\u001b[0m\u001b[0m\n\u001b[0m\u001b[0;32m   1322\u001b[0m         \u001b[1;32mexcept\u001b[0m\u001b[1;33m:\u001b[0m\u001b[1;33m\u001b[0m\u001b[0m\n\u001b[0;32m   1323\u001b[0m             \u001b[0mh\u001b[0m\u001b[1;33m.\u001b[0m\u001b[0mclose\u001b[0m\u001b[1;33m(\u001b[0m\u001b[1;33m)\u001b[0m\u001b[1;33m\u001b[0m\u001b[0m\n",
      "\u001b[1;32mD:\\Python\\lib\\http\\client.py\u001b[0m in \u001b[0;36mgetresponse\u001b[1;34m(self)\u001b[0m\n\u001b[0;32m   1329\u001b[0m         \u001b[1;32mtry\u001b[0m\u001b[1;33m:\u001b[0m\u001b[1;33m\u001b[0m\u001b[0m\n\u001b[0;32m   1330\u001b[0m             \u001b[1;32mtry\u001b[0m\u001b[1;33m:\u001b[0m\u001b[1;33m\u001b[0m\u001b[0m\n\u001b[1;32m-> 1331\u001b[1;33m                 \u001b[0mresponse\u001b[0m\u001b[1;33m.\u001b[0m\u001b[0mbegin\u001b[0m\u001b[1;33m(\u001b[0m\u001b[1;33m)\u001b[0m\u001b[1;33m\u001b[0m\u001b[0m\n\u001b[0m\u001b[0;32m   1332\u001b[0m             \u001b[1;32mexcept\u001b[0m \u001b[0mConnectionError\u001b[0m\u001b[1;33m:\u001b[0m\u001b[1;33m\u001b[0m\u001b[0m\n\u001b[0;32m   1333\u001b[0m                 \u001b[0mself\u001b[0m\u001b[1;33m.\u001b[0m\u001b[0mclose\u001b[0m\u001b[1;33m(\u001b[0m\u001b[1;33m)\u001b[0m\u001b[1;33m\u001b[0m\u001b[0m\n",
      "\u001b[1;32mD:\\Python\\lib\\http\\client.py\u001b[0m in \u001b[0;36mbegin\u001b[1;34m(self)\u001b[0m\n\u001b[0;32m    295\u001b[0m         \u001b[1;31m# read until we get a non-100 response\u001b[0m\u001b[1;33m\u001b[0m\u001b[1;33m\u001b[0m\u001b[0m\n\u001b[0;32m    296\u001b[0m         \u001b[1;32mwhile\u001b[0m \u001b[1;32mTrue\u001b[0m\u001b[1;33m:\u001b[0m\u001b[1;33m\u001b[0m\u001b[0m\n\u001b[1;32m--> 297\u001b[1;33m             \u001b[0mversion\u001b[0m\u001b[1;33m,\u001b[0m \u001b[0mstatus\u001b[0m\u001b[1;33m,\u001b[0m \u001b[0mreason\u001b[0m \u001b[1;33m=\u001b[0m \u001b[0mself\u001b[0m\u001b[1;33m.\u001b[0m\u001b[0m_read_status\u001b[0m\u001b[1;33m(\u001b[0m\u001b[1;33m)\u001b[0m\u001b[1;33m\u001b[0m\u001b[0m\n\u001b[0m\u001b[0;32m    298\u001b[0m             \u001b[1;32mif\u001b[0m \u001b[0mstatus\u001b[0m \u001b[1;33m!=\u001b[0m \u001b[0mCONTINUE\u001b[0m\u001b[1;33m:\u001b[0m\u001b[1;33m\u001b[0m\u001b[0m\n\u001b[0;32m    299\u001b[0m                 \u001b[1;32mbreak\u001b[0m\u001b[1;33m\u001b[0m\u001b[0m\n",
      "\u001b[1;32mD:\\Python\\lib\\http\\client.py\u001b[0m in \u001b[0;36m_read_status\u001b[1;34m(self)\u001b[0m\n\u001b[0;32m    256\u001b[0m \u001b[1;33m\u001b[0m\u001b[0m\n\u001b[0;32m    257\u001b[0m     \u001b[1;32mdef\u001b[0m \u001b[0m_read_status\u001b[0m\u001b[1;33m(\u001b[0m\u001b[0mself\u001b[0m\u001b[1;33m)\u001b[0m\u001b[1;33m:\u001b[0m\u001b[1;33m\u001b[0m\u001b[0m\n\u001b[1;32m--> 258\u001b[1;33m         \u001b[0mline\u001b[0m \u001b[1;33m=\u001b[0m \u001b[0mstr\u001b[0m\u001b[1;33m(\u001b[0m\u001b[0mself\u001b[0m\u001b[1;33m.\u001b[0m\u001b[0mfp\u001b[0m\u001b[1;33m.\u001b[0m\u001b[0mreadline\u001b[0m\u001b[1;33m(\u001b[0m\u001b[0m_MAXLINE\u001b[0m \u001b[1;33m+\u001b[0m \u001b[1;36m1\u001b[0m\u001b[1;33m)\u001b[0m\u001b[1;33m,\u001b[0m \u001b[1;34m\"iso-8859-1\"\u001b[0m\u001b[1;33m)\u001b[0m\u001b[1;33m\u001b[0m\u001b[0m\n\u001b[0m\u001b[0;32m    259\u001b[0m         \u001b[1;32mif\u001b[0m \u001b[0mlen\u001b[0m\u001b[1;33m(\u001b[0m\u001b[0mline\u001b[0m\u001b[1;33m)\u001b[0m \u001b[1;33m>\u001b[0m \u001b[0m_MAXLINE\u001b[0m\u001b[1;33m:\u001b[0m\u001b[1;33m\u001b[0m\u001b[0m\n\u001b[0;32m    260\u001b[0m             \u001b[1;32mraise\u001b[0m \u001b[0mLineTooLong\u001b[0m\u001b[1;33m(\u001b[0m\u001b[1;34m\"status line\"\u001b[0m\u001b[1;33m)\u001b[0m\u001b[1;33m\u001b[0m\u001b[0m\n",
      "\u001b[1;32mD:\\Python\\lib\\socket.py\u001b[0m in \u001b[0;36mreadinto\u001b[1;34m(self, b)\u001b[0m\n\u001b[0;32m    584\u001b[0m         \u001b[1;32mwhile\u001b[0m \u001b[1;32mTrue\u001b[0m\u001b[1;33m:\u001b[0m\u001b[1;33m\u001b[0m\u001b[0m\n\u001b[0;32m    585\u001b[0m             \u001b[1;32mtry\u001b[0m\u001b[1;33m:\u001b[0m\u001b[1;33m\u001b[0m\u001b[0m\n\u001b[1;32m--> 586\u001b[1;33m                 \u001b[1;32mreturn\u001b[0m \u001b[0mself\u001b[0m\u001b[1;33m.\u001b[0m\u001b[0m_sock\u001b[0m\u001b[1;33m.\u001b[0m\u001b[0mrecv_into\u001b[0m\u001b[1;33m(\u001b[0m\u001b[0mb\u001b[0m\u001b[1;33m)\u001b[0m\u001b[1;33m\u001b[0m\u001b[0m\n\u001b[0m\u001b[0;32m    587\u001b[0m             \u001b[1;32mexcept\u001b[0m \u001b[0mtimeout\u001b[0m\u001b[1;33m:\u001b[0m\u001b[1;33m\u001b[0m\u001b[0m\n\u001b[0;32m    588\u001b[0m                 \u001b[0mself\u001b[0m\u001b[1;33m.\u001b[0m\u001b[0m_timeout_occurred\u001b[0m \u001b[1;33m=\u001b[0m \u001b[1;32mTrue\u001b[0m\u001b[1;33m\u001b[0m\u001b[0m\n",
      "\u001b[1;31mConnectionResetError\u001b[0m: [WinError 10054] 远程主机强迫关闭了一个现有的连接。"
     ]
    }
   ],
   "source": [
    "# 保存为CSV数据\n",
    "item_list = pd.DataFrame()\n",
    "for url in url_list:\n",
    "    print('--------------------------------------------------------')\n",
    "    print('正在加载%s信息'%(url))\n",
    "    browser.get(url)\n",
    "    data = browser.page_source\n",
    "    soup =  BeautifulSoup(data,'lxml')\n",
    "    lis1 = soup.find('div',attrs={'class':'content-side-left'}).find('ul',attrs={'class':'house-list-wrap'}).find_all('li')\n",
    "    for lis in lis1:  \n",
    "        try:\n",
    "           # print('爬取房源%s信息'%(lis['data-aid']))\n",
    "            item['houseid'] = lis['sortid'].replace(\"\\n\", \"\").strip(' ')\n",
    "            item['houselink'] = lis.find('div',attrs={'class':'list-info'}).find('a')['href'].replace(\"\\n\", \"\").strip(' ')\n",
    "            item['housename'] = lis.find('div',attrs={'class':'list-info'}).find('span',attrs={'class':'title_des'}).getText().replace(\"\\n\", \"\").strip(' ')\n",
    "            item['houseprice'] = lis.find('div',attrs={'class':'price'}).getText().replace(\"\\n\", \"\").strip(' ')\n",
    "            item['housearea'] = lis.find('p',attrs={'class':'baseinfo'}).getText().replace(\"\\n\", \"\").strip(' ')\n",
    "            item_list = item_list.append(item)\n",
    "        except:\n",
    "            print('爬取房源失败')\n",
    "#item_list.to_csv(\"C:/Users/Think/Desktop/test.csv\",index=False,sep=',',encoding='utf_8_sig')"
   ]
  },
  {
   "cell_type": "code",
   "execution_count": null,
   "metadata": {},
   "outputs": [],
   "source": []
  }
 ],
 "metadata": {
  "kernelspec": {
   "display_name": "Python 3",
   "language": "python",
   "name": "python3"
  },
  "language_info": {
   "codemirror_mode": {
    "name": "ipython",
    "version": 3
   },
   "file_extension": ".py",
   "mimetype": "text/x-python",
   "name": "python",
   "nbconvert_exporter": "python",
   "pygments_lexer": "ipython3",
   "version": "3.6.4"
  }
 },
 "nbformat": 4,
 "nbformat_minor": 2
}
