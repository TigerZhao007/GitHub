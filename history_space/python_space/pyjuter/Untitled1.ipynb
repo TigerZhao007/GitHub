{
 "cells": [
  {
   "cell_type": "code",
   "execution_count": 2,
   "metadata": {},
   "outputs": [],
   "source": [
    "import requests"
   ]
  },
  {
   "cell_type": "code",
   "execution_count": 3,
   "metadata": {},
   "outputs": [],
   "source": [
    "from bs4 import BeautifulSoup"
   ]
  },
  {
   "cell_type": "code",
   "execution_count": 4,
   "metadata": {},
   "outputs": [],
   "source": [
    "url = 'https://mini.eastday.com/a/180728145736142.html?qid=01333'"
   ]
  },
  {
   "cell_type": "code",
   "execution_count": 7,
   "metadata": {},
   "outputs": [],
   "source": [
    "soup = requests.get(url).content\n"
   ]
  },
  {
   "cell_type": "code",
   "execution_count": 9,
   "metadata": {},
   "outputs": [],
   "source": [
    "req = BeautifulSoup(soup, 'lxml')"
   ]
  },
  {
   "cell_type": "code",
   "execution_count": 14,
   "metadata": {},
   "outputs": [],
   "source": [
    "text = req.find('div',attrs = {'class':'section'}).find('div',attrs = {'class':'detail_left_cnt'}).text"
   ]
  },
  {
   "cell_type": "code",
   "execution_count": 15,
   "metadata": {},
   "outputs": [
    {
     "data": {
      "text/plain": [
       "'他是赵薇的前男友，两人已分手20年，至今还纠缠不清！2018-07-28 14:57 伽伽乐 我要反馈    0  ALLFUN.Ad.btxf()  如今的赵薇和当年那个有勇无谋的小燕子大大的不同，不少人都认为这一切都是来自她的老公黄有龙，这也是能说明赵薇的命好，能嫁到一个这么好的老公，其实赵薇以前交往过的男友都不是泛泛之辈。 大家都知道赵薇的成名之作就是《还珠格格》，也正是在拍这部剧的时候，赵薇就有一个男友叫叶茂青，赵薇能出演小燕子这个角色叶茂青起到了一定的作用。 叶茂青是有名的富二代，叶家的生意庞大，从叶茂青37岁接管家族企业的时候，他的资产就高达120亿，赵薇一直都知道自己想要的是什么，所交往过的男友都绝对不是平凡之人。  '"
      ]
     },
     "execution_count": 15,
     "metadata": {},
     "output_type": "execute_result"
    }
   ],
   "source": [
    "text"
   ]
  },
  {
   "cell_type": "code",
   "execution_count": null,
   "metadata": {},
   "outputs": [],
   "source": []
  },
  {
   "cell_type": "code",
   "execution_count": null,
   "metadata": {},
   "outputs": [],
   "source": []
  }
 ],
 "metadata": {
  "kernelspec": {
   "display_name": "Python 3",
   "language": "python",
   "name": "python3"
  },
  "language_info": {
   "codemirror_mode": {
    "name": "ipython",
    "version": 3
   },
   "file_extension": ".py",
   "mimetype": "text/x-python",
   "name": "python",
   "nbconvert_exporter": "python",
   "pygments_lexer": "ipython3",
   "version": "3.6.4"
  }
 },
 "nbformat": 4,
 "nbformat_minor": 2
}
