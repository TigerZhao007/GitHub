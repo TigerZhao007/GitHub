{
 "cells": [
  {
   "cell_type": "code",
   "execution_count": 1,
   "metadata": {
    "collapsed": true
   },
   "outputs": [],
   "source": [
    "import requests\n",
    "from bs4 import BeautifulSoup\n",
    "import pandas as pd"
   ]
  },
  {
   "cell_type": "code",
   "execution_count": 39,
   "metadata": {
    "collapsed": true
   },
   "outputs": [],
   "source": [
    "url = 'https://www.che168.com/nanjing/0_3/a0_0msdgscncgpi1ltocsp1exx0/'\n",
    "headers = {'User-Agent':'Mozilla/5.0 (Windows NT 6.1; Win64; x64) AppleWebKit/537.36 (KHTML, like Gecko) Chrome/63.0.3239.132 Safari/537.36'}"
   ]
  },
  {
   "cell_type": "code",
   "execution_count": 40,
   "metadata": {
    "collapsed": true
   },
   "outputs": [],
   "source": [
    "resq = requests.get(url,headers).content\n",
    "soup = BeautifulSoup(resq, 'lxml')"
   ]
  },
  {
   "cell_type": "code",
   "execution_count": 41,
   "metadata": {},
   "outputs": [],
   "source": [
    "lis = soup.find('div', attrs={'class':'content fn-clear card-wrap'}).find_all('li',attrs={'class':'list-photo-li','iscxlm':'0'})"
   ]
  },
  {
   "cell_type": "code",
   "execution_count": 49,
   "metadata": {
    "scrolled": true
   },
   "outputs": [
    {
     "name": "stdout",
     "output_type": "stream",
     "text": [
      "奥迪A6 01款 1.8T\n",
      "名爵7 2009款 1.8T 手动舒适版\n",
      "名爵3 2011款 1.3L AMT舒适版\n",
      "桑塔纳经典 05款 1.8 世纪新秀\n",
      "名爵7 2008款 1.8T 手动豪华运动版\n",
      "奥迪A6 2004款 2.4L 豪华舒适\n",
      "蒙迪欧 2004款 2.5L 旗舰型\n",
      "君越 2007款 2.4 豪华导航版\n",
      "高尔夫 04款 1.8 自动舒适\n",
      "蒙迪欧 2006款 2.0L 尊贵型\n",
      "天语 SX4 2007款 两厢 1.6L 手动豪华型\n",
      "蒙迪欧 2006款 2.0L 精英版\n",
      "奔腾B70 2007款 2.0L 自动豪华型\n",
      "雨燕 2005款 1.3L 自动豪华型\n",
      "桑塔纳经典 06款 1.8 手动豪华型\n",
      "君威 2004款 2.5L 豪华型\n",
      "飞度 2008款 1.5L 手动豪华版\n",
      "荣威550 2008款 550S 1.8T 自动品智版\n",
      "君威 2004款 2.5L 豪华型\n",
      "帕萨特 03款 1.8 手动挡\n",
      "奔腾B70 2007款 2.0L 自动豪华型\n",
      "阳光 2005款 2.0LS 自动\n",
      "标致307 2010款 三厢 1.6L 自动舒适版\n",
      "宝骏630 2013款 1.5L 手动舒适型\n",
      "君越 2006款 2.4 舒适型\n",
      "金刚财富 2012款 1.5L 精英型\n",
      "伊兰特 2007款 1.6L 两厢自动豪华型\n",
      "君威 2005款 2.5L G豪华版\n",
      "中华骏捷FRV 2008款 1.6L 手动豪华型\n",
      "凯旋 2006款 2.0L 手动精英型\n",
      "阳光 2005款 2.0E 自动\n",
      "嘉年华 2005款 1.6L 自动豪华型\n",
      "君威 2005款 2.5L G基本型\n",
      "阳光 2005款 2.0LS 自动\n",
      "凯越 2005款 1.8 自动豪华型\n",
      "五菱荣光 2014款 1.2L S 标准型\n",
      "菱智 2011款 Q3 2.0L 短轴标准版\n",
      "长安CX20 2011款 1.3L 手动舒适版\n",
      "伊兰特 2004款 1.8L 自动豪华型\n",
      "标致307 2010款 三厢 1.6L 自动舒适版\n",
      "凯越 2004款 1.8 自动顶级版\n",
      "中华骏捷 2006款 1.8L 手动舒适型\n",
      "凯越 2008款 1.8LE-AT\n",
      "Polo 2004款 三厢 1.4L 自动豪华型\n",
      "千里马 2005款 1.3L MT GL\n",
      "标致307 2009款 三厢 1.6L 手动爱乐版\n",
      "瑞风 2008款 2.0L穿梭 汽油 简配前后空调型\n",
      "桑塔纳志俊 2006款 1.8L 手动基本型\n",
      "熊猫 2010款 爱她版 1.3L 自动尊贵型\n",
      "福克斯 2005款 三厢 1.8L 自动时尚型\n",
      "瑞风 2007款 2.4L祥和 汽油 手动豪华型HFC4GA1\n",
      "五菱之光 2013款 1.0L 实用型\n",
      "海马3 2007款 1.8L 标准型GL\n",
      "凯越 2008款 HRV 1.6LE-ATNavi\n",
      "凯越 2008款 1.8LE-AT\n",
      "福克斯 2009款 三厢 1.8L 手动舒适型\n",
      "凯越 2008款 1.6LE-AT\n",
      "凯越 2008款 1.6LE-MT\n",
      "颐达 2008款 1.6L 手动时尚型\n",
      "乐驰 2009款 1.0L 手动舒适型\n"
     ]
    }
   ],
   "source": [
    "for li in lis:\n",
    "    \n",
    "   print(li['carname'])\n",
    "    \n",
    "    \n",
    "\n",
    "    \n"
   ]
  },
  {
   "cell_type": "code",
   "execution_count": null,
   "metadata": {
    "collapsed": true
   },
   "outputs": [],
   "source": [
    "https://www.che168.com/dealer/125860/29495345.html?pvareaid=100519\n",
    "    \n",
    "#pos=1#page=1#rtype=10#isrecom=1\n",
    "\n",
    "#filter=0aa50_0a0_0a0_0#module=10#refreshid=0#recomid=24544099\n"
   ]
  },
  {
   "cell_type": "code",
   "execution_count": 43,
   "metadata": {},
   "outputs": [
    {
     "data": {
      "text/plain": [
       "'1'"
      ]
     },
     "execution_count": 43,
     "metadata": {},
     "output_type": "execute_result"
    }
   ],
   "source": [
    "lis[0]['pos']"
   ]
  },
  {
   "cell_type": "code",
   "execution_count": 44,
   "metadata": {},
   "outputs": [
    {
     "data": {
      "text/plain": [
       "'/dealer/340715/28206077.html?pvareaid=100519'"
      ]
     },
     "execution_count": 44,
     "metadata": {},
     "output_type": "execute_result"
    }
   ],
   "source": [
    "lis[0].find('a',attrs={'class':'carinfo'})['href']"
   ]
  },
  {
   "cell_type": "code",
   "execution_count": 23,
   "metadata": {},
   "outputs": [
    {
     "data": {
      "text/plain": [
       "'1'"
      ]
     },
     "execution_count": 23,
     "metadata": {},
     "output_type": "execute_result"
    }
   ],
   "source": [
    "lis[0]['page']"
   ]
  },
  {
   "cell_type": "code",
   "execution_count": null,
   "metadata": {},
   "outputs": [],
   "source": []
  },
  {
   "cell_type": "code",
   "execution_count": 35,
   "metadata": {},
   "outputs": [
    {
     "data": {
      "text/plain": [
       "'https://www.che168.com//dealer/340715/28206077.html?pvareaid=100519#pos=1#page=1#rtype=10#isrecom=0#filter=0aa0_3a0_0a0_0#module=10#refreshid=0#recomid=0'"
      ]
     },
     "execution_count": 35,
     "metadata": {},
     "output_type": "execute_result"
    }
   ],
   "source": [
    "'https://www.che168.com/' + lis[0].find('a',attrs={'class':'carinfo'})['href'] + '#pos=' +lis[0]['pos'] + '#page=' + lis[0]['page'] + '#rtype=10' + '#isrecom=' + lis[0]['isrecom'] + '#filter=' + lis[0]['filter'] + '#module=10' +  '#refreshid=' + lis[0]['refreshid'] + '#recomid=' + lis[0]['recomid']\n"
   ]
  },
  {
   "cell_type": "code",
   "execution_count": null,
   "metadata": {
    "collapsed": true
   },
   "outputs": [],
   "source": [
    "\n"
   ]
  }
 ],
 "metadata": {
  "kernelspec": {
   "display_name": "Python 3",
   "language": "python",
   "name": "python3"
  },
  "language_info": {
   "codemirror_mode": {
    "name": "ipython",
    "version": 3
   },
   "file_extension": ".py",
   "mimetype": "text/x-python",
   "name": "python",
   "nbconvert_exporter": "python",
   "pygments_lexer": "ipython3",
   "version": "3.6.3"
  }
 },
 "nbformat": 4,
 "nbformat_minor": 2
}
