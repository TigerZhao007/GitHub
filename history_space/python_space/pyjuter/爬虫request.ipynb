{
 "cells": [
  {
   "cell_type": "code",
   "execution_count": 1,
   "metadata": {},
   "outputs": [],
   "source": [
    "import urllib.request\n",
    "import datetime\n",
    "import re\n",
    "import os\n",
    "import urllib\n"
   ]
  },
  {
   "cell_type": "code",
   "execution_count": 2,
   "metadata": {},
   "outputs": [],
   "source": [
    "url = \"http://tieba.baidu.com/p/2460150866\"\n",
    "headers = {'User-Agent':'Mozilla/5.0 (Windows NT 10.0; Win64; x64) AppleWebKit/537.36 (KHTML, like Gecko) Chrome/61.0.3163.100 Safari/537.36'}\n",
    "path = 'C:\\\\Users\\\\Think\\\\Desktop\\\\pythondownload\\\\' "
   ]
  },
  {
   "cell_type": "code",
   "execution_count": 3,
   "metadata": {},
   "outputs": [],
   "source": [
    "#首先我们先导入requests这个包\n",
    "import requests\n",
    "\n",
    "#我们来吧百度的index页面的html源码抓取到本地，并用r变量保存\n",
    "#注意这里，网页前面的 http://一定要写出来，它并不能像真正的浏览器一样帮我们补全http协议\n",
    "r = requests.get(\"http://www.baidu.com\")"
   ]
  },
  {
   "cell_type": "code",
   "execution_count": 4,
   "metadata": {},
   "outputs": [
    {
     "data": {
      "text/plain": [
       "<Response [200]>"
      ]
     },
     "execution_count": 4,
     "metadata": {},
     "output_type": "execute_result"
    }
   ],
   "source": [
    "r"
   ]
  },
  {
   "cell_type": "code",
   "execution_count": 5,
   "metadata": {},
   "outputs": [
    {
     "data": {
      "text/plain": [
       "'<!DOCTYPE html>\\r\\n<!--STATUS OK--><html> <head><meta http-equiv=content-type content=text/html;charset=utf-8><meta http-equiv=X-UA-Compatible content=IE=Edge><meta content=always name=referrer><link rel=stylesheet type=text/css href=http://s1.bdstatic.com/r/www/cache/bdorz/baidu.min.css><title>ç\\x99¾åº¦ä¸\\x80ä¸\\x8bï¼\\x8cä½\\xa0å°±ç\\x9f¥é\\x81\\x93</title></head> <body link=#0000cc> <div id=wrapper> <div id=head> <div class=head_wrapper> <div class=s_form> <div class=s_form_wrapper> <div id=lg> <img hidefocus=true src=//www.baidu.com/img/bd_logo1.png width=270 height=129> </div> <form id=form name=f action=//www.baidu.com/s class=fm> <input type=hidden name=bdorz_come value=1> <input type=hidden name=ie value=utf-8> <input type=hidden name=f value=8> <input type=hidden name=rsv_bp value=1> <input type=hidden name=rsv_idx value=1> <input type=hidden name=tn value=baidu><span class=\"bg s_ipt_wr\"><input id=kw name=wd class=s_ipt value maxlength=255 autocomplete=off autofocus></span><span class=\"bg s_btn_wr\"><input type=submit id=su value=ç\\x99¾åº¦ä¸\\x80ä¸\\x8b class=\"bg s_btn\"></span> </form> </div> </div> <div id=u1> <a href=http://news.baidu.com name=tj_trnews class=mnav>æ\\x96°é\\x97»</a> <a href=http://www.hao123.com name=tj_trhao123 class=mnav>hao123</a> <a href=http://map.baidu.com name=tj_trmap class=mnav>å\\x9c°å\\x9b¾</a> <a href=http://v.baidu.com name=tj_trvideo class=mnav>è§\\x86é¢\\x91</a> <a href=http://tieba.baidu.com name=tj_trtieba class=mnav>è´´å\\x90§</a> <noscript> <a href=http://www.baidu.com/bdorz/login.gif?login&amp;tpl=mn&amp;u=http%3A%2F%2Fwww.baidu.com%2f%3fbdorz_come%3d1 name=tj_login class=lb>ç\\x99»å½\\x95</a> </noscript> <script>document.write(\\'<a href=\"http://www.baidu.com/bdorz/login.gif?login&tpl=mn&u=\\'+ encodeURIComponent(window.location.href+ (window.location.search === \"\" ? \"?\" : \"&\")+ \"bdorz_come=1\")+ \\'\" name=\"tj_login\" class=\"lb\">ç\\x99»å½\\x95</a>\\');</script> <a href=//www.baidu.com/more/ name=tj_briicon class=bri style=\"display: block;\">æ\\x9b´å¤\\x9aäº§å\\x93\\x81</a> </div> </div> </div> <div id=ftCon> <div id=ftConw> <p id=lh> <a href=http://home.baidu.com>å\\x85³äº\\x8eç\\x99¾åº¦</a> <a href=http://ir.baidu.com>About Baidu</a> </p> <p id=cp>&copy;2017&nbsp;Baidu&nbsp;<a href=http://www.baidu.com/duty/>ä½¿ç\\x94¨ç\\x99¾åº¦å\\x89\\x8då¿\\x85è¯»</a>&nbsp; <a href=http://jianyi.baidu.com/ class=cp-feedback>æ\\x84\\x8fè§\\x81å\\x8f\\x8dé¦\\x88</a>&nbsp;äº¬ICPè¯\\x81030173å\\x8f·&nbsp; <img src=//www.baidu.com/img/gs.gif> </p> </div> </div> </div> </body> </html>\\r\\n'"
      ]
     },
     "execution_count": 5,
     "metadata": {},
     "output_type": "execute_result"
    }
   ],
   "source": [
    "r.text"
   ]
  },
  {
   "cell_type": "code",
   "execution_count": 6,
   "metadata": {},
   "outputs": [
    {
     "data": {
      "text/plain": [
       "200"
      ]
     },
     "execution_count": 6,
     "metadata": {},
     "output_type": "execute_result"
    }
   ],
   "source": [
    "r.status_code"
   ]
  },
  {
   "cell_type": "code",
   "execution_count": 7,
   "metadata": {},
   "outputs": [
    {
     "data": {
      "text/plain": [
       "{'Via': '1.1 LIB-6FCBE8870DE', 'Connection': 'Keep-Alive', 'Proxy-Connection': 'Keep-Alive', 'Content-Length': '2381', 'Date': 'Sun, 01 Apr 2018 06:22:49 GMT', 'Content-Type': 'text/html', 'ETag': '\"588604f8-94d\"', 'Server': 'bfe/1.0.8.18', 'Last-Modified': 'Mon, 23 Jan 2017 13:28:24 GMT', 'Cache-Control': 'private, no-cache, no-store, proxy-revalidate, no-transform', 'Pragma': 'no-cache', 'Set-Cookie': 'BDORZ=27315; max-age=86400; domain=.baidu.com; path=/', 'Accept-Ranges': 'bytes'}"
      ]
     },
     "execution_count": 7,
     "metadata": {},
     "output_type": "execute_result"
    }
   ],
   "source": [
    "r.headers"
   ]
  },
  {
   "cell_type": "code",
   "execution_count": 8,
   "metadata": {},
   "outputs": [
    {
     "data": {
      "text/plain": [
       "'ISO-8859-1'"
      ]
     },
     "execution_count": 8,
     "metadata": {},
     "output_type": "execute_result"
    }
   ],
   "source": [
    "r.encoding"
   ]
  },
  {
   "cell_type": "code",
   "execution_count": 9,
   "metadata": {},
   "outputs": [
    {
     "data": {
      "text/plain": [
       "'utf-8'"
      ]
     },
     "execution_count": 9,
     "metadata": {},
     "output_type": "execute_result"
    }
   ],
   "source": [
    "r.apparent_encoding"
   ]
  },
  {
   "cell_type": "code",
   "execution_count": 10,
   "metadata": {},
   "outputs": [
    {
     "data": {
      "text/plain": [
       "b'<!DOCTYPE html>\\r\\n<!--STATUS OK--><html> <head><meta http-equiv=content-type content=text/html;charset=utf-8><meta http-equiv=X-UA-Compatible content=IE=Edge><meta content=always name=referrer><link rel=stylesheet type=text/css href=http://s1.bdstatic.com/r/www/cache/bdorz/baidu.min.css><title>\\xe7\\x99\\xbe\\xe5\\xba\\xa6\\xe4\\xb8\\x80\\xe4\\xb8\\x8b\\xef\\xbc\\x8c\\xe4\\xbd\\xa0\\xe5\\xb0\\xb1\\xe7\\x9f\\xa5\\xe9\\x81\\x93</title></head> <body link=#0000cc> <div id=wrapper> <div id=head> <div class=head_wrapper> <div class=s_form> <div class=s_form_wrapper> <div id=lg> <img hidefocus=true src=//www.baidu.com/img/bd_logo1.png width=270 height=129> </div> <form id=form name=f action=//www.baidu.com/s class=fm> <input type=hidden name=bdorz_come value=1> <input type=hidden name=ie value=utf-8> <input type=hidden name=f value=8> <input type=hidden name=rsv_bp value=1> <input type=hidden name=rsv_idx value=1> <input type=hidden name=tn value=baidu><span class=\"bg s_ipt_wr\"><input id=kw name=wd class=s_ipt value maxlength=255 autocomplete=off autofocus></span><span class=\"bg s_btn_wr\"><input type=submit id=su value=\\xe7\\x99\\xbe\\xe5\\xba\\xa6\\xe4\\xb8\\x80\\xe4\\xb8\\x8b class=\"bg s_btn\"></span> </form> </div> </div> <div id=u1> <a href=http://news.baidu.com name=tj_trnews class=mnav>\\xe6\\x96\\xb0\\xe9\\x97\\xbb</a> <a href=http://www.hao123.com name=tj_trhao123 class=mnav>hao123</a> <a href=http://map.baidu.com name=tj_trmap class=mnav>\\xe5\\x9c\\xb0\\xe5\\x9b\\xbe</a> <a href=http://v.baidu.com name=tj_trvideo class=mnav>\\xe8\\xa7\\x86\\xe9\\xa2\\x91</a> <a href=http://tieba.baidu.com name=tj_trtieba class=mnav>\\xe8\\xb4\\xb4\\xe5\\x90\\xa7</a> <noscript> <a href=http://www.baidu.com/bdorz/login.gif?login&amp;tpl=mn&amp;u=http%3A%2F%2Fwww.baidu.com%2f%3fbdorz_come%3d1 name=tj_login class=lb>\\xe7\\x99\\xbb\\xe5\\xbd\\x95</a> </noscript> <script>document.write(\\'<a href=\"http://www.baidu.com/bdorz/login.gif?login&tpl=mn&u=\\'+ encodeURIComponent(window.location.href+ (window.location.search === \"\" ? \"?\" : \"&\")+ \"bdorz_come=1\")+ \\'\" name=\"tj_login\" class=\"lb\">\\xe7\\x99\\xbb\\xe5\\xbd\\x95</a>\\');</script> <a href=//www.baidu.com/more/ name=tj_briicon class=bri style=\"display: block;\">\\xe6\\x9b\\xb4\\xe5\\xa4\\x9a\\xe4\\xba\\xa7\\xe5\\x93\\x81</a> </div> </div> </div> <div id=ftCon> <div id=ftConw> <p id=lh> <a href=http://home.baidu.com>\\xe5\\x85\\xb3\\xe4\\xba\\x8e\\xe7\\x99\\xbe\\xe5\\xba\\xa6</a> <a href=http://ir.baidu.com>About Baidu</a> </p> <p id=cp>&copy;2017&nbsp;Baidu&nbsp;<a href=http://www.baidu.com/duty/>\\xe4\\xbd\\xbf\\xe7\\x94\\xa8\\xe7\\x99\\xbe\\xe5\\xba\\xa6\\xe5\\x89\\x8d\\xe5\\xbf\\x85\\xe8\\xaf\\xbb</a>&nbsp; <a href=http://jianyi.baidu.com/ class=cp-feedback>\\xe6\\x84\\x8f\\xe8\\xa7\\x81\\xe5\\x8f\\x8d\\xe9\\xa6\\x88</a>&nbsp;\\xe4\\xba\\xacICP\\xe8\\xaf\\x81030173\\xe5\\x8f\\xb7&nbsp; <img src=//www.baidu.com/img/gs.gif> </p> </div> </div> </div> </body> </html>\\r\\n'"
      ]
     },
     "execution_count": 10,
     "metadata": {},
     "output_type": "execute_result"
    }
   ],
   "source": [
    "r.content"
   ]
  },
  {
   "cell_type": "code",
   "execution_count": 12,
   "metadata": {},
   "outputs": [],
   "source": [
    "def getHtmlText(url):\n",
    "    try:\n",
    "        r = requests.get(url, timeout=30)\n",
    "        # 如果状态码不是200 则应发HTTOError异常\n",
    "        r.raise_for_status()\n",
    "        # 设置正确的编码方式\n",
    "        r.encoding = r.apparent_encoding\n",
    "        return r.text\n",
    "    except:\n",
    "        return \"Something Wrong!\""
   ]
  },
  {
   "cell_type": "code",
   "execution_count": 27,
   "metadata": {},
   "outputs": [
    {
     "ename": "AttributeError",
     "evalue": "'str' object has no attribute 'json'",
     "output_type": "error",
     "traceback": [
      "\u001b[1;31m---------------------------------------------------------------------------\u001b[0m",
      "\u001b[1;31mAttributeError\u001b[0m                            Traceback (most recent call last)",
      "\u001b[1;32m<ipython-input-27-239e45eae027>\u001b[0m in \u001b[0;36m<module>\u001b[1;34m()\u001b[0m\n\u001b[1;32m----> 1\u001b[1;33m \u001b[0mgetHtmlText\u001b[0m\u001b[1;33m(\u001b[0m\u001b[1;34m'http://www.ln.chinanews.com/news/2018/0401/134410.html'\u001b[0m\u001b[1;33m)\u001b[0m\u001b[1;33m.\u001b[0m\u001b[0mjson\u001b[0m\u001b[1;33m(\u001b[0m\u001b[1;33m)\u001b[0m\u001b[1;33m\u001b[0m\u001b[0m\n\u001b[0m",
      "\u001b[1;31mAttributeError\u001b[0m: 'str' object has no attribute 'json'"
     ]
    }
   ],
   "source": [
    "getHtmlText('http://www.ln.chinanews.com/news/2018/0401/134410.html')"
   ]
  },
  {
   "cell_type": "code",
   "execution_count": 34,
   "metadata": {},
   "outputs": [
    {
     "data": {
      "text/plain": [
       "'<!DOCTYPE html PUBLIC \"-//W3C//DTD XHTML 1.0 Transitional//EN\" \"http://www.w3.org/TR/xhtml1/DTD/xhtml1-transitional.dtd\">\\r\\n<html xmlns=\"http://www.w3.org/1999/xhtml\">\\r\\n<html lang=\"zh-CN\">\\r\\n<head>\\r\\n    <meta http-equiv=\"Content-Type\" content=\"text/html; charset=gb2312\" />\\r\\n    <title>Â¥µÀÉÕÖ½ÀÏÈËÉíÍö 91ËêÄÌÄÌ±»ÑÌÑ¬ËÀ²»ÐÒÉíÍö-ÖÐÐÂÍøÁÉÄþÆµµÀ</title>\\r\\n    <!--[950,2,134410] published at 2018-04-01 09:07:36 from #10 by ÁÉÄþ·ÖÉçÀîÁæÀþ -->\\r\\n    <meta name=\"description\" content=\"Â¥µÀÉÕÖ½ÀÏÈËÉíÍö 91ËêÄÌÄÌ±»ÑÌÑ¬ËÀ²»ÐÒÉíÍö\">\\r\\n    <link rel=\"stylesheet\" href=\"/base.css\">\\r\\n    <link rel=\"stylesheet\" href=\"/common.css\">\\r\\n    <link rel=\"stylesheet\" href=\"/post.css\">\\r\\n\\r\\n    <!--Í³¼Æ´úÂë begin-->\\r\\n    <script>\\r\\n        var _hmt = _hmt || [];\\r\\n        (function() {\\r\\n            var hm = document.createElement(\"script\");\\r\\n            hm.src = \"//hm.baidu.com/hm.js?4a074d10efd82fab7a8ee43b28a613d9\";\\r\\n            var s = document.getElementsByTagName(\"script\")[0];\\r\\n            s.parentNode.insertBefore(hm, s);\\r\\n        })();\\r\\n    </script>\\r\\n    <!--Í³¼Æ´úÂë end-->\\r\\n</head>\\r\\n<body>\\r\\n<!-- Í¨ÓÃ¶¥²¿µ¼º½ Start -->\\r\\n<!--[950,6,1] published at 2016-07-24 22:44:31 from #238 by 451-->\\n<!--Í¨ÓÃÍ·²¿-->\\r\\n<div class=\"new-head\"><div class=\"top-nav-bar-wrap\"><div class=\"top-nav-bar\"><div class=\"bd\"><a class=\"chinanews-home item-area\"href=\"http://www.chinanews.com/\"target=\"_blank\">ÖÐÐÂÍøÊ×Ò³</a><a class=\"item-area\"href=\"http://www.ah.chinanews.com/\"target=\"_blank\">°²»Õ</a><a class=\"item-area\"href=\"http://www.bj.chinanews.com/\"target=\"_blank\">±±¾©</a><a class=\"item-area\"href=\"http://www.cq.chinanews.com/\"target=\"_blank\">ÖØÇì</a><a class=\"item-area\"href=\"http://www.fj.chinanews.com/\"target=\"_blank\">¸£½¨</a><a class=\"item-area\"href=\"http://www.gs.chinanews.com/\"target=\"_blank\">¸ÊËà</a><a class=\"item-area\"href=\"http://www.gz.chinanews.com/\"target=\"_blank\">¹óÖÝ</a><a class=\"item-area\"href=\"http://www.gd.chinanews.com/\"target=\"_blank\">¹ã¶«</a><a class=\"item-area\"href=\"http://www.gx.chinanews.com/\"target=\"_blank\">¹ãÎ÷</a><a class=\"item-area\"href=\"http://www.hi.chinanews.com/\"target=\"_blank\">º£ÄÏ</a><a class=\"item-area\"href=\"http://www.heb.chinanews.com/\"target=\"_blank\">ºÓ±±</a><a class=\"item-area\"href=\"http://www.ha.chinanews.com/\"target=\"_blank\">ºÓÄÏ</a><a class=\"item-area\"href=\"http://www.hb.chinanews.com/\"target=\"_blank\">ºþ±±</a><a class=\"item-area\"href=\"http://www.hn.chinanews.com/\"target=\"_blank\">ºþÄÏ</a><a class=\"item-area\"href=\"http://www.js.chinanews.com/\"target=\"_blank\">½\\xadËÕ</a><a class=\"item-area\"href=\"http://www.jx.chinanews.com/\"target=\"_blank\">½\\xadÎ÷</a><a class=\"item-area\"href=\"http://www.jl.chinanews.com/\"target=\"_blank\">¼ªÁÖ</a><a class=\"item-area\"href=\"http://www.ln.chinanews.com/\"target=\"_blank\">ÁÉÄþ</a><a class=\"item-area\"href=\"http://www.sd.chinanews.com/\"target=\"_blank\">É½¶«</a><a class=\"item-area\"href=\"http://www.sx.chinanews.com/\"target=\"_blank\">É½Î÷</a><a class=\"item-area\"href=\"http://www.shx.chinanews.com/\"target=\"_blank\">ÉÂÎ÷</a><a class=\"item-area\"href=\"http://www.sh.chinanews.com/\"target=\"_blank\">ÉÏº£</a><a class=\"item-area\"href=\"http://www.sc.chinanews.com/\"target=\"_blank\">ËÄ´¨</a><a class=\"item-area\"href=\"http://www.hkcna.hk/\"target=\"_blank\">Ïã¸Û</a><a class=\"item-area\"href=\"http://www.xj.chinanews.com/\"target=\"_blank\">ÐÂ½®</a><a class=\"item-area\"href=\"http://www.yn.chinanews.com/\"target=\"_blank\">ÔÆÄÏ</a><a class=\"item-area\"href=\"http://www.zj.chinanews.com/\"target=\"_blank\">Õã½\\xad</a><span id=\"js-zhishe-menu\"class=\"zhishe-menu\"><a href=\"http://www.chinanews.com/common/footer/zswz.shtml\"target=\"_blank\">Ö§Éç</a></span></div></div></div></div>\\r\\n<!-- Í¨ÓÃ¶¥²¿µ¼º½ End -->\\r\\n<!-- ÈÝÆ÷ Start -->\\r\\n<div class=\"container\" style=\"padding-top:20px;\">\\r\\n    <!--[950,14,1] published at 2017-03-21 09:06:07 from #238 by 451-->\\n<a id=\"J-top-ad\" href=\"javascript:;\" ><img src=\"http://www.ln.chinanews.com/2017/0321/U451P950DT20170321090525.jpg\"></a>\\r\\n    <!-- Ãæ°üÐ¼ Start -->\\r\\n    <div class=\"crumbs-warp new-crumbs\">\\r\\n        <div class=\"crumbs fl\">\\r\\n            <div class=\"item-logo new-item-logo fl\">\\r\\n                <a href=\"/?f=cru\">\\r\\n                    <img src=\"/mini_logo_02.png\" alt=\"ÁÉÄþÐÂÎÅÍø\">\\r\\n                </a>\\r\\n            </div>\\r\\n        </div>\\r\\n        <div class=\"baidu-search fr\">\\r\\n            <script type=\"text/javascript\">(function(){document.write(unescape(\\'%3Cdiv id=\"bdcs\"%3E%3C/div%3E\\'));var bdcs = document.createElement(\\'script\\');bdcs.type = \\'text/javascript\\';bdcs.async = true;bdcs.src = \\'http://znsv.baidu.com/customer_search/api/js?sid=17314288755859572139\\' + \\'&plate_url=\\' + encodeURIComponent(window.location.href) + \\'&t=\\' + Math.ceil(new Date()/3600000);var s = document.getElementsByTagName(\\'script\\')[0];s.parentNode.insertBefore(bdcs, s);})();</script>\\r\\n        </div>\\r\\n    </div>\\r\\n    <!-- Ãæ°üÐ¼ End -->\\r\\n    <!-- ÄÚÈÝ Start -->\\r\\n    <div class=\"content mt20\">\\r\\n        <!-- ÄÚÈÝÖ÷Ìå Start -->\\r\\n        <div class=\"main fl\">\\r\\n            <div class=\"article\">\\r\\n                <div class=\"title\">\\r\\n                    <h1>Â¥µÀÉÕÖ½ÀÏÈËÉíÍö 91ËêÄÌÄÌ±»ÑÌÑ¬ËÀ²»ÐÒÉíÍö</h1>\\r\\n                    <div class=\"tit-bar fl\">\\r\\n                        <span class=\"source\">Ç®½\\xadÍí±¨</span>\\r\\n                        <span></span>\\r\\n                        <span>2018Äê04ÔÂ01ÈÕ 09:07</span>\\r\\n                    </div>\\r\\n                </div>\\r\\n                <div class=\"art-con\">\\r\\n<p style=\"text-align:center;\"></p>\\r\\n                    \\r\\n<p style=\"text-align: center;\">Ô\\xadÌâ£ºÂ¥µÀÉÕÖ½Ç®´¦Àí²»µ±Òý·¢»ðÔÖ Â¥ÉÏ91ËêÄÌÄÌ²»ÐÒÉíÍö</p>\\r\\n\\r\\n<p style=\"text-align: center;\"><a style=\"font-family: Î¢ÈíÑÅºÚ; font-size: 15px; background-color: #eef2f6;\" rel=\"sexylightbox[gp]\" href=\"http://www.chinanews.com/photo/\" target=\"_self\"><img alt=\"µã»÷½øÈëÏÂÒ»Ò³\" src=\"http://i2.chinanews.com/simg/cmshd/2018/04/01/55883973404241bea1f0fe54ba54c9b1.jpg\" style=\"border-width: 0px; border-style: initial; border-color: initial; max-width: 580px; cursor: pointer;\" title=\"¹¤ÈË½«ÊÂ·¢ÏÖ³¡µÄ¶«Î÷°á×ß¡£\" /></a></p>\\r\\n\\r\\n<p>¡¡¡¡¹¤ÈË½«ÊÂ·¢ÏÖ³¡µÄ¶«Î÷°á×ß¡£</p>\\r\\n\\r\\n<p>¡¡¡¡Â¥µÀÉÕÖ½Ç®Òý·¢»ðÔÖ</p>\\r\\n\\r\\n<p>¡¡¡¡Â¥ÉÏ91ËêÄÌÄÌ²»ÐÒÉíÍö</p>\\r\\n\\r\\n<p>¡¡¡¡×òÌìÉÏÎç10µã°ë£¬Ç®½\\xadÍí±¨96068½Óµ½¶ÁÕß±¬ÁÏ³Æ£¬º¼ÖÝ±õ¿µÐ¡Çø·¢Éú»ðÔÖ¡£¼ÇÕßÁ¢¼´¸ÏÍùÏÖ³¡¡£</p>\\r\\n\\r\\n<p>¡¡¡¡±õ¿µÐ¡ÇøÊÇÒ»´¦¶à²ãºÍ¸ß²ã´íÂä·Ö²¼µÄ×¡Õ¬Çø£¬ÊÂ·¢4´±ÊÇ¸ß²ã¡£4´±Â¥ÏÂÒÑ¾\\xadÀ\\xadÆðÁË¸ôÀë´ø£¬ÌØ¾¯¡¢ÌØÇÚºÍÅÉ³öËùÃñ¾¯¶¼ÔÚÃ¦Âµ¡£</p>\\r\\n\\r\\n<p>¡¡¡¡Ð¡Çø¶«ÃÅÒ»´óÈºÈË¾Û¼¯ÔÚÂ¥ÏÂ£¬ÕýÔÚÒéÂÛ¸Õ¸ÕÀëÈ¥µÄ¾È»¤³µºÍÏû·À³µ¡£</p>\\r\\n\\r\\n<p>¡¡¡¡Â¥µÀÖÐ°á³öÐí¶àÉÕ½¹µÄÎï¼þ</p>\\r\\n\\r\\n<p>¡¡¡¡¡°ÌýËµÓÐÒ»Î»ÀÏÌ«Ì«¾ÍÕâÃ´×ßÁË¡£°¥£¬ÕâÉÕÖ½ÉÕ³öÁË´óÊÂÇé°¡¡\\xad¡\\xad¡±</p>\\r\\n\\r\\n<p>¡¡¡¡¡°ÔõÃ´ÉÕµ½ÈËµÄ?ËýÊÇ±»ÑÌÑ¬µÄ?¡±</p>\\r\\n\\r\\n<p>¡¡¡¡¡°´ó¸ÅÊÇÂ¥µÀÀïÉÕ×ÅÁËÃ»µØ·½ÅÜ¡\\xad¡\\xadÈË¶¼Ñ¬ºÚÁË¡\\xad¡\\xad¡±</p>\\r\\n\\r\\n<p>¡¡¡¡¾ÓÃñÃÇËµµ±Ê±¶¼ÅÜ¹ýÈ¥´òËã°ïÃ¦¾È»ðµÄ£¬¶ÔÓÚÊÂÇé¾\\xad¹ýÒ²²»Çå³þ¡£</p>\\r\\n\\r\\n<p>¡¡¡¡4´±µÄ¾ÓÃñÏÔÈ»Çå³þÒ»Ð©¡£ËûÃÇËµ£¬Æð»ðµÄÆäÊµÊÇ10Â¥£¬µ«ÊÇ£¬Ã»ÁËµÄÄÇ¸öÀÏÌ«Ì«ÊÇ×¡11Â¥µÄ¡£</p>\\r\\n\\r\\n<p>¡¡¡¡ÀÏÌ«Ì«±»¾È»¤³µËÍ×ßÒÔºó£¬¹¤×÷ÈËÔ±¿ªÊ¼Ò»´ü´ü¡¢Ò»¼þ¼þµØ´ÓÂ¥ÀïÍùÍâ°á¸÷ÖÖÉÕ½¹µÄÎï¼þ£ºÑÌÑ¬»ðÁÇµÄÃÅ°å¡¢¸÷ÖÖ³ß´çµÄÄ¾°å¡¢ÉÕ½¹µÄ×ùÒÎ¡¢´ó´óÐ¡Ð¡µÄÌú¹øºÍ×°Ö½Ç®µÄ·½¶·¡\\xad¡\\xad</p>\\r\\n\\r\\n<p>¡¡¡¡ÔÚÊÂ·¢4´±µÄÒ»Â¥¶¼ÄÜÎÅµ½Ã÷ÏÔµÄÑÌÎ¶¡£µçÌÝÒÀÈ»Í£ÔË£¬Â¥µÀ¿ÚÓÐ±£°²°ÑÊØ£¬ÍâÈË²»µÃÈëÄÚ¡£</p>\\r\\n\\r\\n<p>¡¡¡¡ÕâÀïµÄ¾ÓÃñÏ°¹ß°á×ÅÒÎ×ÓÉ³·¢£¬ÏÐ×øÔÚµ¥ÔªÃÅ¿Ú¡¢ÃÅÌüÄÚ£¬Ëµ»°¼ä²»Ê±ÓÐÈËÁà×ÅÒ»À¦À¦µÄÖ½Ç®½ø½ø³ö³ö¡£ÓÐµÄ¼ÒÃÅ¿Ú¾Í¹Ò×ÅÕâÐ©Ö½Ç®£¬Â¥µÀÀïÕâÑùµÄÒ×È¼ÎïÒ²²»ÉÙ¡£</p>\\r\\n\\r\\n<p>¡¡¡¡×¡»§Ã»ÓÐÍ×µ±´¦ÖÃÖ½Ç®»Ò½ý</p>\\r\\n\\r\\n<p>¡¡¡¡Î÷ÐË½ÖµÀÏà¹Ø¸ºÔðÈËÔÚÏÖ³¡½ÓÊÜÁËÇ®±¨¼ÇÕßµÄ²É·Ã£¬²¢¼òµ¥Í¨±¨ÁËÊÂÇé¾\\xad¹ý£º</p>\\r\\n\\r\\n<p>¡¡¡¡»ðÔÖÊÇÔçÉÏ9µã30·Ö×óÓÒ·¢ÉúµÄ£¬»ðÔÖ·¢Éúºó£¬ÉçÇøÏû·ÀÕ¾¡¢±õ½\\xadÏû·À´ó¶ÓµÚÒ»Ê±¼ä¸Ïµ½ÏÖ³¡¾ÈÔ®£¬10·ÖÖÓºóÍê³ÉÃð»ð¡£</p>\\r\\n\\r\\n<p>¡¡¡¡¸ù¾Ý³õ²½µ÷²é£¬Ôì³É»ðÔÖµÄÔ\\xadÒò£¬ÊÇÓÉÓÚ4´±10Â¥µÄÒ»»§º«ÐÕ×¡»§£¬ÔÚÂ¥µÀÄÚ½øÐÐÇåÃ÷¼À×æ¡¢·ÙÉÕÖ½Ç®¡£ÉÕºÃÖ½Ç®ºó£¬ËýÃ»ÓÐ¼°Ê±¡¢Í×µ±µØ´¦ÖÃÖ½Ç®»Ò½ý£¬¿ÉÄÜÊÇÖ½Ç®ÒýÈ¼ÁËÂ¥µÀÀïµÄÒ×È¼Îï£¬ÑÌÎíÏòÉÏÓ¿Èë11Â¥£¬µ¼ÖÂ11Â¥Ò»Î»×øÔÚÂ¥µÀÖÐµÄ91ËêÀÏÈËËÀÍö¡£</p>\\r\\n\\r\\n<p>¡¡¡¡¼ÇÕßÔÚÏÖ³¡Óöµ½ÁËÒ»Î»×Ô³ÆÊÇËÀÕßÖ¶×ÓµÄÀÏÄêÄÐ×Ó£¬ËûËµ½Óµ½ÏûÏ¢Ö®ºóÂíÉÏ¸ÏÀ´ÁË¡£¡°ÀÏÌ«Ì«×øÔÚÂ¥µÀÀïµÄ£¬¼ÒÀïÈËÒ²¶¼ÔÚ£¬Ö»ÊÇ¹Ø×ÅÃÅ²»ÖªÇé¡£¡±ËûËµ£¬¡°¼ÒÀïÈËÒ²ÊÇÌýµ½Ïû·À³µµÄÉùÒô²Å·¢ÏÖ²»¶Ô¾¢µÄ£¬Ëæºó¾Í·¢ÏÖÏû·À³µÔõÃ´ÊÇ¶Ô×Å×Ô¼ÒÔÚÅçË®?´ò¿ªÃÅÒ»¿´£¬ÀÏÌ«Ì«ÌÉÔÚµØÉÏ£¬²ÅÖªµÀ³öÊÂÁË¡£¡±</p>\\r\\n\\r\\n<p>¡¡¡¡(¸ÐÐ»¶ÁÕßÖìÏÈÉú±¬ÁÏ)</p>\\r\\n\\r\\n<p>¡¡¡¡ÐÂÎÅ+</p>\\r\\n\\r\\n<p>¡¡¡¡Ò»¶ÑÖ½Ç®Òý·¢µÄÑÌ</p>\\r\\n\\r\\n<p>¡¡¡¡ÎªºÎÓÐÕâÃ´´óÍþÁ¦?</p>\\r\\n\\r\\n<p>¡¡¡¡¹¤×÷ÈËÔ±´ÓÂ¥µÀÀïÇåÔË³öÀ´µÄ´óÌú¹ø¡¢´óÌú¶·¾Í¿ÉÒÔ·¢ÏÖ£¬ÕâÀïÉÕÖ½Ç®µÄÏ°Ë×·ÕÎ§±ÈÖ÷³ÇÇøµÄ×¡Õ¬ÒªÅ¨ºñµÃ¶à¡£²»µ«ÉÕÖ½Ç®µÄÆ÷¾ß³ß´ç´ó£¬ÐèÒªÁ½¸öÈË²ÅÄÜÌ§ÆðÀ´£¬Ð¡ÇøÀïÁà×ÅÖ½Ç®×ß¶¯µÄÉíÓ°Ò²ÄÜÖ¤Ã÷ÕâÒ»µã¡£</p>\\r\\n\\r\\n<p>¡¡¡¡×¡ÔÚÍ¬Ò»¸öÐ¡ÇøµÄ¾ÓÃñ·´Ó³£¬Äê¼Í´óÒ»µãµÄ¾ÓÃñ¶¼Ï²»¶°Ñ×öºÃµÄÖ½Ç®´®ÆðÀ´£¬¹ÒÔÚÂ¥µÀµÄÇ½ÉÏ¡£ËûÃÇ»³ÒÉ£¬Æð»ðµÄÂ¥µÀ¿ÉÄÜÒ²¹Ò×ÅÕâÑùµÄÖ½Ç®¡£</p>\\r\\n\\r\\n<p>¡¡¡¡¡°ÀÏÌ«Ì«90¶àËêÁË£¬ÌýÁ¦Ò²²»Ì«ºÃÁË£¬·´Ó¦Ò²²»ÄÇÃ´ÁéÃôÁË£¬µÈµ½·¢ÏÖÎ£ÏÕµÄÊ±ºò£¬¿ÉÄÜÒÑ¾\\xadÀ´²»¼°º°½ÐÁË¡£¡±ÏÖ³¡ÈËÃÇÍ¦ßñÐê¡£</p>\\r\\n\\r\\n<p>¡¡¡¡Ä¿Ç°£¬ÊÂ¹ÊÔ\\xadÒòÕýÔÚÉîÈëµ÷²éÖÐ£¬¶øÔÚ10Â¥Â¥µÀÀïÉÕÖ½Ç®µÄ64ËêÅ®×Óº«Ä³ÒÑ±»µ±µØÅÉ³öËù´ø×ß¡£</p>\\r\\n\\r\\n<p>¡¡¡¡±¾±¨¼ÇÕß ³ÂÀÙ Îâ³çÔ¶</p>\\r\\n<p id=\"J_editor\" data=\"ÁÉÄþ·ÖÉçÀîÁæÀþ\" style=\"text-align: right;color: #666;font-size: 14px;\"></p>\\r\\n                </div>\\r\\n                <!-- ÎÄÕÂµ×²¿ Start -->\\r\\n                <div class=\"bottom-bar\">\\r\\n                    <div class=\"share-btn2 fl\">\\r\\n                        <div class=\"hd fl\">\\r\\n                            <h2>·ÖÏíµ½:</h2>\\r\\n                        </div>\\r\\n                        <div class=\"bdsharebuttonbox\" id=\"bd-share\">\\r\\n                            <a href=\"#\" id=\"ico-s-weibo\" class=\"bds_tsina\" data-cmd=\"tsina\" title=\"·ÖÏíµ½ÐÂÀËÎ¢²©\"></a>\\r\\n                            <a href=\"#\" id=\"ico-s-qzone\" class=\"bds_qzone\" data-cmd=\"qzone\" title=\"·ÖÏíµ½QQ¿Õ¼ä\"></a>\\r\\n                            <a href=\"#\" id=\"ico-s-tqq\" class=\"bds_tqq\" data-cmd=\"tqq\" title=\"·ÖÏíµ½ÌÚÑ¶Î¢²©\">\\r\\n                            <a href=\"#\" id=\"ico-s-wechat\" class=\"bds_weixin\" data-cmd=\"weixin\" title=\"·ÖÏíµ½Î¢ÐÅ\"></a>\\r\\n                        </div>\\r\\n                    </div>\\r\\n                </div>\\r\\n                <!-- ÈÈµãÍÆ¼ö Start -->\\r\\n                <!--[950,27,1] published at 2018-04-01 13:10:22 from #238 by 638-->\\n<style>\\r\\n*{\\r\\nmargin: 0;\\r\\npadding:0;\\r\\n}\\r\\n    .rediantuijian{\\r\\n        width: 660px;\\r\\n        overflow: hidden;\\r\\n    }\\r\\n    .rediantuijian .subtitle{\\r\\n        height: 32px;\\r\\n        font-size: 18px;\\r\\n        line-height: 32px;\\r\\n        padding-bottom: 5px;\\r\\n        border-bottom: solid 1px #ccc;\\r\\n    }\\r\\n    .rediantuijian .list{\\r\\n        padding-top: 10px;\\r\\n        width: 680px;\\r\\n        margin-left: -20px;\\r\\n        overflow: hidden;\\r\\n    }\\r\\n    .rediantuijian .list li{\\r\\n        float: left;\\r\\n        margin-left: 20px;\\r\\n        padding-left: 10px;\\r\\n        width: 300px;\\r\\n        height: 26px;\\r\\n        line-height: 26px;\\r\\n        background: url(http://i6.chinanews.com/2013/home/images/dot.jpg) 0 -41px no-repeat;\\r\\n    }\\r\\n    .rediantuijian .list a{\\r\\n        display: block;\\r\\n        width: 100%;\\r\\n        height: 100%;\\r\\n        font-size: 14px;\\r\\n        overflow:hidden;\\r\\n        text-overflow:ellipsis; \\r\\n        white-space:nowrap;\\r\\n        color: #333;\\r\\n    }\\r\\n</style>\\r\\n\\r\\n<div class=\"rediantuijian\">\\r\\n    <div class=\"subtitle\">ÈÈµãÍÆ¼ö</div>\\r\\n    <ul class=\"list\"><li><a href=\"/news/2018/0401/134454.html\" title=\"ÒÔ¾üÎÞÈË»ú×¹»Ù ²»´æÔÚÐÅÏ¢Ð¹Â¶µÄ·çÏÕ\" target=\"_blank\">ÒÔ¾üÎÞÈË»ú×¹»Ù ²»´æÔÚÐÅÏ¢Ð¹Â¶µÄ·çÏÕ</a></li><li><a href=\"/news/2018/0401/134453.html\" title=\"Ó¡¶ÈÒ»ÂÃ¹Ýµ¹Ëú ÖÁÉÙ9ÈËËÀÍö¾ÈÔ®ÐÐ¶¯»¹ÔÚ½øÐÐ\" target=\"_blank\">Ó¡¶ÈÒ»ÂÃ¹Ýµ¹Ëú ÖÁÉÙ9ÈËËÀÍö¾ÈÔ®ÐÐ¶¯»¹ÔÚ½øÐÐ</a></li><li><a href=\"/news/2018/0401/134452.html\" title=\"ÐÂ½®¿â¶ûÀÕÊÐµØÕð ÕðÔ´Éî¶È6Ç§Ã×(Í¼)\" target=\"_blank\">ÐÂ½®¿â¶ûÀÕÊÐµØÕð ÕðÔ´Éî¶È6Ç§Ã×(Í¼)</a></li><li><a href=\"/news/2018/0401/134451.html\" title=\"¶íÏòÓ¢·¨·¢24ÎÊ ÏòÓ¢¹úÌá³ö14¸öÎÊÌâ·¨¹ú10¸öÎÊÌâ\" target=\"_blank\">¶íÏòÓ¢·¨·¢24ÎÊ ÏòÓ¢¹úÌá³ö14¸öÎÊÌâ·¨¹ú10¸öÎÊÌâ</a></li><li><a href=\"/news/2018/0401/134450.html\" title=\"É¨ÂëÖ§¸¶ÏÞ¶î500 Ö»Õë¶Ô¾²Ì¬ÌõÂëÖ§¸¶\" target=\"_blank\">É¨ÂëÖ§¸¶ÏÞ¶î500 Ö»Õë¶Ô¾²Ì¬ÌõÂëÖ§¸¶</a></li><li><a href=\"/news/2018/0401/134449.html\" title=\"±±¾©³Í½äºåÌ§·¿×â ÑÏÀ÷´ò»÷ÈÅÂÒ×âÁÞÊÐ³¡ÖÈÐò\" target=\"_blank\">±±¾©³Í½äºåÌ§·¿×â ÑÏÀ÷´ò»÷ÈÅÂÒ×âÁÞÊÐ³¡ÖÈÐò</a></li><li><a href=\"/news/2018/0401/134438.html\" title=\"ÁÉÄþ2-0¹ã¶« ÁÉÄþ±¾¸Ö¶ÓÖ÷³¡ÒÔ101¡Ã95ÔÙÊ¤£¨Í¼£©\" target=\"_blank\">ÁÉÄþ2-0¹ã¶« ÁÉÄþ±¾¸Ö¶ÓÖ÷³¡ÒÔ101¡Ã95ÔÙÊ¤£¨Í¼£©</a></li><li><a href=\"/news/2018/0401/134423.html\" title=\"·òÆÞÊÕÑøÆúÓ¤·¢ÏÖÆä»¼²¡ 8Äê²»Àë²»ÆúÓÃ¾¡»ýÐî¾Èº¢×Ó\" target=\"_blank\">·òÆÞÊÕÑøÆúÓ¤·¢ÏÖÆä»¼²¡ 8Äê²»Àë²»ÆúÓÃ¾¡»ýÐî¾Èº¢×Ó</a></li><li><a href=\"/news/2018/0401/134416.html\" title=\"¹¤ÈËÔâ»ð³µ×·×² ÒÉÒòÊ©¹¤²»É÷Äð»ö£¨Í¼£©\" target=\"_blank\">¹¤ÈËÔâ»ð³µ×·×² ÒÉÒòÊ©¹¤²»É÷Äð»ö£¨Í¼£©</a></li><li><a href=\"/news/2018/0401/134414.html\" title=\"½£ÇÅ¾ÙÐÐ»ô½ðÔáÀñ 500ÃûÇ×ÓÑÍ¬ÊÂÎªÆäËÍÐÐ£¨Í¼£©\" target=\"_blank\">½£ÇÅ¾ÙÐÐ»ô½ðÔáÀñ 500ÃûÇ×ÓÑÍ¬ÊÂÎªÆäËÍÐÐ£¨Í¼£©</a></li></ul>\\r\\n</div>\\r\\n                <!-- ÈÈµãÍÆ¼ö End -->\\r\\n                <!-- ÎÄÕÂµ×²¿ End -->\\r\\n            </div>\\r\\n        </div>\\r\\n        <!-- ÄÚÈÝÖ÷Ìå End -->\\r\\n        <!-- ±ßÀ¸ Start -->\\r\\n        <div class=\"sidebar fr\">\\r\\n            <!--[950,8,1] published at 2017-06-09 11:47:47 from #238 by 451-->\\n<!--Í¨ÓÃ±ßÀ¸-->\\r\\n<!--ÁªÃË¹ã¸æ-->\\r\\n<div class=\"ad300 mt10\">\\r\\n<script src=\"http://www.yokaunion.com/page/s.php?s=368&w=300&h=250\"></script>\\r\\n</div>\\r\\n<!--ÏØÇø¹ã¸æ-->\\r\\n<div class=\"\" style=\"padding-top:15px;\">\\r\\n  <a href=\"/faku/index.shtml\" target=\"_blank\" style=\"display:block;\">\\r\\n     <img src=\"/nload/resource/image/adv/ad_fk_mini.jpg\">\\r\\n  </a>\\r\\n  <a href=\"/heping/index.shtml\" target=\"_blank\" style=\"display:block;padding-top:5px;\">\\r\\n     <img src=\"/nload/resource/image/adv/ad_hp_mini.jpg\">\\r\\n  </a>\\r\\n  <a href=\"javascript:;\" style=\"display:block;padding-top:5px;\">\\r\\n     <img src=\"http://f2.ln.chinanews.com/adv/ad_dt.jpg\" width=\"300\" height=\"28\">\\r\\n  </a>\\r\\n</div>\\r\\n<!-- Í¼ÎÄÍÆ¼ö Start -->\\r\\n<!--[950,26,1] published at 2018-03-29 21:08:17 from #238 by 531-->\\n<style>\\r\\n    .tuwentuijian{\\r\\n        padding-top: 15px;\\r\\n        width: 100%;\\r\\n        overflow: hidden;\\r\\n    }\\r\\n    .tuwentuijian .inner{\\r\\n        width: 310px;\\r\\n        margin-left: -10px;\\r\\n    }\\r\\n    .tuwentuijian .item{\\r\\n        float: left;\\r\\n        display: inline;\\r\\n        margin-top: 10px;\\r\\n        margin-left: 10px;\\r\\n        width: 145px;\\r\\n        height: 120px;\\r\\n        overflow: hidden;\\r\\n        color: #000;\\r\\n    }\\r\\n    .tuwentuijian .thumb{\\r\\n        width: 100%;\\r\\n        height: 90px;\\r\\n    }\\r\\n    .tuwentuijian .title{\\r\\n        display: block;\\r\\n        height: 30px;\\r\\n        line-height: 30px;\\r\\n        font-size: 12px;\\r\\n        overflow:hidden;\\r\\n        text-overflow:ellipsis; \\r\\n        white-space:nowrap;\\r\\n    }\\r\\n    .tuwentuijian .title:hover{\\r\\n        color: #c00;\\r\\n        text-decoration: underline;\\r\\n    }\\r\\n</style>\\r\\n\\r\\n<div class=\"tuwentuijian\">\\r\\n    <div class=\"inner\"><a href=\"/news/2018/0326/132817.html\" class=\"item\" title=\"´óÐÜÃ¨ÏãÏãÈËÆø¸ßÕÇ ÈÕ±¾¶¯ÎïÔ°ÈëÔ°ÈËÊýÆÆ400Íò\" target=\"_blank\"><img class=\"thumb\" src=\"/news/2018/0326/U638P950T2D132817F10DT20180326131209.jpg\" alt=\"´óÐÜÃ¨ÏãÏãÈËÆø¸ßÕÇ ÈÕ±¾¶¯ÎïÔ°ÈëÔ°ÈËÊýÆÆ400Íò\"><p class=\"title\">´óÐÜÃ¨ÏãÏãÈËÆø¸ßÕÇ ÈÕ±¾¶¯ÎïÔ°ÈëÔ°ÈËÊýÆÆ400Íò</p></a><a href=\"/news/2018/0326/132769.html\" class=\"item\" title=\"½ðÏñ½±×îÄêÇá×î¼ÑÅ®Ö÷½Ç ´ºÏÄ£ºÏëÒª³¢ÊÔ¸ü¶à¿ÉÄÜ\" target=\"_blank\"><img class=\"thumb\" src=\"/news/2018/0326/U506P950T2D132769F10DT20180326104423.jpg\" alt=\"½ðÏñ½±×îÄêÇá×î¼ÑÅ®Ö÷½Ç ´ºÏÄ£ºÏëÒª³¢ÊÔ¸ü¶à¿ÉÄÜ\"><p class=\"title\">½ðÏñ½±×îÄêÇá×î¼ÑÅ®Ö÷½Ç ´ºÏÄ£ºÏëÒª³¢ÊÔ¸ü¶à¿ÉÄÜ</p></a><a href=\"/news/2018/0324/132496.html\" class=\"item\" title=\"¾¨ÓãÎ÷°Äº£Ì²¸éÇ³ ³¬¹ý150Í·ÖÐÒÑÓÐÒ»°ëËÀÍö£¨Í¼£©\" target=\"_blank\"><img class=\"thumb\" src=\"/news/2018/0324/U506P950T2D132496F10DT20180324100257.jpg\" alt=\"¾¨ÓãÎ÷°Äº£Ì²¸éÇ³ ³¬¹ý150Í·ÖÐÒÑÓÐÒ»°ëËÀÍö£¨Í¼£©\"><p class=\"title\">¾¨ÓãÎ÷°Äº£Ì²¸éÇ³ ³¬¹ý150Í·ÖÐÒÑÓÐÒ»°ëËÀÍö£¨Í¼£©</p></a><a href=\"/news/2018/0323/132283.html\" class=\"item\" title=\"²£Á§µõÇÅ¼·ÂúÈË ×óÓÒÒ¡»Î»\\xadÃæ¾ªÏÕ´Ì¼¤(×éÍ¼)\" target=\"_blank\"><img class=\"thumb\" src=\"/news/2018/0323/U506P950T2D132283F10DT20180323112208.jpg\" alt=\"²£Á§µõÇÅ¼·ÂúÈË ×óÓÒÒ¡»Î»\\xadÃæ¾ªÏÕ´Ì¼¤(×éÍ¼)\"><p class=\"title\">²£Á§µõÇÅ¼·ÂúÈË ×óÓÒÒ¡»Î»\\xadÃæ¾ªÏÕ´Ì¼¤(×éÍ¼)</p></a><a href=\"/news/2018/0323/132279.html\" class=\"item\" title=\"ÇÎ¸ñ¸ñÍÞÍÞÍ£ÊÛ ÒÑÊÛ³öµÄÒ»ÂÉÍË¿îÕÙ»Ø\" target=\"_blank\"><img class=\"thumb\" src=\"/news/2018/0323/U506P950T2D132279F10DT20180323111549.jpg\" alt=\"ÇÎ¸ñ¸ñÍÞÍÞÍ£ÊÛ ÒÑÊÛ³öµÄÒ»ÂÉÍË¿îÕÙ»Ø\"><p class=\"title\">ÇÎ¸ñ¸ñÍÞÍÞÍ£ÊÛ ÒÑÊÛ³öµÄÒ»ÂÉÍË¿îÕÙ»Ø</p></a><a href=\"/news/2018/0321/131752.html\" class=\"item\" title=\"Âè³¬3·¢²¼»á »ôË¼Ñà£ºÒ»±²×Ó¸úº¢×Ó×öÅóÓÑ\" target=\"_blank\"><img class=\"thumb\" src=\"/news/2018/0321/U506P950T2D131752F10DT20180321163349.jpg\" alt=\"Âè³¬3·¢²¼»á »ôË¼Ñà£ºÒ»±²×Ó¸úº¢×Ó×öÅóÓÑ\"><p class=\"title\">Âè³¬3·¢²¼»á »ôË¼Ñà£ºÒ»±²×Ó¸úº¢×Ó×öÅóÓÑ</p></a></div>\\r\\n</div>\\r\\n        </div>\\r\\n        <!-- ±ßÀ¸ End -->\\r\\n    </div>\\r\\n    <!-- ÄÚÈÝ End -->\\r\\n</div>\\r\\n<!-- ÈÝÆ÷ End -->\\r\\n<!-- ÐÂµ×²¿ start -->\\r\\n<!--[950,7,1] published at 2016-08-26 11:11:07 from #238 by 451-->\\n<div class=\"new-footer-wrap\">\\r\\n    <div class=\"new-footer\">\\r\\n        <p class=\"foot-links\">\\r\\n            <a href=\"/single/about-us.html\" target=\"_blank\">¹ØÓÚÎÒÃÇ</a>\\r\\n            |\\r\\n            <a href=\"/single/about-us.html\" target=\"_blank\">About us</a>\\r\\n            |\\r\\n            <a href=\"/single/contact-us.html\" target=\"_blank\">ÁªÏµÎÒÃÇ</a>\\r\\n            |\\r\\n            <a href=\"/single/ad.html\" target=\"_blank\">¹ã¸æ·þÎñ</a>\\r\\n            |\\r\\n            <a href=\"/single/legal.html\" target=\"_blank\">·¨ÂÉÉùÃ÷</a>\\r\\n            |\\r\\n            <a href=\"/single/recruitment.html\" target=\"_blank\">ÕÐÆ¸ÐÅÏ¢</a>\\r\\n            |\\r\\n            <a href=\"/single/feedback.html\" target=\"_blank\">ÁôÑÔ·´À¡</a>\\r\\n<!--\\r\\n            |\\r\\n            <a href=\"javascript:;\" target=\"_blank\">ÍøÕ¾µØÍ¼</a>\\r\\n-->\\r\\n        </p>\\r\\n        <p>±¾ÍøÕ¾Ëù¿¯ÔØÐÅÏ¢£¬²»´ú±íÖÐÐÂÉçºÍÖÐÐÂÍø¹Ûµã¡£¿¯ÓÃ±¾ÍøÕ¾¸å¼þ£¬Îñ¾\\xadÊéÃæÊÚÈ¨¡£</p>\\r\\n        <p>Î´¾\\xadÊÚÈ¨½ûÖ¹×ªÔØ¡¢Õª±à¡¢¸´ÖÆ¼°½¨Á¢¾µÏñ£¬Î¥Õß½«ÒÀ·¨×·¾¿·¨ÂÉÔðÈÎ¡£</p>\\r\\n        <p><a href=\"http://www.chinanews.com/news/xuke.html\" target=\"_blank\">[ÍøÉÏ´«²¥ÊÓÌý½ÚÄ¿Ðí¿ÉÖ¤£¨0106168)]</a><a href=\"http://www.miibeian.gov.cn/\" target=\"_blank\">[¾©ICPÖ¤040655ºÅ]</a><a href=\"javascript:;\">[¾©¹«Íø°²±¸£º110102003042]</a><a href=\"http://www.miitbeian.gov.cn/\" target=\"_blank\">[¾©ICP±¸05004340ºÅ-1]</a>\\r\\n        </p>\\r\\n    </div>\\r\\n</div>\\r\\n<!-- ÐÂµ×²¿ end -->\\r\\n<!--[950,25,1] published at 2017-03-22 13:45:53 from #238 by 451-->\\n<script src=\"http://f2.ln.chinanews.com/js/jquery.min.js\"></script>\\r\\n<script>window._bd_share_config={\"common\":{\"bdSnsKey\":{},\"bdText\":\"\",\"bdMini\":\"2\",\"bdPic\":\"\",\"bdStyle\":\"0\",\"bdSize\":\"16\"},\"share\":{}};with(document)0[(getElementsByTagName(\\'head\\')[0]||body).appendChild(createElement(\\'script\\')).src=\\'http://bdimg.share.baidu.com/static/api/js/share.js?v=89860593.js?cdnversion=\\'+~(-new Date()/36e5)];\\r\\n</script>\\r\\n<script>\\r\\nvar editorName = $(\\'#J_editor\\').attr(\\'data\\').replace(/ÁÉÄþ·ÖÉç/g, \\'\\');\\r\\n$(\\'#J_editor\\').html(\\'±à¼\\xad£º\\'+ editorName);\\r\\n</script>\\r\\n</body>\\r\\n</html>'"
      ]
     },
     "execution_count": 34,
     "metadata": {},
     "output_type": "execute_result"
    }
   ],
   "source": [
    "r = requests.get('http://www.ln.chinanews.com/news/2018/0401/134410.html')\n",
    "r.text"
   ]
  },
  {
   "cell_type": "code",
   "execution_count": 20,
   "metadata": {},
   "outputs": [
    {
     "data": {
      "text/plain": [
       "''"
      ]
     },
     "execution_count": 20,
     "metadata": {},
     "output_type": "execute_result"
    }
   ],
   "source": [
    "r1 = requests.put('http://httpbin.org/put', data = {'key':'value'})\n",
    "r2 = requests.delete('http://httpbin.org/delete')\n",
    "r3 = requests.head('http://httpbin.org/get')\n",
    "r4 = requests.options('http://httpbin.org/get')\n",
    "r4.text"
   ]
  },
  {
   "cell_type": "code",
   "execution_count": 23,
   "metadata": {},
   "outputs": [
    {
     "data": {
      "text/plain": [
       "<bound method Response.json of <Response [200]>>"
      ]
     },
     "execution_count": 23,
     "metadata": {},
     "output_type": "execute_result"
    }
   ],
   "source": [
    "payload = {'key1': 'value1', 'key2': 'value2'}\n",
    "r = requests.get(\"http://httpbin.org/get\", params=payload)\n",
    "r.json"
   ]
  },
  {
   "cell_type": "code",
   "execution_count": 35,
   "metadata": {},
   "outputs": [
    {
     "name": "stdout",
     "output_type": "stream",
     "text": [
      "{\n",
      "  \"args\": {}, \n",
      "  \"data\": \"\", \n",
      "  \"files\": {}, \n",
      "  \"form\": {\n",
      "    \"key1\": \"value1\", \n",
      "    \"key2\": \"value2\"\n",
      "  }, \n",
      "  \"headers\": {\n",
      "    \"Accept\": \"*/*\", \n",
      "    \"Connection\": \"close\", \n",
      "    \"Content-Length\": \"23\", \n",
      "    \"Content-Type\": \"application/x-www-form-urlencoded\", \n",
      "    \"Host\": \"httpbin.org\", \n",
      "    \"User-Agent\": \"python-requests/2.18.4\"\n",
      "  }, \n",
      "  \"json\": null, \n",
      "  \"origin\": \"211.87.71.72\", \n",
      "  \"url\": \"http://httpbin.org/post\"\n",
      "}\n",
      "\n"
     ]
    }
   ],
   "source": [
    "payload = {'key1': 'value1', 'key2': 'value2'}\n",
    "r = requests.post(\"http://httpbin.org/post\", data=payload)\n",
    "print(r.text)"
   ]
  },
  {
   "cell_type": "code",
   "execution_count": 38,
   "metadata": {},
   "outputs": [
    {
     "data": {
      "text/plain": [
       "'{\"message\":\"Not Found\",\"documentation_url\":\"https://developer.github.com/v3\"}'"
      ]
     },
     "execution_count": 38,
     "metadata": {},
     "output_type": "execute_result"
    }
   ],
   "source": [
    "import json\n",
    "url = 'https://api.github.com/some/endpoint'\n",
    "payload = {'some': 'data'}\n",
    "r = requests.post(url, data=json.dumps(payload))\n",
    "r.text"
   ]
  },
  {
   "cell_type": "code",
   "execution_count": 41,
   "metadata": {},
   "outputs": [
    {
     "data": {
      "text/plain": [
       "{'documentation_url': 'https://developer.github.com/v3',\n",
       " 'message': 'Not Found'}"
      ]
     },
     "execution_count": 41,
     "metadata": {},
     "output_type": "execute_result"
    }
   ],
   "source": [
    "url = 'https://api.github.com/some/endpoint'\n",
    "payload = {'some': 'data'}\n",
    "r = requests.post(url, json=payload)\n",
    "r.json()"
   ]
  },
  {
   "cell_type": "code",
   "execution_count": 42,
   "metadata": {},
   "outputs": [],
   "source": [
    "def getHtmlText(url):\n",
    "    try:\n",
    "        r = requests.get(url, timeout=30)  # 如果状态码不是200 则应发HTTOError异常\n",
    "        r.raise_for_status()               # 设置正确的编码方式\n",
    "        r.encoding = r.apparent_encoding\n",
    "        return r.text\n",
    "    except:\n",
    "        return \"Something Wrong!\""
   ]
  },
  {
   "cell_type": "code",
   "execution_count": 52,
   "metadata": {},
   "outputs": [],
   "source": [
    "r = getHtmlText(\"http://tieba.baidu.com/p/2460150866\")\n",
    "html = r"
   ]
  },
  {
   "cell_type": "code",
   "execution_count": 53,
   "metadata": {},
   "outputs": [
    {
     "data": {
      "text/plain": [
       "['https://imgsa.baidu.com/forum/w%3D580/sign=294db374d462853592e0d229a0ee76f2/e732c895d143ad4b630e8f4683025aafa40f0611.jpg',\n",
       " 'https://imgsa.baidu.com/forum/w%3D580/sign=941c6a9596dda144da096cba82b6d009/e889d43f8794a4c2e5d529ad0ff41bd5ac6e3947.jpg',\n",
       " 'https://imgsa.baidu.com/forum/w%3D580/sign=750661a0fcfaaf5184e381b7bc5594ed/75fafbedab64034fc3ed0b80aec379310a551d11.jpg',\n",
       " 'https://imgsa.baidu.com/forum/w%3D580/sign=114c0f68b58f8c54e3d3c5270a282dee/3d4e78f0f736afc3c72cf6e3b219ebc4b7451211.jpg',\n",
       " 'https://imgsa.baidu.com/forum/w%3D580/sign=3b5751825882b2b7a79f39cc01accb0a/9ac37d1ed21b0ef481c651d8dcc451da81cb3e0f.jpg',\n",
       " 'https://imgsa.baidu.com/forum/w%3D580/sign=26c16593bd315c6043956be7bdb0cbe6/894443a98226cffcd8287634b8014a90f603ea3c.jpg',\n",
       " 'https://imgsa.baidu.com/forum/w%3D580/sign=8905fff979f0f736d8fe4c093a54b382/08d2d539b6003af318e615e6342ac65c1138b6dd.jpg',\n",
       " 'https://imgsa.baidu.com/forum/w%3D580/sign=c6335d3d86d6277fe912323018391f63/9dcd7cd98d1001e97833dd89b90e7bec54e7972e.jpg',\n",
       " 'https://imgsa.baidu.com/forum/w%3D580/sign=0d3b26024bed2e73fce98624b700a16d/0faccbef76094b3697eed26ba2cc7cd98d109d3d.jpg',\n",
       " 'https://imgsa.baidu.com/forum/w%3D580/sign=a6b7ab9a10dfa9ecfd2e561f52d1f754/48c7a7efce1b9d16a99e53e7f2deb48f8d5464d8.jpg',\n",
       " 'https://imgsa.baidu.com/forum/w%3D580/sign=4fb535a17e3e6709be0045f70bc69fb8/50071d950a7b020893c7f66763d9f2d3572cc828.jpg',\n",
       " 'https://imgsa.baidu.com/forum/w%3D580/sign=e87250192fdda3cc0be4b82831e83905/07dab6fd5266d016aa6057ae962bd40735fa3538.jpg',\n",
       " 'https://imgsa.baidu.com/forum/w%3D580/sign=ac526d39a1ec08fa260013af69ef3d4d/8a8e8c5494eef01f6178d143e1fe9925bd317dcd.jpg',\n",
       " 'https://imgsa.baidu.com/forum/w%3D580/sign=808342bf6a63f6241c5d390bb745eb32/f2be6c81800a19d8cea24d8332fa828ba71e4690.jpg',\n",
       " 'https://imgsa.baidu.com/forum/w%3D580/sign=7bbea1d635a85edffa8cfe2b795509d8/bc27cffc1e178a827e8eb726f703738da877e88c.jpg',\n",
       " 'https://imgsa.baidu.com/forum/w%3D580/sign=1e9533ad9c16fdfad86cc6e6848e8cea/9a0e4bfbfbedab64ba358546f636afc378311ef6.jpg',\n",
       " 'https://imgsa.baidu.com/forum/w%3D580/sign=3bb59f66f603918fd7d13dc2613c264b/9150f3deb48f8c54cc7c0da93b292df5e1fe7f8e.jpg',\n",
       " 'https://imgsa.baidu.com/forum/w%3D580/sign=744160a0fcfaaf5184e381b7bc5594ed/75fafbedab64034fc2aa0a80aec379310b551dd6.jpg',\n",
       " 'https://imgsa.baidu.com/forum/w%3D580/sign=37854f4d42166d223877159c76220945/82305c6034a85edfefcf36a548540923dc5475f2.jpg',\n",
       " 'https://imgsa.baidu.com/forum/w%3D580/sign=61592a7c7acb0a4685228b315b62f63e/ef08b3de9c82d158a1159137810a19d8bd3e42a6.jpg',\n",
       " 'https://imgsa.baidu.com/forum/w%3D580/sign=85db4de7f91986184147ef8c7aec2e69/6783b2b7d0a20cf4076d365977094b36adaf99bc.jpg',\n",
       " 'https://imgsa.baidu.com/forum/w%3D580/sign=9a886c9596dda144da096cba82b6d009/e889d43f8794a4c2eb412fad0ff41bd5ac6e39d3.jpg',\n",
       " 'https://imgsa.baidu.com/forum/w%3D580/sign=84e0f495dc54564ee565e43183df9cde/c802738da97739127eaf4de7f9198618377ae2a9.jpg',\n",
       " 'https://imgsa.baidu.com/forum/w%3D580/sign=a90dc4b7203fb80e0cd161df06d32ffb/a92ad40735fae6cdd36d63e70eb30f2443a70f58.jpg',\n",
       " 'https://imgsa.baidu.com/forum/w%3D580/sign=0094db034bed2e73fce98624b703a16d/0faccbef76094b369a412f6aa2cc7cd98c109d62.jpg',\n",
       " 'https://imgsa.baidu.com/forum/w%3D580/sign=21539892bd315c6043956be7bdb0cbe6/894443a98226cffcdfba8b35b8014a90f703eaa2.jpg',\n",
       " 'https://imgsa.baidu.com/forum/w%3D580/sign=13f2ccac9c16fdfad86cc6e6848e8cea/9a0e4bfbfbedab64b7527a47f636afc379311e11.jpg',\n",
       " 'https://imgsa.baidu.com/forum/w%3D580/sign=37639659f11f3a295ac8d5c6a924bce3/91c279310a55b31950f3b5f242a98226cffc172b.jpg',\n",
       " 'https://imgsa.baidu.com/forum/w%3D580/sign=09f793f2d788d43ff0a991fa4d1cd2aa/6f3c269759ee3d6da00fb34c42166d224e4ade69.jpg',\n",
       " 'https://imgsa.baidu.com/forum/w%3D580/sign=583cbe865d6034a829e2b889fb1249d9/7da88226cffc1e174b9bbbb64b90f603738de916.jpg',\n",
       " 'https://imgsa.baidu.com/forum/w%3D580/sign=cce587af377adab43dd01b4bbbd6b36b/eea30cf431adcbef42f54a81adaf2edda2cc9f70.jpg',\n",
       " 'https://imgsa.baidu.com/forum/w%3D580/sign=fc8fabb64d086e066aa83f4332097b5a/08d02f2eb9389b500bd4d7d58435e5dde7116e0a.jpg',\n",
       " 'https://imgsa.baidu.com/forum/w%3D580/sign=bad0967c38dbb6fd255be52e3925aba6/ae539822720e0cf33cc06c7c0b46f21fbe09aa07.jpg',\n",
       " 'https://imgsa.baidu.com/forum/w%3D580/sign=4c219282e4dde711e7d243fe97eecef4/ef42ad4bd11373f01b414d18a50f4bfbfbed043f.jpg',\n",
       " 'https://imgsa.baidu.com/forum/w%3D580/sign=5c33e5a8bf096b6381195e583c328733/ef59ccbf6c81800a4fadab89b03533fa838b47e9.jpg',\n",
       " 'https://imgsa.baidu.com/forum/w%3D580/sign=694ea4699d82d158bb8259b9b00b19d5/8e50f8198618367a62f35d5a2f738bd4b21ce5c4.jpg',\n",
       " 'https://imgsa.baidu.com/forum/w%3D580/sign=75b71de2b219ebc4c0787691b227cf79/d751352ac65c10385fc5ec45b3119313b17e89fa.jpg',\n",
       " 'https://imgsa.baidu.com/forum/w%3D580/sign=e85eb058cf1b9d168ac79a69c3dfb4eb/64aea40f4bfbfbed35fc14f879f0f736aec31f94.jpg',\n",
       " 'https://imgsa.baidu.com/forum/w%3D580/sign=fb0c5d5a2f738bd4c421b239918a876c/f5ee76094b36acaf0f65b47b7dd98d1000e99cb4.jpg',\n",
       " 'https://imgsa.baidu.com/forum/w%3D580/sign=b6723688b90e7bec23da03e91f2fb9fa/ea0635fae6cd7b89112218040e2442a7d8330eef.jpg',\n",
       " 'https://imgsa.baidu.com/forum/w%3D580/sign=d4b5a14a5366d0167e199e20a72ad498/4c0f0cf3d7ca7bcbe728e5a8bf096b63f724a8e3.jpg',\n",
       " 'https://imgsa.baidu.com/forum/w%3D580/sign=b84964f242a98226b8c12b2fba83b97a/2e395343fbf2b211c09e63c9cb8065380dd78e82.jpg',\n",
       " 'https://imgsa.baidu.com/forum/w%3D580/sign=04c3e9443b87e9504217f3642039531b/05c69f3df8dcd10008621ea6738b4710b8122fb8.jpg',\n",
       " 'https://imgsa.baidu.com/forum/w%3D580/sign=ad53875037d12f2ece05ae687fc3d5ff/45889e510fb30f2494180a84c995d143ac4b03bc.jpg',\n",
       " 'https://imgsa.baidu.com/forum/w%3D580/sign=5b9860aeeac4b7453494b71efffd1e78/0b2bc65c10385343aa3f61a69213b07ecb808842.jpg',\n",
       " 'https://imgsa.baidu.com/forum/w%3D580/sign=35882481aec379317d688621dbc5b784/88013af33a87e950785215eb11385343faf2b4f5.jpg',\n",
       " 'https://imgsa.baidu.com/forum/w%3D580/sign=2ad04ea1fcfaaf5184e381b7bc5594ed/75fafbedab64034f9c3b2481aec379310b551d40.jpg',\n",
       " 'https://imgsa.baidu.com/forum/w%3D580/sign=814c097350da81cb4ee683c56267d0a4/782209f7905298225e2cd844d6ca7bcb0a46d41f.jpg',\n",
       " 'https://imgsa.baidu.com/forum/w%3D580/sign=d60df942e1fe9925cb0c695804a95ee4/8d18ebc4b74543a96e021b4b1f178a82b9011419.jpg',\n",
       " 'https://imgsa.baidu.com/forum/w%3D580/sign=b9cb63f242a98226b8c12b2fba83b97a/2e395343fbf2b211c11c64c9cb8065380cd78e0c.jpg',\n",
       " 'https://imgsa.baidu.com/forum/w%3D580/sign=6c1eaf5b55e736d158138c00ab514ffc/d8cc7b899e510fb3db349610d833c895d1430c0d.jpg',\n",
       " 'https://imgsa.baidu.com/forum/w%3D580/sign=a18570757c1ed21b79c92eed9d6fddae/6bfab2fb43166d22695bf413472309f79052d20e.jpg',\n",
       " 'https://imgsa.baidu.com/forum/w%3D580/sign=34e22381aec379317d688621dbc5b784/88013af33a87e950793812eb11385343fbf2b40f.jpg',\n",
       " 'https://imgsa.baidu.com/forum/w%3D580/sign=33239710d833c895a67e9873e1127397/244d510fd9f9d72a5c5ef09ad52a2834349bbb04.jpg',\n",
       " 'https://imgsa.baidu.com/forum/w%3D580/sign=131d23b4728da9774e2f86238050f872/32d6912397dda144f4b98c35b3b7d0a20df48682.jpg',\n",
       " 'https://imgsa.baidu.com/forum/w%3D580/sign=99bb027d7acb0a4685228b315b62f63e/ef08b3de9c82d15859f7b936810a19d8bd3e42c5.jpg',\n",
       " 'https://imgsa.baidu.com/forum/w%3D580/sign=0298337a7a899e51788e3a1c72a6d990/c8256b600c338744dc9acffb500fd9f9d62aa0df.jpg',\n",
       " 'https://imgsa.baidu.com/forum/w%3D580/sign=5ce70dcb8ad4b31cf03c94b3b7d7276f/48084b36acaf2eddb5c65f618c1001e939019307.jpg',\n",
       " 'https://imgsa.baidu.com/forum/w%3D580/sign=5d5b0ccb8ad4b31cf03c94b3b7d7276f/48084b36acaf2eddb47a5e618c1001e9380193ab.jpg',\n",
       " 'https://imgsa.baidu.com/forum/w%3D580/sign=73b8ff7c50da81cb4ee683c56264d0a4/782209f790529822acd82e4bd6ca7bcb0b46d454.jpg',\n",
       " 'https://imgsa.baidu.com/forum/w%3D580/sign=fdcdb5b2314e251fe2f7e4f09784c9c2/16391f30e924b89915f86eb06f061d950b7bf677.jpg',\n",
       " 'https://imgsa.baidu.com/forum/w%3D580/sign=6a438de9f2deb48ffb69a1d6c01e3aef/9565034f78f0f736387a5b890b55b319eac413b6.jpg',\n",
       " 'https://imgsa.baidu.com/forum/w%3D580/sign=862cd58eaec379317d688621dbc6b784/88013af33a87e950cbf6e4e411385343faf2b452.jpg',\n",
       " 'https://imgsa.baidu.com/forum/w%3D580/sign=b47767118326cffc692abfba89004a7d/6d42fbf2b2119313b34cee3864380cd791238d2f.jpg',\n",
       " 'https://imgsa.baidu.com/forum/w%3D580/sign=e98093fd42a98226b8c12b2fba83b97a/2e395343fbf2b211915794c6cb8065380cd78e39.jpg',\n",
       " 'https://imgsa.baidu.com/forum/w%3D580/sign=b8640487b90e7bec23da03e91f2fb9fa/ea0635fae6cd7b891f342a0b0e2442a7d8330eda.jpg',\n",
       " 'https://imgsa.baidu.com/forum/w%3D580/sign=4031f330d53f8794d3ff4826e21a0ead/189659ee3d6d55fb608f66ae6c224f4a21a4ddea.jpg',\n",
       " 'https://imgsa.baidu.com/forum/w%3D580/sign=b9458a86b03533faf5b6932698d2fdca/b5d5b31c8701a18b274b11c79f2f07082938fe93.jpg']"
      ]
     },
     "execution_count": 53,
     "metadata": {},
     "output_type": "execute_result"
    }
   ],
   "source": [
    "reg = r'src=\"(.+?\\.jpg)\" pic_ext'\n",
    "imgre = re.compile(reg)\n",
    "imglist = imgre.findall(html)\n",
    "imglist"
   ]
  },
  {
   "cell_type": "code",
   "execution_count": 56,
   "metadata": {},
   "outputs": [],
   "source": [
    "def getImg(html):\n",
    "    reg = r'src=\"(.+?\\.jpg)\" pic_ext'\n",
    "    imgre = re.compile(reg)\n",
    "    imglist = imgre.findall(html)#表示在整个网页中过滤出所有图片的地址，放在imglist中\n",
    "    return imglist"
   ]
  },
  {
   "cell_type": "code",
   "execution_count": 73,
   "metadata": {},
   "outputs": [],
   "source": [
    "html =  getImg(html)"
   ]
  },
  {
   "cell_type": "code",
   "execution_count": 58,
   "metadata": {},
   "outputs": [],
   "source": [
    "def save_picture(url,addr):\n",
    "    with open(addr, 'wb') as f:\n",
    "        img = getHtmlText(url)\n",
    "        if img:\n",
    "            f.write(img)\n",
    "    print(\"图片已保存\")\n",
    "    return"
   ]
  },
  {
   "cell_type": "code",
   "execution_count": 62,
   "metadata": {},
   "outputs": [],
   "source": [
    "path = 'C:\\\\Users\\\\Think\\\\Desktop\\\\pythondownload\\\\' \n",
    "addr = path + str(1) + \".jpg\"\n",
    "html_url ='https://imgsa.baidu.com/forum/w%3D580/sign=b9458a86b03533faf5b6932698d2fdca/b5d5b31c8701a18b274b11c79f2f07082938fe93.jpg'"
   ]
  },
  {
   "cell_type": "code",
   "execution_count": 63,
   "metadata": {},
   "outputs": [
    {
     "ename": "TypeError",
     "evalue": "a bytes-like object is required, not 'str'",
     "output_type": "error",
     "traceback": [
      "\u001b[1;31m---------------------------------------------------------------------------\u001b[0m",
      "\u001b[1;31mTypeError\u001b[0m                                 Traceback (most recent call last)",
      "\u001b[1;32m<ipython-input-63-7f11fdd53ab0>\u001b[0m in \u001b[0;36m<module>\u001b[1;34m()\u001b[0m\n\u001b[1;32m----> 1\u001b[1;33m \u001b[0msave_picture\u001b[0m\u001b[1;33m(\u001b[0m\u001b[0mhtml_url\u001b[0m\u001b[1;33m,\u001b[0m\u001b[0maddr\u001b[0m\u001b[1;33m)\u001b[0m\u001b[1;33m\u001b[0m\u001b[0m\n\u001b[0m",
      "\u001b[1;32m<ipython-input-58-118fef20521c>\u001b[0m in \u001b[0;36msave_picture\u001b[1;34m(url, addr)\u001b[0m\n\u001b[0;32m      3\u001b[0m         \u001b[0mimg\u001b[0m \u001b[1;33m=\u001b[0m \u001b[0mgetHtmlText\u001b[0m\u001b[1;33m(\u001b[0m\u001b[0murl\u001b[0m\u001b[1;33m)\u001b[0m\u001b[1;33m\u001b[0m\u001b[0m\n\u001b[0;32m      4\u001b[0m         \u001b[1;32mif\u001b[0m \u001b[0mimg\u001b[0m\u001b[1;33m:\u001b[0m\u001b[1;33m\u001b[0m\u001b[0m\n\u001b[1;32m----> 5\u001b[1;33m             \u001b[0mf\u001b[0m\u001b[1;33m.\u001b[0m\u001b[0mwrite\u001b[0m\u001b[1;33m(\u001b[0m\u001b[0mimg\u001b[0m\u001b[1;33m)\u001b[0m\u001b[1;33m\u001b[0m\u001b[0m\n\u001b[0m\u001b[0;32m      6\u001b[0m     \u001b[0mprint\u001b[0m\u001b[1;33m(\u001b[0m\u001b[1;34m\"图片已保存\"\u001b[0m\u001b[1;33m)\u001b[0m\u001b[1;33m\u001b[0m\u001b[0m\n\u001b[0;32m      7\u001b[0m     \u001b[1;32mreturn\u001b[0m\u001b[1;33m\u001b[0m\u001b[0m\n",
      "\u001b[1;31mTypeError\u001b[0m: a bytes-like object is required, not 'str'"
     ]
    }
   ],
   "source": [
    "save_picture(html_url,addr)"
   ]
  },
  {
   "cell_type": "code",
   "execution_count": 74,
   "metadata": {},
   "outputs": [
    {
     "name": "stdout",
     "output_type": "stream",
     "text": [
      "https://imgsa.baidu.com/forum/w%3D580/sign=294db374d462853592e0d229a0ee76f2/e732c895d143ad4b630e8f4683025aafa40f0611.jpg\n",
      "https://imgsa.baidu.com/forum/w%3D580/sign=941c6a9596dda144da096cba82b6d009/e889d43f8794a4c2e5d529ad0ff41bd5ac6e3947.jpg\n",
      "https://imgsa.baidu.com/forum/w%3D580/sign=750661a0fcfaaf5184e381b7bc5594ed/75fafbedab64034fc3ed0b80aec379310a551d11.jpg\n",
      "https://imgsa.baidu.com/forum/w%3D580/sign=114c0f68b58f8c54e3d3c5270a282dee/3d4e78f0f736afc3c72cf6e3b219ebc4b7451211.jpg\n",
      "https://imgsa.baidu.com/forum/w%3D580/sign=3b5751825882b2b7a79f39cc01accb0a/9ac37d1ed21b0ef481c651d8dcc451da81cb3e0f.jpg\n",
      "https://imgsa.baidu.com/forum/w%3D580/sign=26c16593bd315c6043956be7bdb0cbe6/894443a98226cffcd8287634b8014a90f603ea3c.jpg\n",
      "https://imgsa.baidu.com/forum/w%3D580/sign=8905fff979f0f736d8fe4c093a54b382/08d2d539b6003af318e615e6342ac65c1138b6dd.jpg\n",
      "https://imgsa.baidu.com/forum/w%3D580/sign=c6335d3d86d6277fe912323018391f63/9dcd7cd98d1001e97833dd89b90e7bec54e7972e.jpg\n",
      "https://imgsa.baidu.com/forum/w%3D580/sign=0d3b26024bed2e73fce98624b700a16d/0faccbef76094b3697eed26ba2cc7cd98d109d3d.jpg\n",
      "https://imgsa.baidu.com/forum/w%3D580/sign=a6b7ab9a10dfa9ecfd2e561f52d1f754/48c7a7efce1b9d16a99e53e7f2deb48f8d5464d8.jpg\n",
      "https://imgsa.baidu.com/forum/w%3D580/sign=4fb535a17e3e6709be0045f70bc69fb8/50071d950a7b020893c7f66763d9f2d3572cc828.jpg\n",
      "https://imgsa.baidu.com/forum/w%3D580/sign=e87250192fdda3cc0be4b82831e83905/07dab6fd5266d016aa6057ae962bd40735fa3538.jpg\n",
      "https://imgsa.baidu.com/forum/w%3D580/sign=ac526d39a1ec08fa260013af69ef3d4d/8a8e8c5494eef01f6178d143e1fe9925bd317dcd.jpg\n",
      "https://imgsa.baidu.com/forum/w%3D580/sign=808342bf6a63f6241c5d390bb745eb32/f2be6c81800a19d8cea24d8332fa828ba71e4690.jpg\n",
      "https://imgsa.baidu.com/forum/w%3D580/sign=7bbea1d635a85edffa8cfe2b795509d8/bc27cffc1e178a827e8eb726f703738da877e88c.jpg\n",
      "https://imgsa.baidu.com/forum/w%3D580/sign=1e9533ad9c16fdfad86cc6e6848e8cea/9a0e4bfbfbedab64ba358546f636afc378311ef6.jpg\n",
      "https://imgsa.baidu.com/forum/w%3D580/sign=3bb59f66f603918fd7d13dc2613c264b/9150f3deb48f8c54cc7c0da93b292df5e1fe7f8e.jpg\n",
      "https://imgsa.baidu.com/forum/w%3D580/sign=744160a0fcfaaf5184e381b7bc5594ed/75fafbedab64034fc2aa0a80aec379310b551dd6.jpg\n",
      "https://imgsa.baidu.com/forum/w%3D580/sign=37854f4d42166d223877159c76220945/82305c6034a85edfefcf36a548540923dc5475f2.jpg\n",
      "https://imgsa.baidu.com/forum/w%3D580/sign=61592a7c7acb0a4685228b315b62f63e/ef08b3de9c82d158a1159137810a19d8bd3e42a6.jpg\n",
      "https://imgsa.baidu.com/forum/w%3D580/sign=85db4de7f91986184147ef8c7aec2e69/6783b2b7d0a20cf4076d365977094b36adaf99bc.jpg\n",
      "https://imgsa.baidu.com/forum/w%3D580/sign=9a886c9596dda144da096cba82b6d009/e889d43f8794a4c2eb412fad0ff41bd5ac6e39d3.jpg\n",
      "https://imgsa.baidu.com/forum/w%3D580/sign=84e0f495dc54564ee565e43183df9cde/c802738da97739127eaf4de7f9198618377ae2a9.jpg\n",
      "https://imgsa.baidu.com/forum/w%3D580/sign=a90dc4b7203fb80e0cd161df06d32ffb/a92ad40735fae6cdd36d63e70eb30f2443a70f58.jpg\n",
      "https://imgsa.baidu.com/forum/w%3D580/sign=0094db034bed2e73fce98624b703a16d/0faccbef76094b369a412f6aa2cc7cd98c109d62.jpg\n",
      "https://imgsa.baidu.com/forum/w%3D580/sign=21539892bd315c6043956be7bdb0cbe6/894443a98226cffcdfba8b35b8014a90f703eaa2.jpg\n",
      "https://imgsa.baidu.com/forum/w%3D580/sign=13f2ccac9c16fdfad86cc6e6848e8cea/9a0e4bfbfbedab64b7527a47f636afc379311e11.jpg\n",
      "https://imgsa.baidu.com/forum/w%3D580/sign=37639659f11f3a295ac8d5c6a924bce3/91c279310a55b31950f3b5f242a98226cffc172b.jpg\n",
      "https://imgsa.baidu.com/forum/w%3D580/sign=09f793f2d788d43ff0a991fa4d1cd2aa/6f3c269759ee3d6da00fb34c42166d224e4ade69.jpg\n",
      "https://imgsa.baidu.com/forum/w%3D580/sign=583cbe865d6034a829e2b889fb1249d9/7da88226cffc1e174b9bbbb64b90f603738de916.jpg\n",
      "https://imgsa.baidu.com/forum/w%3D580/sign=cce587af377adab43dd01b4bbbd6b36b/eea30cf431adcbef42f54a81adaf2edda2cc9f70.jpg\n",
      "https://imgsa.baidu.com/forum/w%3D580/sign=fc8fabb64d086e066aa83f4332097b5a/08d02f2eb9389b500bd4d7d58435e5dde7116e0a.jpg\n",
      "https://imgsa.baidu.com/forum/w%3D580/sign=bad0967c38dbb6fd255be52e3925aba6/ae539822720e0cf33cc06c7c0b46f21fbe09aa07.jpg\n",
      "https://imgsa.baidu.com/forum/w%3D580/sign=4c219282e4dde711e7d243fe97eecef4/ef42ad4bd11373f01b414d18a50f4bfbfbed043f.jpg\n",
      "https://imgsa.baidu.com/forum/w%3D580/sign=5c33e5a8bf096b6381195e583c328733/ef59ccbf6c81800a4fadab89b03533fa838b47e9.jpg\n",
      "https://imgsa.baidu.com/forum/w%3D580/sign=694ea4699d82d158bb8259b9b00b19d5/8e50f8198618367a62f35d5a2f738bd4b21ce5c4.jpg\n",
      "https://imgsa.baidu.com/forum/w%3D580/sign=75b71de2b219ebc4c0787691b227cf79/d751352ac65c10385fc5ec45b3119313b17e89fa.jpg\n",
      "https://imgsa.baidu.com/forum/w%3D580/sign=e85eb058cf1b9d168ac79a69c3dfb4eb/64aea40f4bfbfbed35fc14f879f0f736aec31f94.jpg\n",
      "https://imgsa.baidu.com/forum/w%3D580/sign=fb0c5d5a2f738bd4c421b239918a876c/f5ee76094b36acaf0f65b47b7dd98d1000e99cb4.jpg\n",
      "https://imgsa.baidu.com/forum/w%3D580/sign=b6723688b90e7bec23da03e91f2fb9fa/ea0635fae6cd7b89112218040e2442a7d8330eef.jpg\n",
      "https://imgsa.baidu.com/forum/w%3D580/sign=d4b5a14a5366d0167e199e20a72ad498/4c0f0cf3d7ca7bcbe728e5a8bf096b63f724a8e3.jpg\n",
      "https://imgsa.baidu.com/forum/w%3D580/sign=b84964f242a98226b8c12b2fba83b97a/2e395343fbf2b211c09e63c9cb8065380dd78e82.jpg\n",
      "https://imgsa.baidu.com/forum/w%3D580/sign=04c3e9443b87e9504217f3642039531b/05c69f3df8dcd10008621ea6738b4710b8122fb8.jpg\n",
      "https://imgsa.baidu.com/forum/w%3D580/sign=ad53875037d12f2ece05ae687fc3d5ff/45889e510fb30f2494180a84c995d143ac4b03bc.jpg\n",
      "https://imgsa.baidu.com/forum/w%3D580/sign=5b9860aeeac4b7453494b71efffd1e78/0b2bc65c10385343aa3f61a69213b07ecb808842.jpg\n",
      "https://imgsa.baidu.com/forum/w%3D580/sign=35882481aec379317d688621dbc5b784/88013af33a87e950785215eb11385343faf2b4f5.jpg\n",
      "https://imgsa.baidu.com/forum/w%3D580/sign=2ad04ea1fcfaaf5184e381b7bc5594ed/75fafbedab64034f9c3b2481aec379310b551d40.jpg\n",
      "https://imgsa.baidu.com/forum/w%3D580/sign=814c097350da81cb4ee683c56267d0a4/782209f7905298225e2cd844d6ca7bcb0a46d41f.jpg\n",
      "https://imgsa.baidu.com/forum/w%3D580/sign=d60df942e1fe9925cb0c695804a95ee4/8d18ebc4b74543a96e021b4b1f178a82b9011419.jpg\n",
      "https://imgsa.baidu.com/forum/w%3D580/sign=b9cb63f242a98226b8c12b2fba83b97a/2e395343fbf2b211c11c64c9cb8065380cd78e0c.jpg\n",
      "https://imgsa.baidu.com/forum/w%3D580/sign=6c1eaf5b55e736d158138c00ab514ffc/d8cc7b899e510fb3db349610d833c895d1430c0d.jpg\n",
      "https://imgsa.baidu.com/forum/w%3D580/sign=a18570757c1ed21b79c92eed9d6fddae/6bfab2fb43166d22695bf413472309f79052d20e.jpg\n",
      "https://imgsa.baidu.com/forum/w%3D580/sign=34e22381aec379317d688621dbc5b784/88013af33a87e950793812eb11385343fbf2b40f.jpg\n",
      "https://imgsa.baidu.com/forum/w%3D580/sign=33239710d833c895a67e9873e1127397/244d510fd9f9d72a5c5ef09ad52a2834349bbb04.jpg\n",
      "https://imgsa.baidu.com/forum/w%3D580/sign=131d23b4728da9774e2f86238050f872/32d6912397dda144f4b98c35b3b7d0a20df48682.jpg\n",
      "https://imgsa.baidu.com/forum/w%3D580/sign=99bb027d7acb0a4685228b315b62f63e/ef08b3de9c82d15859f7b936810a19d8bd3e42c5.jpg\n",
      "https://imgsa.baidu.com/forum/w%3D580/sign=0298337a7a899e51788e3a1c72a6d990/c8256b600c338744dc9acffb500fd9f9d62aa0df.jpg\n",
      "https://imgsa.baidu.com/forum/w%3D580/sign=5ce70dcb8ad4b31cf03c94b3b7d7276f/48084b36acaf2eddb5c65f618c1001e939019307.jpg\n",
      "https://imgsa.baidu.com/forum/w%3D580/sign=5d5b0ccb8ad4b31cf03c94b3b7d7276f/48084b36acaf2eddb47a5e618c1001e9380193ab.jpg\n",
      "https://imgsa.baidu.com/forum/w%3D580/sign=73b8ff7c50da81cb4ee683c56264d0a4/782209f790529822acd82e4bd6ca7bcb0b46d454.jpg\n",
      "https://imgsa.baidu.com/forum/w%3D580/sign=fdcdb5b2314e251fe2f7e4f09784c9c2/16391f30e924b89915f86eb06f061d950b7bf677.jpg\n",
      "https://imgsa.baidu.com/forum/w%3D580/sign=6a438de9f2deb48ffb69a1d6c01e3aef/9565034f78f0f736387a5b890b55b319eac413b6.jpg\n",
      "https://imgsa.baidu.com/forum/w%3D580/sign=862cd58eaec379317d688621dbc6b784/88013af33a87e950cbf6e4e411385343faf2b452.jpg\n",
      "https://imgsa.baidu.com/forum/w%3D580/sign=b47767118326cffc692abfba89004a7d/6d42fbf2b2119313b34cee3864380cd791238d2f.jpg\n",
      "https://imgsa.baidu.com/forum/w%3D580/sign=e98093fd42a98226b8c12b2fba83b97a/2e395343fbf2b211915794c6cb8065380cd78e39.jpg\n",
      "https://imgsa.baidu.com/forum/w%3D580/sign=b8640487b90e7bec23da03e91f2fb9fa/ea0635fae6cd7b891f342a0b0e2442a7d8330eda.jpg\n",
      "https://imgsa.baidu.com/forum/w%3D580/sign=4031f330d53f8794d3ff4826e21a0ead/189659ee3d6d55fb608f66ae6c224f4a21a4ddea.jpg\n",
      "https://imgsa.baidu.com/forum/w%3D580/sign=b9458a86b03533faf5b6932698d2fdca/b5d5b31c8701a18b274b11c79f2f07082938fe93.jpg\n"
     ]
    }
   ],
   "source": [
    "#getHtmlText(html_url)\n",
    "for html_url in html:\n",
    "    print(html_url)"
   ]
  },
  {
   "cell_type": "code",
   "execution_count": 66,
   "metadata": {},
   "outputs": [
    {
     "data": {
      "text/plain": [
       "('C:\\\\Users\\\\Think\\\\Desktop\\\\pythondownload\\\\1.jpg',\n",
       " <http.client.HTTPMessage at 0x1fe6ce27e10>)"
      ]
     },
     "execution_count": 66,
     "metadata": {},
     "output_type": "execute_result"
    }
   ],
   "source": [
    "urllib.request.urlretrieve(html_url,'{}{}.jpg'.format(path,1)) "
   ]
  },
  {
   "cell_type": "code",
   "execution_count": 75,
   "metadata": {},
   "outputs": [],
   "source": [
    "x = 1\n",
    "for html_url in html:\n",
    "    urllib.request.urlretrieve(html_url,'{}{}.jpg'.format(path,x)) \n",
    "    x += 1"
   ]
  },
  {
   "cell_type": "code",
   "execution_count": 82,
   "metadata": {},
   "outputs": [],
   "source": [
    "import requests\n",
    "import re\n",
    "import urllib\n",
    "\n",
    "# @brief  打开网页 # url : 网页地址# @return 返回网页数据\n",
    "def getHtmlText(url,headers):\n",
    "    try:\n",
    "        r = requests.get(url, headers,timeout=30)  # 如果状态码不是200 则应发HTTOError异常\n",
    "        r.raise_for_status()               # 设置正确的编码方式\n",
    "        r.encoding = r.apparent_encoding\n",
    "        return r.text\n",
    "    except:\n",
    "        return \"Something Wrong!\"\n",
    "\n",
    "# 找图片\n",
    "def getImg(html):\n",
    "#    reg = r'src=\"(.+?\\.jpg)\" pic_ext'\n",
    "    reg = r'href=\"(.+?\\.jpg)\" style'\n",
    "    imgre = re.compile(reg)\n",
    "    imglist = imgre.findall(html)                       #表示在整个网页中过滤出所有图片的地址，放在imglist中\n",
    "    return imglist\n",
    "\n",
    "\n",
    "# @brief 保存图片 # url : 图片url # addr  : 保存的地址\n",
    "def save_picture(url,addr,name):\n",
    "    urllib.request.urlretrieve(url,'{}{}.jpg'.format(addr,name))    \n",
    "    return"
   ]
  },
  {
   "cell_type": "code",
   "execution_count": 2,
   "metadata": {},
   "outputs": [
    {
     "ename": "NameError",
     "evalue": "name 'getImg' is not defined",
     "output_type": "error",
     "traceback": [
      "\u001b[1;31m---------------------------------------------------------------------------\u001b[0m",
      "\u001b[1;31mNameError\u001b[0m                                 Traceback (most recent call last)",
      "\u001b[1;32m<ipython-input-2-02670625828f>\u001b[0m in \u001b[0;36m<module>\u001b[1;34m()\u001b[0m\n\u001b[0;32m      2\u001b[0m \u001b[0mheaders\u001b[0m \u001b[1;33m=\u001b[0m \u001b[1;33m{\u001b[0m\u001b[1;34m'User-Agent'\u001b[0m\u001b[1;33m:\u001b[0m\u001b[1;34m'Mozilla/5.0 (Windows NT 6.1; WOW64) AppleWebKit/537.36 (KHTML, like Gecko) Chrome/49.0.2623.112 Safari/537.36'\u001b[0m\u001b[1;33m}\u001b[0m\u001b[1;33m\u001b[0m\u001b[0m\n\u001b[0;32m      3\u001b[0m \u001b[0mpath\u001b[0m \u001b[1;33m=\u001b[0m \u001b[1;34m'C:\\\\Users\\\\Think\\\\Desktop\\\\pythondownload\\\\'\u001b[0m\u001b[1;33m\u001b[0m\u001b[0m\n\u001b[1;32m----> 4\u001b[1;33m \u001b[0mhtml\u001b[0m \u001b[1;33m=\u001b[0m \u001b[0mgetImg\u001b[0m\u001b[1;33m(\u001b[0m\u001b[0mgetHtmlText\u001b[0m\u001b[1;33m(\u001b[0m\u001b[0murl\u001b[0m\u001b[1;33m,\u001b[0m\u001b[0mheaders\u001b[0m\u001b[1;33m)\u001b[0m\u001b[1;33m)\u001b[0m\u001b[1;31m#\u001b[0m\u001b[1;33m\u001b[0m\u001b[0m\n\u001b[0m",
      "\u001b[1;31mNameError\u001b[0m: name 'getImg' is not defined"
     ]
    }
   ],
   "source": [
    "url = \"https://tieba.baidu.com/p/1457328431\"\n",
    "headers = {'User-Agent':'Mozilla/5.0 (Windows NT 6.1; WOW64) AppleWebKit/537.36 (KHTML, like Gecko) Chrome/49.0.2623.112 Safari/537.36'}\n",
    "path = 'C:\\\\Users\\\\Think\\\\Desktop\\\\pythondownload\\\\' \n",
    "html = getImg(getHtmlText(url,headers))#"
   ]
  },
  {
   "cell_type": "code",
   "execution_count": 1,
   "metadata": {},
   "outputs": [],
   "source": [
    "url = 'https://timgsa.baidu.com/timg?image&quality=80&size=b9999_10000&sec=1522585101633&di=a0663fa50c3b3f470dc7e2b789b43d24&imgtype=0&src=http%3A%2F%2Fpic32.photophoto.cn%2F20140718%2F0033034334383169_b.jpg'"
   ]
  },
  {
   "cell_type": "code",
   "execution_count": 89,
   "metadata": {},
   "outputs": [],
   "source": [
    "save_picture(url,path,2)"
   ]
  }
 ],
 "metadata": {
  "kernelspec": {
   "display_name": "Python 3",
   "language": "python",
   "name": "python3"
  },
  "language_info": {
   "codemirror_mode": {
    "name": "ipython",
    "version": 3
   },
   "file_extension": ".py",
   "mimetype": "text/x-python",
   "name": "python",
   "nbconvert_exporter": "python",
   "pygments_lexer": "ipython3",
   "version": "3.6.4"
  }
 },
 "nbformat": 4,
 "nbformat_minor": 2
}
