{
 "cells": [
  {
   "cell_type": "code",
   "execution_count": 1,
   "metadata": {
    "collapsed": true
   },
   "outputs": [],
   "source": [
    "import pandas as pd"
   ]
  },
  {
   "cell_type": "code",
   "execution_count": 2,
   "metadata": {
    "collapsed": true
   },
   "outputs": [],
   "source": [
    "#pd.read_excel('F:/特殊教育学校评估项目二期/四川省指标体系计算计算方式和结果0414.xlsx')"
   ]
  },
  {
   "cell_type": "code",
   "execution_count": 7,
   "metadata": {},
   "outputs": [
    {
     "data": {
      "text/plain": [
       "'A'"
      ]
     },
     "execution_count": 7,
     "metadata": {},
     "output_type": "execute_result"
    }
   ],
   "source": [
    "str1 = '''ABSaDKSbRIHcRHGcdDIF'''\n",
    "str1[0]"
   ]
  },
  {
   "cell_type": "code",
   "execution_count": 4,
   "metadata": {
    "collapsed": true
   },
   "outputs": [],
   "source": [
    "countA = 0  # 统计前边的大写字母\n",
    "countB = 0  # 统计小写字母\n",
    "countC = 0  # 统计后边的大写字母\n",
    "length = len(str1)\n"
   ]
  },
  {
   "cell_type": "code",
   "execution_count": 5,
   "metadata": {},
   "outputs": [
    {
     "name": "stdout",
     "output_type": "stream",
     "text": [
      "abc"
     ]
    }
   ],
   "source": [
    "for i in range(length):\n",
    "    if str1[i] == '\\n':\n",
    "        continue\n",
    "\n",
    "    \"\"\"\n",
    "    |如果str1[i]是大写字母：\n",
    "    |-- 如果已经出现小写字母：\n",
    "    |-- -- 统计后边的大写字母\n",
    "    |-- 如果未出现小写字母：\n",
    "    |-- -- 清空后边大写字母的统计\n",
    "    |-- -- 统计前边的大写字母\n",
    "    \"\"\"\n",
    "    if str1[i].isupper():\n",
    "        if countB:\n",
    "            countC += 1\n",
    "        else:\n",
    "            countC = 0\n",
    "            countA += 1\n",
    "\n",
    "    \"\"\"\n",
    "    |如果str1[i]是小写字母：\n",
    "    |-- 如果小写字母前边不是三个大写字母（不符合条件）：\n",
    "    |-- -- 清空所有记录，重新统计\n",
    "    |-- 如果小写字母前边是三个大写字母（符合条件）：\n",
    "    |-- -- 如果已经存在小写字母：\n",
    "    |-- -- -- 清空所有记录，重新统计（出现两个小写字母）\n",
    "    |-- -- 如果该小写字母是唯一的：\n",
    "    |-- -- -- countB记录出现小写字母，准备开始统计countC\n",
    "    \"\"\"\n",
    "    if str1[i].islower():\n",
    "        if countA != 3:\n",
    "            countA = 0\n",
    "            countB = 0\n",
    "            countC = 0\n",
    "        else: \n",
    "            if countB:\n",
    "                countA = 0\n",
    "                countB = 0\n",
    "                countC = 0\n",
    "            else:\n",
    "                countB = 1\n",
    "                countC = 0\n",
    "                target = i\n",
    "\n",
    "    \"\"\"\n",
    "    |如果前边和后边都是三个大写字母：\n",
    "    |-- 如果后边第四个字母也是大写字母（不符合条件）：\n",
    "    |-- -- 清空记录B和C，重新统计\n",
    "    |-- 如果后边仅有三个大写字母（符合所有条件）：\n",
    "    |-- -- 打印结果，并清空所有记录，进入下一轮统计\n",
    "    \"\"\"\n",
    "    if countA == 3 and countC == 3:\n",
    "        if i+1 != length and str1[i+1].isupper():\n",
    "            countB = 0\n",
    "            countC = 0\n",
    "        else:\n",
    "            print(str1[target], end='')\n",
    "            countA = 3\n",
    "            countB = 0\n",
    "            countC = 0\n",
    "\n"
   ]
  },
  {
   "cell_type": "code",
   "execution_count": null,
   "metadata": {
    "collapsed": true
   },
   "outputs": [],
   "source": [
    "\n"
   ]
  }
 ],
 "metadata": {
  "kernelspec": {
   "display_name": "Python 3",
   "language": "python",
   "name": "python3"
  },
  "language_info": {
   "codemirror_mode": {
    "name": "ipython",
    "version": 3
   },
   "file_extension": ".py",
   "mimetype": "text/x-python",
   "name": "python",
   "nbconvert_exporter": "python",
   "pygments_lexer": "ipython3",
   "version": "3.6.3"
  }
 },
 "nbformat": 4,
 "nbformat_minor": 2
}
