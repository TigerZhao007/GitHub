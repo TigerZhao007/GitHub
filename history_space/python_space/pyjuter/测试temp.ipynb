{
 "cells": [
  {
   "cell_type": "code",
   "execution_count": 11,
   "metadata": {},
   "outputs": [],
   "source": [
    "# -*- coding: utf-8 -*-\n",
    "from bs4 import BeautifulSoup\n",
    "from lxml import etree\n",
    "import pandas as pd\n",
    "from selenium import webdriver  \n",
    "import re\n",
    "import urllib\n",
    "import requests\n",
    "import time\n",
    "import os"
   ]
  },
  {
   "cell_type": "code",
   "execution_count": 2,
   "metadata": {},
   "outputs": [
    {
     "name": "stderr",
     "output_type": "stream",
     "text": [
      "D:\\Python\\lib\\site-packages\\selenium\\webdriver\\phantomjs\\webdriver.py:49: UserWarning: Selenium support for PhantomJS has been deprecated, please use headless versions of Chrome or Firefox instead\n",
      "  warnings.warn('Selenium support for PhantomJS has been deprecated, please use headless '\n"
     ]
    }
   ],
   "source": [
    "driver = webdriver.PhantomJS(executable_path=\"D:/Python/selenium/webdriver/phantomjs/bin/phantomjs.exe\")  "
   ]
  },
  {
   "cell_type": "code",
   "execution_count": 3,
   "metadata": {},
   "outputs": [],
   "source": [
    "url1 = 'http://www.mmjpg.com/mm/1347'\n",
    "driver.get(url1)\n",
    "time.sleep(3)\n",
    "driver.find_element_by_xpath('//em[@class=\"ch all\"]').click()\n",
    "time.sleep(5)\n",
    "html = driver.page_source\n",
    "selector = etree.HTML(html)\n",
    "pic_urls = selector.xpath('//div[@id=\"content\"]/img/@data-img')"
   ]
  },
  {
   "cell_type": "code",
   "execution_count": 4,
   "metadata": {},
   "outputs": [
    {
     "data": {
      "text/plain": [
       "['http://img.mmjpg.com/2018/1347/1i43.jpg',\n",
       " 'http://img.mmjpg.com/2018/1347/2if0.jpg',\n",
       " 'http://img.mmjpg.com/2018/1347/3inh.jpg',\n",
       " 'http://img.mmjpg.com/2018/1347/4ilw.jpg',\n",
       " 'http://img.mmjpg.com/2018/1347/5ihg.jpg',\n",
       " 'http://img.mmjpg.com/2018/1347/6if5.jpg',\n",
       " 'http://img.mmjpg.com/2018/1347/7if9.jpg',\n",
       " 'http://img.mmjpg.com/2018/1347/8ikj.jpg',\n",
       " 'http://img.mmjpg.com/2018/1347/9i3e.jpg',\n",
       " 'http://img.mmjpg.com/2018/1347/10in9.jpg',\n",
       " 'http://img.mmjpg.com/2018/1347/11ib9.jpg',\n",
       " 'http://img.mmjpg.com/2018/1347/12i5v.jpg',\n",
       " 'http://img.mmjpg.com/2018/1347/13iah.jpg',\n",
       " 'http://img.mmjpg.com/2018/1347/14iys.jpg',\n",
       " 'http://img.mmjpg.com/2018/1347/15iu2.jpg',\n",
       " 'http://img.mmjpg.com/2018/1347/16idp.jpg',\n",
       " 'http://img.mmjpg.com/2018/1347/17i6h.jpg',\n",
       " 'http://img.mmjpg.com/2018/1347/18i90.jpg',\n",
       " 'http://img.mmjpg.com/2018/1347/19id4.jpg',\n",
       " 'http://img.mmjpg.com/2018/1347/20iod.jpg',\n",
       " 'http://img.mmjpg.com/2018/1347/21iug.jpg',\n",
       " 'http://img.mmjpg.com/2018/1347/22izr.jpg',\n",
       " 'http://img.mmjpg.com/2018/1347/23ie4.jpg',\n",
       " 'http://img.mmjpg.com/2018/1347/24idz.jpg',\n",
       " 'http://img.mmjpg.com/2018/1347/25iot.jpg',\n",
       " 'http://img.mmjpg.com/2018/1347/26if6.jpg',\n",
       " 'http://img.mmjpg.com/2018/1347/27iyn.jpg',\n",
       " 'http://img.mmjpg.com/2018/1347/28in8.jpg',\n",
       " 'http://img.mmjpg.com/2018/1347/29ifs.jpg',\n",
       " 'http://img.mmjpg.com/2018/1347/30igx.jpg',\n",
       " 'http://img.mmjpg.com/2018/1347/31iyh.jpg',\n",
       " 'http://img.mmjpg.com/2018/1347/32i23.jpg',\n",
       " 'http://img.mmjpg.com/2018/1347/33irj.jpg',\n",
       " 'http://img.mmjpg.com/2018/1347/34ijl.jpg',\n",
       " 'http://img.mmjpg.com/2018/1347/35ibu.jpg',\n",
       " 'http://img.mmjpg.com/2018/1347/36ixp.jpg',\n",
       " 'http://img.mmjpg.com/2018/1347/37i0g.jpg',\n",
       " 'http://img.mmjpg.com/2018/1347/38iux.jpg',\n",
       " 'http://img.mmjpg.com/2018/1347/39ij4.jpg',\n",
       " 'http://img.mmjpg.com/2018/1347/40ica.jpg',\n",
       " 'http://img.mmjpg.com/2018/1347/41ief.jpg',\n",
       " 'http://img.mmjpg.com/2018/1347/42iob.jpg',\n",
       " 'http://img.mmjpg.com/2018/1347/43ijq.jpg']"
      ]
     },
     "execution_count": 4,
     "metadata": {},
     "output_type": "execute_result"
    }
   ],
   "source": [
    "pic_urls"
   ]
  },
  {
   "cell_type": "code",
   "execution_count": 5,
   "metadata": {},
   "outputs": [],
   "source": [
    "# 设置图片存储路径\n",
    "path_info = 'E:\\Downloads\\picture\\data_information'\n",
    "path = 'E:/Downloads/picture/妹子图/'\n",
    "# 创建文件夹\n",
    "try:\n",
    "    os.mkdir(path)\n",
    "except:\n",
    "    pass\n",
    "# @brief 保存图片  # url : 图片url # addr  : 保存的地址\n",
    "def save_picture(url,addr,name):\n",
    "    urllib.request.urlretrieve(url,'{}{}.jpg'.format(addr,name))    \n",
    "    return"
   ]
  },
  {
   "cell_type": "code",
   "execution_count": 8,
   "metadata": {},
   "outputs": [],
   "source": [
    "name = 'ssss'\n",
    "j=1\n",
    "save_picture('http://img.mmjpg.com/2018/1347/43ijq.jpg',path,str(name)+'_'+str(j))"
   ]
  },
  {
   "cell_type": "code",
   "execution_count": 13,
   "metadata": {},
   "outputs": [],
   "source": [
    "headers = { 'User-Agent': 'Mozilla/5.0 (X11; Linux x86_64) AppleWebKit/537.36 (KHTML, like Gecko) ' 'Chrome/65.0.3325.181 Safari/537.36',\n",
    "                        'Referer': \"http://www.mmjpg.com\"}\n",
    "            "
   ]
  },
  {
   "cell_type": "code",
   "execution_count": 20,
   "metadata": {},
   "outputs": [],
   "source": [
    "picture = requests.get('http://img.mmjpg.com/2018/1347/43ijq.jpg',headers=headers)\n",
    "path1 = path+'a.jpg'"
   ]
  },
  {
   "cell_type": "code",
   "execution_count": 21,
   "metadata": {},
   "outputs": [],
   "source": [
    "with open(path1, 'wb')as f:\n",
    "    f.write(picture.content)\n",
    "    #print(\"正在保存{}第{}张\".format(self.girl_name, img_name))\n",
    "    f.close()"
   ]
  },
  {
   "cell_type": "code",
   "execution_count": 24,
   "metadata": {},
   "outputs": [],
   "source": [
    "picture.content\n",
    "a = 'http://img.mmjpg.com/2018/1347/43ijq.jpg'"
   ]
  },
  {
   "cell_type": "code",
   "execution_count": 26,
   "metadata": {},
   "outputs": [],
   "source": [
    "def save_picture(url,addr,name,num):\n",
    "    headers = { 'User-Agent': 'Mozilla/5.0 (X11; Linux x86_64) AppleWebKit/537.36 (KHTML, like Gecko) ' 'Chrome/65.0.3325.181 Safari/537.36',\n",
    "                 'Referer': \"http://www.mmjpg.com\"}\n",
    "    picture = requests.get(url,headers=headers)\n",
    "    path = addr + name + str(num)+ '.jpg'\n",
    "    with open(path, 'wb')as f:\n",
    "        f.write(picture.content)\n",
    "        #print(\"正在保存{}第{}张\".format(self.girl_name, img_name))\n",
    "        f.close()"
   ]
  },
  {
   "cell_type": "code",
   "execution_count": 27,
   "metadata": {},
   "outputs": [],
   "source": [
    "save_picture(a,path,'按时',2 )"
   ]
  },
  {
   "cell_type": "code",
   "execution_count": null,
   "metadata": {},
   "outputs": [],
   "source": []
  }
 ],
 "metadata": {
  "kernelspec": {
   "display_name": "Python 3",
   "language": "python",
   "name": "python3"
  },
  "language_info": {
   "codemirror_mode": {
    "name": "ipython",
    "version": 3
   },
   "file_extension": ".py",
   "mimetype": "text/x-python",
   "name": "python",
   "nbconvert_exporter": "python",
   "pygments_lexer": "ipython3",
   "version": "3.6.4"
  }
 },
 "nbformat": 4,
 "nbformat_minor": 2
}
