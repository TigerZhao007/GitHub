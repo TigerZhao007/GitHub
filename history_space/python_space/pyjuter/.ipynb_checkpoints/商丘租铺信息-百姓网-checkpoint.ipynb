{
 "cells": [
  {
   "cell_type": "code",
   "execution_count": 1,
   "metadata": {
    "collapsed": true
   },
   "outputs": [],
   "source": [
    "from bs4 import BeautifulSoup\n",
    "import pandas as pd\n",
    "from selenium import webdriver  \n",
    "import re\n",
    "import urllib"
   ]
  },
  {
   "cell_type": "code",
   "execution_count": 121,
   "metadata": {
    "collapsed": true
   },
   "outputs": [],
   "source": [
    "item = {\n",
    "    'houseid':'房屋编码',\n",
    "    'housename':'房屋名字',\n",
    "    'houseprice':'房屋价格',\n",
    "    'housearea':'房屋面积',\n",
    "    'houselink':'房屋链接'\n",
    "}\n",
    "item = pd.DataFrame.from_dict(item,orient='index').T"
   ]
  },
  {
   "cell_type": "code",
   "execution_count": 122,
   "metadata": {
    "collapsed": true
   },
   "outputs": [],
   "source": [
    "url_list = ['http://shangqiu.baixing.com/shangpuchushou/?page=%s'%(str(num))\n",
    "        for num in range(1,25)]"
   ]
  },
  {
   "cell_type": "code",
   "execution_count": 123,
   "metadata": {},
   "outputs": [
    {
     "name": "stderr",
     "output_type": "stream",
     "text": [
      "D:\\Python\\lib\\site-packages\\selenium\\webdriver\\phantomjs\\webdriver.py:49: UserWarning: Selenium support for PhantomJS has been deprecated, please use headless versions of Chrome or Firefox instead\n",
      "  warnings.warn('Selenium support for PhantomJS has been deprecated, please use headless '\n"
     ]
    }
   ],
   "source": [
    "browser = webdriver.PhantomJS(executable_path=\"D:/Python/selenium/webdriver/phantomjs/bin/phantomjs.exe\")  "
   ]
  },
  {
   "cell_type": "code",
   "execution_count": 124,
   "metadata": {},
   "outputs": [
    {
     "name": "stdout",
     "output_type": "stream",
     "text": [
      "--------------------------------------------------------\n",
      "正在加载http://shangqiu.baixing.com/shangpuchushou/?page=1信息\n",
      "爬取房源失败\n",
      "爬取房源失败\n",
      "爬取房源失败\n",
      "--------------------------------------------------------\n",
      "正在加载http://shangqiu.baixing.com/shangpuchushou/?page=2信息\n",
      "爬取房源失败\n",
      "爬取房源失败\n",
      "爬取房源失败\n",
      "--------------------------------------------------------\n",
      "正在加载http://shangqiu.baixing.com/shangpuchushou/?page=3信息\n",
      "爬取房源失败\n",
      "爬取房源失败\n",
      "--------------------------------------------------------\n",
      "正在加载http://shangqiu.baixing.com/shangpuchushou/?page=4信息\n",
      "爬取房源失败\n",
      "爬取房源失败\n",
      "爬取房源失败\n",
      "--------------------------------------------------------\n",
      "正在加载http://shangqiu.baixing.com/shangpuchushou/?page=5信息\n",
      "爬取房源失败\n",
      "爬取房源失败\n",
      "爬取房源失败\n",
      "--------------------------------------------------------\n",
      "正在加载http://shangqiu.baixing.com/shangpuchushou/?page=6信息\n",
      "爬取房源失败\n",
      "爬取房源失败\n",
      "爬取房源失败\n",
      "--------------------------------------------------------\n",
      "正在加载http://shangqiu.baixing.com/shangpuchushou/?page=7信息\n",
      "爬取房源失败\n",
      "爬取房源失败\n",
      "爬取房源失败\n",
      "--------------------------------------------------------\n",
      "正在加载http://shangqiu.baixing.com/shangpuchushou/?page=8信息\n",
      "爬取房源失败\n",
      "爬取房源失败\n",
      "爬取房源失败\n",
      "--------------------------------------------------------\n",
      "正在加载http://shangqiu.baixing.com/shangpuchushou/?page=9信息\n",
      "爬取房源失败\n",
      "爬取房源失败\n",
      "爬取房源失败\n",
      "--------------------------------------------------------\n",
      "正在加载http://shangqiu.baixing.com/shangpuchushou/?page=10信息\n",
      "爬取房源失败\n",
      "爬取房源失败\n",
      "爬取房源失败\n",
      "--------------------------------------------------------\n",
      "正在加载http://shangqiu.baixing.com/shangpuchushou/?page=11信息\n",
      "爬取房源失败\n",
      "爬取房源失败\n",
      "爬取房源失败\n",
      "--------------------------------------------------------\n",
      "正在加载http://shangqiu.baixing.com/shangpuchushou/?page=12信息\n",
      "爬取房源失败\n",
      "爬取房源失败\n",
      "爬取房源失败\n",
      "--------------------------------------------------------\n",
      "正在加载http://shangqiu.baixing.com/shangpuchushou/?page=13信息\n",
      "爬取房源失败\n",
      "爬取房源失败\n",
      "爬取房源失败\n",
      "--------------------------------------------------------\n",
      "正在加载http://shangqiu.baixing.com/shangpuchushou/?page=14信息\n",
      "爬取房源失败\n",
      "爬取房源失败\n",
      "爬取房源失败\n",
      "--------------------------------------------------------\n",
      "正在加载http://shangqiu.baixing.com/shangpuchushou/?page=15信息\n",
      "爬取房源失败\n",
      "爬取房源失败\n",
      "爬取房源失败\n",
      "--------------------------------------------------------\n",
      "正在加载http://shangqiu.baixing.com/shangpuchushou/?page=16信息\n",
      "爬取房源失败\n",
      "爬取房源失败\n",
      "爬取房源失败\n",
      "--------------------------------------------------------\n",
      "正在加载http://shangqiu.baixing.com/shangpuchushou/?page=17信息\n",
      "爬取房源失败\n",
      "爬取房源失败\n",
      "爬取房源失败\n",
      "--------------------------------------------------------\n",
      "正在加载http://shangqiu.baixing.com/shangpuchushou/?page=18信息\n",
      "爬取房源失败\n",
      "爬取房源失败\n",
      "爬取房源失败\n",
      "--------------------------------------------------------\n",
      "正在加载http://shangqiu.baixing.com/shangpuchushou/?page=19信息\n",
      "爬取房源失败\n",
      "爬取房源失败\n",
      "爬取房源失败\n",
      "--------------------------------------------------------\n",
      "正在加载http://shangqiu.baixing.com/shangpuchushou/?page=20信息\n",
      "爬取房源失败\n",
      "爬取房源失败\n",
      "爬取房源失败\n",
      "--------------------------------------------------------\n",
      "正在加载http://shangqiu.baixing.com/shangpuchushou/?page=21信息\n",
      "爬取房源失败\n",
      "爬取房源失败\n",
      "爬取房源失败\n",
      "--------------------------------------------------------\n",
      "正在加载http://shangqiu.baixing.com/shangpuchushou/?page=22信息\n",
      "爬取房源失败\n",
      "爬取房源失败\n",
      "爬取房源失败\n",
      "--------------------------------------------------------\n",
      "正在加载http://shangqiu.baixing.com/shangpuchushou/?page=23信息\n",
      "爬取房源失败\n",
      "爬取房源失败\n",
      "爬取房源失败\n",
      "--------------------------------------------------------\n",
      "正在加载http://shangqiu.baixing.com/shangpuchushou/?page=24信息\n",
      "爬取房源失败\n",
      "爬取房源失败\n",
      "爬取房源失败\n"
     ]
    }
   ],
   "source": [
    "item_list = pd.DataFrame()\n",
    "for url in url_list:\n",
    "    print('--------------------------------------------------------')\n",
    "    print('正在加载%s信息'%(url))\n",
    "    browser.get(url)\n",
    "    data = browser.page_source\n",
    "    soup =  BeautifulSoup(data,'lxml')\n",
    "    lis1 = soup.find('div',attrs={'class':'main'}).find('ul',attrs={'style':'border-top: 1px dotted #eee;','class':'list-ad-items '}).find_all('li')\n",
    "    for lis in lis1:  \n",
    "        try:\n",
    "           # print('爬取房源%s信息'%(lis['data-aid']))\n",
    "            item['houseid'] = lis['data-aid']\n",
    "            item['houselink'] = lis.find('a')['href']\n",
    "            item['housename'] = lis.find('div',attrs={'class':'media-body-title'}).find('a').getText()\n",
    "            item['houseprice'] = lis.find('span',attrs={'class':'highlight'}).getText()\n",
    "            item['housearea'] = lis.find('div',attrs={'class':'ad-item-detail'}).getText()\n",
    "            item_list = item_list.append(item)\n",
    "        except:\n",
    "            print('爬取房源失败')"
   ]
  },
  {
   "cell_type": "code",
   "execution_count": 125,
   "metadata": {
    "collapsed": true
   },
   "outputs": [],
   "source": [
    "item_list.to_csv(\"C:/Users/Think/Desktop/test.csv\",index=False,sep=',',encoding='utf_8_sig')"
   ]
  },
  {
   "cell_type": "code",
   "execution_count": 2,
   "metadata": {
    "collapsed": true
   },
   "outputs": [],
   "source": [
    "url = 'http://www.puduoduo58.com/zhuan/index.html'"
   ]
  },
  {
   "cell_type": "code",
   "execution_count": 3,
   "metadata": {},
   "outputs": [
    {
     "name": "stderr",
     "output_type": "stream",
     "text": [
      "D:\\python\\lib\\site-packages\\selenium\\webdriver\\phantomjs\\webdriver.py:49: UserWarning: Selenium support for PhantomJS has been deprecated, please use headless versions of Chrome or Firefox instead\n",
      "  warnings.warn('Selenium support for PhantomJS has been deprecated, please use headless '\n"
     ]
    }
   ],
   "source": [
    "browser = webdriver.PhantomJS(executable_path=\"D:/python/phantomjs/bin/phantomjs.exe\")\n",
    "browser.get(url)"
   ]
  },
  {
   "cell_type": "code",
   "execution_count": null,
   "metadata": {
    "collapsed": true
   },
   "outputs": [],
   "source": [
    "\n"
   ]
  }
 ],
 "metadata": {
  "kernelspec": {
   "display_name": "Python 3",
   "language": "python",
   "name": "python3"
  },
  "language_info": {
   "codemirror_mode": {
    "name": "ipython",
    "version": 3
   },
   "file_extension": ".py",
   "mimetype": "text/x-python",
   "name": "python",
   "nbconvert_exporter": "python",
   "pygments_lexer": "ipython3",
   "version": "3.6.3"
  }
 },
 "nbformat": 4,
 "nbformat_minor": 2
}
