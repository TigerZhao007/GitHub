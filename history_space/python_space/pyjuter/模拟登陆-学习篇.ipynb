{
 "cells": [
  {
   "cell_type": "code",
   "execution_count": 25,
   "metadata": {},
   "outputs": [],
   "source": [
    "import requests\n",
    "import http.cookiejar as cookielib\n",
    "import re\n",
    "import time\n",
    "import hmac\n",
    "from hashlib import sha1\n",
    "import json\n",
    "import base64\n",
    "from PIL import Image"
   ]
  },
  {
   "cell_type": "code",
   "execution_count": 6,
   "metadata": {},
   "outputs": [],
   "source": [
    "headers = {  \n",
    "'User-Agent':'Mozilla/5.0 (Windows NT 6.1; WOW64) AppleWebKit/537.36 (KHTML, like Gecko) Chrome/41.0.2272.89 Safari/537.36',  \n",
    "# 'Referer':'https://www.zhihu.com/',  \n",
    "# 'X-Requested-With': 'XMLHttpRequest',  \n",
    "# 'Origin':'https://www.zhihu.com'  \n",
    "}  "
   ]
  },
  {
   "cell_type": "code",
   "execution_count": 3,
   "metadata": {},
   "outputs": [],
   "source": [
    "url = 'https://www.zhihu.com/#signin'\n",
    "# https://blog.csdn.net/gangzhucoll/article/details/79968878"
   ]
  },
  {
   "cell_type": "code",
   "execution_count": 11,
   "metadata": {},
   "outputs": [
    {
     "data": {
      "text/plain": [
       "<Response [200]>"
      ]
     },
     "execution_count": 11,
     "metadata": {},
     "output_type": "execute_result"
    }
   ],
   "source": [
    "requests.session().get(url, headers=headers)"
   ]
  },
  {
   "cell_type": "code",
   "execution_count": 9,
   "metadata": {},
   "outputs": [],
   "source": [
    "session = requests.session()  "
   ]
  },
  {
   "cell_type": "code",
   "execution_count": 22,
   "metadata": {},
   "outputs": [],
   "source": [
    "response = session.get('https://www.zhihu.com/#signin', headers=headers).text"
   ]
  },
  {
   "cell_type": "code",
   "execution_count": 23,
   "metadata": {},
   "outputs": [],
   "source": [
    "re.match('.*name=\"_xsrf\" value=\"(.*?)\"',response)"
   ]
  },
  {
   "cell_type": "code",
   "execution_count": 24,
   "metadata": {},
   "outputs": [
    {
     "data": {
      "text/plain": [
       "<!DOCTYPE html>\n",
       "<html data-hairline=\"true\" data-theme=\"light\" lang=\"zh\"><head><meta charset=\"utf-8\"/><title data-react-helmet=\"true\">知乎 - 发现更大的世界</title><meta content=\"width=device-width,initial-scale=1,maximum-scale=1\" name=\"viewport\"/><meta content=\"webkit\" name=\"renderer\"/><meta content=\"webkit\" name=\"force-rendering\"/><meta content=\"IE=edge,chrome=1\" http-equiv=\"X-UA-Compatible\"/><meta content=\"FTeR0c8arOPKh8c5DYh_9uu98_zJbaWw53J-Sch9MTg\" name=\"google-site-verification\"/><link href=\"https://static.zhihu.com/static/favicon.ico\" rel=\"shortcut icon\" type=\"image/x-icon\"/><link href=\"https://static.zhihu.com/static/search.xml\" rel=\"search\" title=\"知乎\" type=\"application/opensearchdescription+xml\"/><link href=\"//static.zhimg.com\" rel=\"dns-prefetch\"/><link href=\"//pic1.zhimg.com\" rel=\"dns-prefetch\"/><link href=\"//pic2.zhimg.com\" rel=\"dns-prefetch\"/><link href=\"//pic3.zhimg.com\" rel=\"dns-prefetch\"/><link href=\"//pic4.zhimg.com\" rel=\"dns-prefetch\"/><link href=\"https://static.zhihu.com/heifetz/main.app.1d35e6a8620a1f355742.css\" rel=\"stylesheet\"/></head><body class=\"EntrySign-body\"><div id=\"root\"><div data-reactroot=\"\" data-zop-usertoken=\"{}\"><div class=\"LoadingBar\"></div><div><header class=\"Sticky AppHeader\" data-za-module=\"TopNavBar\" role=\"banner\"><div class=\"AppHeader-inner\"><a aria-label=\"知乎\" href=\"//www.zhihu.com\"><svg aria-hidden=\"true\" class=\"Icon ZhihuLogo Icon--logo\" height=\"30\" style=\"height:30px;width:64px\" viewbox=\"0 0 200 91\" width=\"64\"><title></title><g><path d=\"M53.29 80.035l7.32.002 2.41 8.24 13.128-8.24h15.477v-67.98H53.29v67.978zm7.79-60.598h22.756v53.22h-8.73l-8.718 5.473-1.587-5.46-3.72-.012v-53.22zM46.818 43.162h-16.35c.545-8.467.687-16.12.687-22.955h15.987s.615-7.05-2.68-6.97H16.807c1.09-4.1 2.46-8.332 4.1-12.708 0 0-7.523 0-10.085 6.74-1.06 2.78-4.128 13.48-9.592 24.41 1.84-.2 7.927-.37 11.512-6.94.66-1.84.785-2.08 1.605-4.54h9.02c0 3.28-.374 20.9-.526 22.95H6.51c-3.67 0-4.863 7.38-4.863 7.38H22.14C20.765 66.11 13.385 79.24 0 89.62c6.403 1.828 12.784-.29 15.937-3.094 0 0 7.182-6.53 11.12-21.64L43.92 85.18s2.473-8.402-.388-12.496c-2.37-2.788-8.768-10.33-11.496-13.064l-4.57 3.627c1.363-4.368 2.183-8.61 2.46-12.71H49.19s-.027-7.38-2.372-7.38zm128.752-.502c6.51-8.013 14.054-18.302 14.054-18.302s-5.827-4.625-8.556-1.27c-1.874 2.548-11.51 15.063-11.51 15.063l6.012 4.51zm-46.903-18.462c-2.814-2.577-8.096.667-8.096.667s12.35 17.2 12.85 17.953l6.08-4.29s-8.02-11.752-10.83-14.33zM199.99 46.5c-6.18 0-40.908.292-40.953.292v-31.56c1.503 0 3.882-.124 7.14-.376 12.773-.753 21.914-1.25 27.427-1.504 0 0 3.817-8.496-.185-10.45-.96-.37-7.24 1.43-7.24 1.43s-51.63 5.153-72.61 5.64c.5 2.756 2.38 5.336 4.93 6.11 4.16 1.087 7.09.53 15.36.277 7.76-.5 13.65-.76 17.66-.76v31.19h-41.71s.88 6.97 7.97 7.14h33.73v22.16c0 4.364-3.498 6.87-7.65 6.6-4.4.034-8.15-.36-13.027-.566.623 1.24 1.977 4.496 6.035 6.824 3.087 1.502 5.054 2.053 8.13 2.053 9.237 0 14.27-5.4 14.027-14.16V53.93h38.235c3.026 0 2.72-7.432 2.72-7.432z\" fill-rule=\"evenodd\"></path></g></svg></a><nav class=\"AppHeader-nav\" role=\"navigation\"><a class=\"AppHeader-navItem\" href=\"//www.zhihu.com/\">首页</a><a class=\"AppHeader-navItem\" href=\"//www.zhihu.com/explore\">发现</a><a class=\"AppHeader-navItem\" href=\"//www.zhihu.com/topic\">话题</a></nav><div class=\"SearchBar\" role=\"search\"><div class=\"SearchBar-toolWrapper\"><form class=\"SearchBar-tool\"><div><div class=\"Popover\"><div class=\"SearchBar-input Input-wrapper Input-wrapper--grey\"><input aria-activedescendant=\"null--1\" aria-autocomplete=\"list\" aria-expanded=\"false\" aria-haspopup=\"true\" aria-owns=\"null-content\" autocomplete=\"off\" class=\"Input\" id=\"null-toggle\" maxlength=\"100\" placeholder=\"搜索你感兴趣的内容…\" role=\"combobox\" type=\"text\" value=\"\"/><div class=\"Input-after\"><button aria-label=\"搜索\" class=\"Button SearchBar-searchIcon Button--primary\" type=\"button\"><svg aria-hidden=\"true\" class=\"Icon Icon--search\" height=\"16\" style=\"height:16px;width:16px\" viewbox=\"0 0 16 16\" width=\"16\"><title></title><g><path d=\"M12.054 10.864c.887-1.14 1.42-2.57 1.42-4.127C13.474 3.017 10.457 0 6.737 0S0 3.016 0 6.737c0 3.72 3.016 6.737 6.737 6.737 1.556 0 2.985-.533 4.127-1.42l3.103 3.104c.765.46 1.705-.37 1.19-1.19l-3.103-3.104zm-5.317.925c-2.786 0-5.053-2.267-5.053-5.053S3.95 1.684 6.737 1.684 11.79 3.95 11.79 6.737 9.522 11.79 6.736 11.79z\"></path></g></svg></button></div></div></div></div></form></div></div><div class=\"AppHeader-userInfo\"><div class=\"AppHeader-profile\"><div><button class=\"Button AppHeader-login Button--blue\" type=\"button\">登录</button><button class=\"Button Button--primary Button--blue\" type=\"button\">加入知乎</button></div></div></div></div></header></div><main class=\"App-main\" role=\"main\"><div class=\"SignFlowHomepage\"><div class=\"SignFlowHomepage-content\"><div class=\"Card SignContainer-content\"><div class=\"SignFlowHeader\" style=\"padding-bottom:5px\"><svg aria-hidden=\"true\" class=\"Icon ZhihuLogo Icon--logo\" height=\"65.625\" style=\"height:65.625px;width:140px\" viewbox=\"0 0 200 91\" width=\"140\"><title></title><g><path d=\"M53.29 80.035l7.32.002 2.41 8.24 13.128-8.24h15.477v-67.98H53.29v67.978zm7.79-60.598h22.756v53.22h-8.73l-8.718 5.473-1.587-5.46-3.72-.012v-53.22zM46.818 43.162h-16.35c.545-8.467.687-16.12.687-22.955h15.987s.615-7.05-2.68-6.97H16.807c1.09-4.1 2.46-8.332 4.1-12.708 0 0-7.523 0-10.085 6.74-1.06 2.78-4.128 13.48-9.592 24.41 1.84-.2 7.927-.37 11.512-6.94.66-1.84.785-2.08 1.605-4.54h9.02c0 3.28-.374 20.9-.526 22.95H6.51c-3.67 0-4.863 7.38-4.863 7.38H22.14C20.765 66.11 13.385 79.24 0 89.62c6.403 1.828 12.784-.29 15.937-3.094 0 0 7.182-6.53 11.12-21.64L43.92 85.18s2.473-8.402-.388-12.496c-2.37-2.788-8.768-10.33-11.496-13.064l-4.57 3.627c1.363-4.368 2.183-8.61 2.46-12.71H49.19s-.027-7.38-2.372-7.38zm128.752-.502c6.51-8.013 14.054-18.302 14.054-18.302s-5.827-4.625-8.556-1.27c-1.874 2.548-11.51 15.063-11.51 15.063l6.012 4.51zm-46.903-18.462c-2.814-2.577-8.096.667-8.096.667s12.35 17.2 12.85 17.953l6.08-4.29s-8.02-11.752-10.83-14.33zM199.99 46.5c-6.18 0-40.908.292-40.953.292v-31.56c1.503 0 3.882-.124 7.14-.376 12.773-.753 21.914-1.25 27.427-1.504 0 0 3.817-8.496-.185-10.45-.96-.37-7.24 1.43-7.24 1.43s-51.63 5.153-72.61 5.64c.5 2.756 2.38 5.336 4.93 6.11 4.16 1.087 7.09.53 15.36.277 7.76-.5 13.65-.76 17.66-.76v31.19h-41.71s.88 6.97 7.97 7.14h33.73v22.16c0 4.364-3.498 6.87-7.65 6.6-4.4.034-8.15-.36-13.027-.566.623 1.24 1.977 4.496 6.035 6.824 3.087 1.502 5.054 2.053 8.13 2.053 9.237 0 14.27-5.4 14.027-14.16V53.93h38.235c3.026 0 2.72-7.432 2.72-7.432z\" fill-rule=\"evenodd\"></path></g></svg><div class=\"SignFlowHeader-slogen\">注册<!-- -->知乎，发现更大的世界</div></div><div class=\"SignContainer-inner\"><div class=\"Register\"><div><div class=\"Register-content\"><form novalidate=\"\"><div class=\"SignFlow-account\"><div class=\"SignFlow-supportedCountriesSelectContainer\"></div><div class=\"SignFlowInput SignFlow-accountInputContainer\"><div class=\"SignFlow-accountInput Input-wrapper\"><input class=\"Input\" name=\"phoneNo\" placeholder=\"手机号\" type=\"tel\" value=\"\"/></div><div class=\"SignFlowInput-errorMask SignFlowInput-requiredErrorMask SignFlowInput-errorMask--hidden\"></div></div></div><div class=\"Captcha SignFlow-captchaContainer Register-captcha\" style=\"width:0;height:0;opacity:0;overflow:hidden;margin:0;padding:0;border:0\"><div><div class=\"SignFlowInput\"><div class=\"Input-wrapper\"><input class=\"Input\" name=\"captcha\" placeholder=\"验证码\" tabindex=\"-1\" type=\"text\" value=\"\"/></div><div class=\"SignFlowInput-errorMask SignFlowInput-requiredErrorMask SignFlowInput-errorMask--hidden\"></div></div><span class=\"Captcha-englishImage\"><div class=\"Captcha-englishContainer\"><img alt=\"图形验证码\" class=\"Captcha-englishImg\" data-tooltip=\"看不清楚？换一张\" src=\"data:image/jpg;base64,null\"/></div></span></div></div><div class=\"Register-SMSInput\"><div class=\"SignFlow SignFlow-smsInputContainer\"><div class=\"SignFlowInput SignFlow-smsInput\"><div class=\"Input-wrapper\"><input class=\"Input\" name=\"digits\" placeholder=\"输入 6 位短信验证码\" type=\"number\" value=\"\"/></div><div class=\"SignFlowInput-errorMask SignFlowInput-requiredErrorMask SignFlowInput-errorMask--hidden\"></div></div><button class=\"Button CountingDownButton SignFlow-smsInputButton Button--plain\" type=\"button\">获取短信验证码</button></div><div class=\"Register-smsBackUp\"><span>接收<!-- -->语音<!-- -->验证码</span></div></div><button class=\"Button Register-submitButton Button--primary Button--blue\" type=\"submit\">注册</button></form><div class=\"Register-footer\"><span class=\"Register-declaration\">注册即代表同意<a href=\"https://www.zhihu.com/terms\">《知乎协议》</a><a href=\"https://www.zhihu.com/terms/privacy\">《隐私政策》</a></span><a class=\"Register-org\" href=\"https://www.zhihu.com/org/signup\">注册机构号</a></div></div></div></div><div class=\"SignContainer-switch\">已有帐号？<span>登录</span></div><div class=\"SignFlowHomepage-qrImage SignFlowHomepage-qrImageHidden\"><div></div></div></div></div><button class=\"Button SignFlowHomepage-downloadBtn\" type=\"button\">下载知乎 App</button></div><footer class=\"SignFlowHomepage-footer\"><div class=\"ZhihuLinks\"><a href=\"https://zhuanlan.zhihu.com\" rel=\"noopener noreferrer\" target=\"_blank\">知乎专栏</a><a href=\"/roundtable\" rel=\"noopener noreferrer\" target=\"_blank\">圆桌</a><a href=\"/explore\" rel=\"noopener noreferrer\" target=\"_blank\">发现</a><a href=\"/app\" rel=\"noopener noreferrer\" target=\"_blank\">移动应用</a><a href=\"/contact\" rel=\"noopener noreferrer\" target=\"_blank\">联系我们</a><a href=\"https://app.mokahr.com/apply/zhihu\" rel=\"noopener noreferrer\" target=\"_blank\">来知乎工作</a><a href=\"/org/signup\" rel=\"noopener noreferrer\" target=\"_blank\">注册机构号</a></div><div class=\"ZhihuRights\"><span>© 2018 知乎</span><a href=\"http://www.miibeian.gov.cn/\" rel=\"noopener noreferrer\" target=\"_blank\">京 ICP 证 110745 号</a><span>京公网安备 11010802010035 号<a href=\"http://zhstatic.zhihu.com/assets/zhihu/publish-license.jpg\" rel=\"noopener noreferrer\" target=\"_blank\">出版物经营许可证</a></span></div><div class=\"ZhihuReports\"><a href=\"https://zhuanlan.zhihu.com/p/28852607\" rel=\"noopener noreferrer\" target=\"_blank\">侵权举报</a><a href=\"http://www.12377.cn\" rel=\"noopener noreferrer\" target=\"_blank\">网上有害信息举报专区</a><a href=\"/jubao\" rel=\"noopener noreferrer\" target=\"_blank\">儿童色情信息举报专区</a><span>违法和不良信息举报：010-82716601</span></div><div class=\"ZhihuIntegrity\"><div><img alt=\"诚信网站示范企业\" src=\"https://static.zhihu.com/static/revved/img/index/chengxing_logo@2x.65dc76e8.png\"/><a href=\"https://credit.szfw.org/CX20170607038331320388.html\">诚信网站示范企业</a></div></div></footer></div></main></div></div><div data-config='{\"apiAddress\":\"/api/v4/\",\"deployEnv\":\"production\",\"useOAuth\":true}' data-state='{\"privacy\":{\"showPrivacy\":false},\"loading\":{\"global\":{\"count\":0},\"local\":{\"env/getExperiments/\":false}},\"entities\":{\"users\":{},\"questions\":{},\"answers\":{},\"articles\":{},\"columns\":{},\"topics\":{},\"roundtables\":{},\"favlists\":{},\"comments\":{},\"notifications\":{},\"ebooks\":{},\"activities\":{},\"feeds\":{},\"pins\":{},\"promotions\":{},\"drafts\":{}},\"currentUser\":\"\",\"account\":{\"lockLevel\":{},\"unlockTicketStatus\":false,\"unlockTicket\":null,\"challenge\":[],\"errorStatus\":false,\"message\":\"\",\"isFetching\":false,\"accountInfo\":{},\"urlToken\":{\"loading\":false}},\"settings\":{\"socialBind\":null,\"inboxMsg\":null,\"notification\":{},\"email\":{},\"privacyFlag\":null,\"blockedUsers\":{\"isFetching\":false,\"paging\":{\"pageNo\":1,\"pageSize\":6},\"data\":[]},\"blockedFollowees\":{\"isFetching\":false,\"paging\":{\"pageNo\":1,\"pageSize\":6},\"data\":[]},\"ignoredTopics\":{\"isFetching\":false,\"paging\":{\"pageNo\":1,\"pageSize\":6},\"data\":[]},\"restrictedTopics\":null,\"laboratory\":{}},\"notification\":{},\"people\":{\"profileStatus\":{},\"activitiesByUser\":{},\"answersByUser\":{},\"answersSortByVotesByUser\":{},\"answersIncludedByUser\":{},\"votedAnswersByUser\":{},\"thankedAnswersByUser\":{},\"voteAnswersByUser\":{},\"thankAnswersByUser\":{},\"topicAnswersByUser\":{},\"articlesByUser\":{},\"articlesSortByVotesByUser\":{},\"articlesIncludedByUser\":{},\"pinsByUser\":{},\"questionsByUser\":{},\"commercialQuestionsByUser\":{},\"favlistsByUser\":{},\"followingByUser\":{},\"followersByUser\":{},\"mutualsByUser\":{},\"followingColumnsByUser\":{},\"followingQuestionsByUser\":{},\"followingFavlistsByUser\":{},\"followingTopicsByUser\":{},\"publicationsByUser\":{},\"columnsByUser\":{},\"allFavlistsByUser\":{},\"brands\":null,\"creator\":{\"tools\":{\"question\":{\"invitationCount\":{\"questionFolloweeCount\":0,\"questionTotalCount\":0},\"goodatTopics\":[]}}}},\"env\":{\"experiment\":{\"ge3\":\"ge3_10\",\"ge2\":\"ge2_1\",\"searchAdvertPosition\":\"1\",\"androidPassThroughPush\":\"all\",\"nwebQAGrowth\":\"experiment\",\"qawebRelatedReadingsContentControl\":\"close\",\"liveStore\":\"ls_a3_b1_c1_f1\",\"nwebSearch\":\"nweb_search_heifetz\",\"searchHybridTabs\":\"pin-3#album-7\",\"rt\":\"y\",\"isOffice\":\"false\",\"newLiveFeedMediacard\":\"new\",\"newMobileAppHeader\":\"true\",\"growthSearch\":\"s2\",\"hybridZhmoreVideo\":\"yes\",\"nwebGrowthPeople\":\"default\",\"nwebSearchSuggest\":\"default\",\"qrcodeLogin\":\"qrcode\",\"enableVoteDownReasonMenu\":\"enable\",\"isShowUnicomFreeEntry\":\"unicom_free_entry_off\",\"androidSearchTabStyle\":\"search_tab_style_b\",\"growthBanner\":\"default\",\"newMobileColumnAppheader\":\"new_header\",\"androidDbRecommendAction\":\"open\",\"searchTab\":\"collapse\",\"zcmLighting\":\"zcm\",\"androidDbFeedHashTagStyle\":\"button\",\"appStoreRateDialog\":\"close\",\"mobileFeedGuide\":\"block\",\"default\":\"None\",\"isNewNotiPanel\":\"no\",\"adR\":\"a\",\"wechatShareModal\":\"wechat_share_modal_show\",\"uRe\":\"1\",\"androidProfilePanel\":\"panel_b\"},\"experimentOrigin\":{\"ge3\":\"ge3_10\",\"ge2\":\"ge2_1\",\"search_advert_position\":\"1\",\"android_pass_through_push\":\"all\",\"nwebQAGrowth\":\"experiment\",\"qaweb_related_readings_content_control\":\"close\",\"live_store\":\"ls_a3_b1_c1_f1\",\"nweb_search\":\"nweb_search_heifetz\",\"search_hybrid_tabs\":\"pin-3#album-7\",\"rt\":\"y\",\"is_office\":\"false\",\"new_live_feed_mediacard\":\"new\",\"new_mobile_app_header\":\"true\",\"growth_search\":\"s2\",\"hybrid_zhmore_video\":\"yes\",\"nweb_growth_people\":\"default\",\"nweb_search_suggest\":\"default\",\"qrcode_login\":\"qrcode\",\"enable_vote_down_reason_menu\":\"enable\",\"is_show_unicom_free_entry\":\"unicom_free_entry_off\",\"android_search_tab_style\":\"search_tab_style_b\",\"growth_banner\":\"default\",\"new_mobile_column_appheader\":\"new_header\",\"android_db_recommend_action\":\"open\",\"search_tab\":\"collapse\",\"zcm-lighting\":\"zcm\",\"android_db_feed_hash_tag_style\":\"button\",\"app_store_rate_dialog\":\"close\",\"mobile_feed_guide\":\"block\",\"default\":\"None\",\"is_new_noti_panel\":\"no\",\"ad_r\":\"a\",\"wechat_share_modal\":\"wechat_share_modal_show\",\"u_re\":\"1\",\"android_profile_panel\":\"panel_b\"},\"userAgent\":{\"Edge\":false,\"Wechat\":false,\"Weibo\":false,\"QQ\":false,\"Mobile\":false,\"Android\":false,\"iOS\":false,\"isAppleDevice\":false,\"Zhihu\":false,\"ZhihuHybrid\":false,\"isBot\":false,\"Tablet\":false,\"isWebView\":false,\"origin\":\"Mozilla/5.0 (Windows NT 6.1; WOW64) AppleWebKit/537.36 (KHTML, like Gecko) Chrome/41.0.2272.89 Safari/537.36\"},\"trafficSource\":\"production\",\"edition\":{\"baidu\":false,\"yidianzixun\":false,\"sogou\":false},\"theme\":\"light\",\"referer\":\"\",\"conf\":{},\"ipInfo\":{},\"useOAuth\":true},\"me\":{\"organizationProfileStatus\":{},\"columnContributions\":[]},\"comments\":{\"pagination\":{},\"collapsed\":{},\"reverse\":{},\"reviewing\":{},\"conversation\":{},\"parent\":{}},\"pushNotifications\":{\"default\":{\"isFetching\":false,\"isDrained\":false,\"ids\":[]},\"follow\":{\"isFetching\":false,\"isDrained\":false,\"ids\":[]},\"vote_thank\":{\"isFetching\":false,\"isDrained\":false,\"ids\":[]},\"currentTab\":\"default\",\"notificationsCount\":{\"default\":0,\"follow\":0,\"vote_thank\":0}},\"messages\":{\"data\":{},\"currentTab\":\"common\",\"messageCount\":0},\"register\":{\"registerValidateSucceeded\":null,\"registerValidateErrors\":{},\"registerConfirmError\":null,\"sendDigitsError\":null,\"registerConfirmSucceeded\":null},\"login\":{\"loginUnregisteredError\":false,\"loginBindWechatError\":false,\"loginConfirmError\":null,\"sendDigitsError\":null,\"validateDigitsError\":false,\"loginConfirmSucceeded\":null,\"qrcodeLoginToken\":\"\",\"qrcodeLoginScanStatus\":0,\"qrcodeLoginError\":null,\"qrcodeLoginReturnNewToken\":false},\"active\":{\"sendDigitsError\":null,\"activeConfirmSucceeded\":null,\"activeConfirmError\":null},\"coupon\":{\"isRedeemingCoupon\":false},\"question\":{\"followers\":{},\"concernedFollowers\":{},\"answers\":{},\"hiddenAnswers\":{},\"createdAnswers\":{},\"collapsedAnswers\":{},\"notificationAnswers\":{},\"invitationCandidates\":{},\"inviters\":{},\"invitees\":{},\"similarQuestions\":{},\"relatedCommodities\":{},\"recommendReadings\":{},\"bio\":{},\"brand\":{},\"permission\":{},\"advancedStyle\":{},\"commonAnswerCount\":0,\"hiddenAnswerCount\":0,\"meta\":{},\"autoInvitation\":{}},\"shareTexts\":{},\"answers\":{\"voters\":{},\"copyrightApplicants\":{},\"favlists\":{},\"newAnswer\":{},\"concernedUpvoters\":{},\"simpleConcernedUpvoters\":{}},\"banner\":{},\"topic\":{\"bios\":{},\"hot\":{},\"newest\":{},\"top\":{},\"unanswered\":{},\"questions\":{},\"followers\":{},\"parent\":{},\"children\":{},\"bestAnswerers\":{},\"index\":{},\"intro\":{},\"meta\":{},\"schema\":{}},\"captcha\":{\"captchaNeeded\":false,\"captchaValidated\":false,\"captchaBase64String\":null,\"captchaValidationMessage\":null,\"loginCaptchaExpires\":false},\"sms\":{\"supportedCountries\":[]},\"explore\":{\"recommendations\":{},\"hotfeeds\":{}},\"articles\":{\"voters\":{}},\"favlists\":{\"relations\":{}},\"pins\":{\"voters\":{}},\"topstory\":{\"topstorys\":{\"isFetching\":false,\"isDrained\":false,\"afterId\":0,\"items\":[],\"next\":null},\"sidebar\":null,\"announcement\":{},\"hotList\":[]},\"upload\":{},\"video\":{\"data\":{}},\"guide\":{\"guide\":{\"isFetching\":false,\"isShowGuide\":false}},\"switches\":{},\"reward\":{\"answer\":{},\"article\":{},\"question\":{}},\"search\":{\"recommendSearch\":[],\"topSearch\":{},\"attachedInfo\":{},\"nextOffset\":{},\"generalByQuery\":{},\"generalByQueryInADay\":{},\"generalByQueryInAWeek\":{},\"generalByQueryInThreeMonths\":{},\"peopleByQuery\":{},\"topicByQuery\":{},\"columnByQuery\":{},\"liveByQuery\":{},\"albumByQuery\":{},\"eBookByQuery\":{}}}' data-useragent='{\"os\":{\"name\":\"Windows\",\"version\":\"7\"},\"browser\":{\"name\":\"Chrome\",\"version\":\"41.0.2272.89\",\"major\":\"41\"}}' id=\"data\" style=\"display:none\"></div><script src=\"https://static.zhihu.com/heifetz/vendor.c1ed8d16a6988c3797dd.js\"></script><script defer=\"\" src=\"https://static.zhihu.com/heifetz/main.raven.09ad6f249ccd900c9f3a.js\"></script><script src=\"https://static.zhihu.com/heifetz/main.app.6c53064b2111fb6d8c41.js\"></script><script></script></body></html>"
      ]
     },
     "execution_count": 24,
     "metadata": {},
     "output_type": "execute_result"
    }
   ],
   "source": [
    "BeautifulSoup(response,'lxml')"
   ]
  },
  {
   "cell_type": "code",
   "execution_count": null,
   "metadata": {},
   "outputs": [],
   "source": []
  }
 ],
 "metadata": {
  "kernelspec": {
   "display_name": "Python 3",
   "language": "python",
   "name": "python3"
  },
  "language_info": {
   "codemirror_mode": {
    "name": "ipython",
    "version": 3
   },
   "file_extension": ".py",
   "mimetype": "text/x-python",
   "name": "python",
   "nbconvert_exporter": "python",
   "pygments_lexer": "ipython3",
   "version": "3.6.4"
  }
 },
 "nbformat": 4,
 "nbformat_minor": 2
}
