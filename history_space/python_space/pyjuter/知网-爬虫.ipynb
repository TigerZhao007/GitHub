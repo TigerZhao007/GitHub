{
 "cells": [
  {
   "cell_type": "code",
   "execution_count": 2,
   "metadata": {},
   "outputs": [],
   "source": [
    "from bs4 import BeautifulSoup\n",
    "import pandas as pd\n",
    "from selenium import webdriver  \n",
    "import re\n",
    "import urllib\n",
    "import time"
   ]
  },
  {
   "cell_type": "code",
   "execution_count": null,
   "metadata": {},
   "outputs": [],
   "source": [
    "#url = 'http://www.lesmao.me/forum-UGirls-1.html'\n",
    "url_list = ['http://www.lesmao.me/portal.php?gid=1&page=%s'%(str(num))\n",
    "        for num in range(1,164)]\n",
    "#url_list\n",
    "item = {\n",
    "    'name':'模特姓名',\n",
    "    'link':'链接后缀',\n",
    "    'img':'图片概览',\n",
    "    'data':'浏览评论数据'\n",
    "}\n",
    "item = pd.DataFrame.from_dict(item,orient='index').T"
   ]
  },
  {
   "cell_type": "code",
   "execution_count": 1,
   "metadata": {},
   "outputs": [],
   "source": [
    "url = 'http://search.cnki.net/Search.aspx?q=cge&rank=relevant&cluster=all&val=&p=1'"
   ]
  },
  {
   "cell_type": "code",
   "execution_count": 3,
   "metadata": {},
   "outputs": [
    {
     "name": "stderr",
     "output_type": "stream",
     "text": [
      "D:\\Python\\lib\\site-packages\\selenium\\webdriver\\phantomjs\\webdriver.py:49: UserWarning: Selenium support for PhantomJS has been deprecated, please use headless versions of Chrome or Firefox instead\n",
      "  warnings.warn('Selenium support for PhantomJS has been deprecated, please use headless '\n"
     ]
    }
   ],
   "source": [
    "browser = webdriver.PhantomJS(executable_path=\"D:/Python/selenium/webdriver/phantomjs/bin/phantomjs.exe\")  "
   ]
  },
  {
   "cell_type": "code",
   "execution_count": 10,
   "metadata": {},
   "outputs": [],
   "source": [
    "browser.get(url)\n",
    "data = browser.page_source\n",
    "soup =  BeautifulSoup(data,'lxml')\n",
    "lis1 = soup.find('div', attrs= {'class':'articles'}).find_all('div',attrs= {'class':'wz_tab'})"
   ]
  },
  {
   "cell_type": "code",
   "execution_count": 15,
   "metadata": {},
   "outputs": [
    {
     "data": {
      "text/plain": [
       "'可计算一般均衡（CGE）模型：建模原理、参数估计方法与应用研究'"
      ]
     },
     "execution_count": 15,
     "metadata": {},
     "output_type": "execute_result"
    }
   ],
   "source": [
    "lis1[0].find('a').getText()"
   ]
  },
  {
   "cell_type": "code",
   "execution_count": 17,
   "metadata": {},
   "outputs": [
    {
     "data": {
      "text/plain": [
       "'http://epub.cnki.net/grid2008/brief/detailj.aspx?filename=2009098217.nh&dbname=CDFD0911'"
      ]
     },
     "execution_count": 17,
     "metadata": {},
     "output_type": "execute_result"
    }
   ],
   "source": [
    "lis1[0].find('a')['href']"
   ]
  },
  {
   "cell_type": "code",
   "execution_count": 22,
   "metadata": {},
   "outputs": [
    {
     "data": {
      "text/plain": [
       "' 本文沿着瓦尔拉斯一般均衡理论,结合投入产出模型、线性规划模型和宏观经济模型,研究了CGE模型的建模原理、参数估计方法与应用问题。 CGE模型基本结构包括三组方程,分别为需求方程、供给方程和供求方程。本文运用各组方程的优化方程,描述消费者的商品需求和要素供给行为、生产者的商品供给和要素需求行为以及供... '"
      ]
     },
     "execution_count": 22,
     "metadata": {},
     "output_type": "execute_result"
    }
   ],
   "source": [
    "lis1[0].find('span',attrs={'class','text'}).getText()"
   ]
  },
  {
   "cell_type": "code",
   "execution_count": 20,
   "metadata": {},
   "outputs": [
    {
     "data": {
      "text/plain": [
       "<div class=\"wz_tab\">\n",
       "<div class=\"wz_content\">\n",
       "<h3>\n",
       "<a href=\"http://epub.cnki.net/grid2008/brief/detailj.aspx?filename=2009098217.nh&amp;dbname=CDFD0911\" target=\"_blank\">可计算一般均衡（<span class=\"red_title\">CGE</span>）模型：建模原理、参数估计方法与应用研究</a> <a href=\"http://search.cnki.net/down/default.aspx?filename=2009098217.nh&amp;dbcode=CDFD&amp;year=2009&amp;dflag=cajdown\" target=\"_blank\"><img height=\"11\" src=\"images/search3-download-icon.jpg\" width=\"13\"/></a></h3>\n",
       "<div class=\"width715\">\n",
       "<span class=\"text\"> 本文沿着瓦尔拉斯一般均衡理论,结合投入产出模型、线性规划模型和宏观经济模型,研究了CGE模型的建模原理、参数估计方法与应用问题。 CGE模型基本结构包括三组方程,分别为需求方程、供给方程和供求方程。本文运用各组方程的优化方程,描述消费者的商品需求和要素供给行为、生产者的商品供给和要素需求行为以及供... </span>\n",
       "</div>\n",
       "<span class=\"year-count\"><span title=\"吉林大学\">吉林大学  博士论文  2009年</span>\n",
       "<span class=\"count\">下载次数（5225）| 被引次数（12）</span></span></div>\n",
       "<div class=\"cl\">\n",
       "</div>\n",
       "</div>"
      ]
     },
     "execution_count": 20,
     "metadata": {},
     "output_type": "execute_result"
    }
   ],
   "source": [
    "lis1[0]"
   ]
  },
  {
   "cell_type": "code",
   "execution_count": 23,
   "metadata": {},
   "outputs": [
    {
     "data": {
      "text/plain": [
       "'吉林大学\\xa0\\xa0博士论文\\xa0\\xa02009年\\n下载次数（5225）| 被引次数（12）'"
      ]
     },
     "execution_count": 23,
     "metadata": {},
     "output_type": "execute_result"
    }
   ],
   "source": [
    "lis1[0].find('span',attrs={'class','year-count'}).getText()"
   ]
  },
  {
   "cell_type": "code",
   "execution_count": null,
   "metadata": {},
   "outputs": [],
   "source": []
  }
 ],
 "metadata": {
  "kernelspec": {
   "display_name": "Python 3",
   "language": "python",
   "name": "python3"
  },
  "language_info": {
   "codemirror_mode": {
    "name": "ipython",
    "version": 3
   },
   "file_extension": ".py",
   "mimetype": "text/x-python",
   "name": "python",
   "nbconvert_exporter": "python",
   "pygments_lexer": "ipython3",
   "version": "3.6.4"
  }
 },
 "nbformat": 4,
 "nbformat_minor": 2
}
