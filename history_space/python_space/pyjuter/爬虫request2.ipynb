{
 "cells": [
  {
   "cell_type": "code",
   "execution_count": 6,
   "metadata": {},
   "outputs": [],
   "source": [
    "import requests\n",
    "import re\n",
    "import urllib\n",
    "\n",
    "# @brief  打开网页 # url : 网页地址# @return 返回网页数据\n",
    "def getHtmlText(url,headers):\n",
    "    try:\n",
    "        r = requests.get(url, headers,timeout=30)  # 如果状态码不是200 则应发HTTOError异常\n",
    "        r.raise_for_status()               # 设置正确的编码方式\n",
    "        r.encoding = r.apparent_encoding\n",
    "        return r.text\n",
    "    except:\n",
    "        return \"Something Wrong!\"\n",
    "\n",
    "# 找图片\n",
    "def getImg(html):\n",
    "#    reg = r'src=\"(.+?\\.jpg)\"'\n",
    "    reg = r'src=\"(.+?\\.jpg)\" align'\n",
    "    imgre = re.compile(reg)\n",
    "    imglist = imgre.findall(html)                       #表示在整个网页中过滤出所有图片的地址，放在imglist中\n",
    "    return imglist\n",
    "\n",
    "\n",
    "# @brief 保存图片 # url : 图片url # addr  : 保存的地址\n",
    "def save_picture(url,addr,name):\n",
    "    urllib.request.urlretrieve(url,'{}{}.jpg'.format(addr,name))    \n",
    "    return"
   ]
  },
  {
   "cell_type": "code",
   "execution_count": 7,
   "metadata": {},
   "outputs": [],
   "source": [
    "url = \"https://tieba.baidu.com/p/1457328431\"\n",
    "headers = {'User-Agent':'Mozilla/5.0 (Windows NT 6.1; WOW64) AppleWebKit/537.36 (KHTML, like Gecko) Chrome/49.0.2623.112 Safari/537.36'}\n",
    "path = 'C:\\\\Users\\\\Think\\\\Desktop\\\\pythondownload\\\\' \n",
    "html = getImg(getHtmlText(url,headers))#"
   ]
  },
  {
   "cell_type": "code",
   "execution_count": 8,
   "metadata": {},
   "outputs": [],
   "source": [
    "url = 'https://timgsa.baidu.com/timg?image&quality=80&size=b9999_10000&sec=1522585101633&di=a0663fa50c3b3f470dc7e2b789b43d24&imgtype=0&src=http%3A%2F%2Fpic32.photophoto.cn%2F20140718%2F0033034334383169_b.jpg'\n",
    "url1 = 'https://imgsa.baidu.com/forum/w%3D400/sign=dc6bc4ed90529822053338c3e7ca7b3b/3722dd54564e92584b417ec49c82d158ccbf4ea0.jpg'\n",
    "url2 = 'https://item.taobao.com/item.htm?id=565074087468&spm=a21bo.7925826.192013.4.15154c0deugNYm&track_params=%7B%22jpFeedId%22%3A%222500000200539298997%22%7D&scm=1007.12846.65991.999999999999999&pvid=0da2d5e3-cd6e-4370-a66f-aa0a266ddc16&spm=a21bo.7925826.192013.4.15154c0deugNYm&track_params=%7B%22jpFeedId%22%3A%222500000200539298997%22%7D&scm=1007.12846.65991.999999999999999&pvid=0da2d5e3-cd6e-4370-a66f-aa0a266ddc16'\n",
    "url3 = 'https://img.alicdn.com/imgextra/i4/2658557185/TB2V9UrX_JYBeNjy1zeXXahzVXa_!!2658557185.jpg'"
   ]
  },
  {
   "cell_type": "code",
   "execution_count": 14,
   "metadata": {},
   "outputs": [],
   "source": [
    "url = 'http://p.tao1o.com/k/1178/T/MiiTao/100/100_004_eh2_3602_5399.jpg'"
   ]
  },
  {
   "cell_type": "code",
   "execution_count": 15,
   "metadata": {},
   "outputs": [],
   "source": [
    "save_picture(url,path,3)"
   ]
  },
  {
   "cell_type": "code",
   "execution_count": 11,
   "metadata": {},
   "outputs": [
    {
     "data": {
      "text/plain": [
       "'<!DOCTYPE html PUBLIC \"-//W3C//DTD XHTML 1.0 Transitional//EN\" \"http://www.w3.org/TR/xhtml1/DTD/xhtml1-transitional.dtd\">\\r\\n<html>\\r\\n<head>\\r\\n\\t<title>www.lesmao.me - System Error</title>\\r\\n\\t<meta http-equiv=\"Content-Type\" content=\"text/html; charset=utf-8\" />\\r\\n\\t<meta name=\"ROBOTS\" content=\"NOINDEX,NOFOLLOW,NOARCHIVE\" />\\r\\n\\t<style type=\"text/css\">\\r\\n\\t<!--\\r\\n\\tbody { background-color: white; color: black; font: 9pt/11pt verdana, arial, sans-serif;}\\r\\n\\t#container { width: 1024px; }\\r\\n\\t#message   { width: 1024px; color: black; }\\r\\n\\r\\n\\t.red  {color: red;}\\r\\n\\ta:link     { font: 9pt/11pt verdana, arial, sans-serif; color: red; }\\r\\n\\ta:visited  { font: 9pt/11pt verdana, arial, sans-serif; color: #4e4e4e; }\\r\\n\\th1 { color: #FF0000; font: 18pt \"Verdana\"; margin-bottom: 0.5em;}\\r\\n\\t.bg1{ background-color: #FFFFCC;}\\r\\n\\t.bg2{ background-color: #EEEEEE;}\\r\\n\\t.table {background: #AAAAAA; font: 11pt Menlo,Consolas,\"Lucida Console\"}\\r\\n\\t.info {\\r\\n\\t    background: none repeat scroll 0 0 #F3F3F3;\\r\\n\\t    border: 0px solid #aaaaaa;\\r\\n\\t    border-radius: 10px 10px 10px 10px;\\r\\n\\t    color: #000000;\\r\\n\\t    font-size: 11pt;\\r\\n\\t    line-height: 160%;\\r\\n\\t    margin-bottom: 1em;\\r\\n\\t    padding: 1em;\\r\\n\\t}\\r\\n\\r\\n\\t.help {\\r\\n\\t    background: #F3F3F3;\\r\\n\\t    border-radius: 10px 10px 10px 10px;\\r\\n\\t    font: 12px verdana, arial, sans-serif;\\r\\n\\t    text-align: center;\\r\\n\\t    line-height: 160%;\\r\\n\\t    padding: 1em;\\r\\n\\t}\\r\\n\\r\\n\\t.sql {\\r\\n\\t    background: none repeat scroll 0 0 #FFFFCC;\\r\\n\\t    border: 1px solid #aaaaaa;\\r\\n\\t    color: #000000;\\r\\n\\t    font: arial, sans-serif;\\r\\n\\t    font-size: 9pt;\\r\\n\\t    line-height: 160%;\\r\\n\\t    margin-top: 1em;\\r\\n\\t    padding: 4px;\\r\\n\\t}\\r\\n\\t-->\\r\\n\\t</style>\\r\\n</head>\\r\\n<body>\\r\\n<div id=\"container\">\\r\\n<h1>Discuz! System Error</h1>\\r\\n<div class=\\'info\\'><li>您当前的访问请求当中含有非法字符，已经被系统拒绝</li></div>\\r\\n\\r\\n<div class=\"info\"><p><strong>PHP Debug</strong></p><table cellpadding=\"5\" cellspacing=\"1\" width=\"100%\" class=\"table\"><tr><td><ul><li>[Line: 0056]forum.php(discuz_application->init)</li><li>[Line: 0071]source/class/discuz/discuz_application.php(discuz_application->_init_misc)</li><li>[Line: 0552]source/class/discuz/discuz_application.php(discuz_application->_xss_check)</li><li>[Line: 0370]source/class/discuz/discuz_application.php(system_error)</li><li>[Line: 0023]source/function/function_core.php(discuz_error::system_error)</li><li>[Line: 0024]source/class/discuz/discuz_error.php(discuz_error::debug_backtrace)</li></ul></td></tr></table></div><div class=\"help\"><a href=\"http://www.lesmao.me\">www.lesmao.me</a> 已经将此出错信息详细记录, 由此给您带来的访问不便我们深感歉意. </div>\\r\\n</div>\\r\\n</body>\\r\\n</html>'"
      ]
     },
     "execution_count": 11,
     "metadata": {},
     "output_type": "execute_result"
    }
   ],
   "source": [
    "html = getHtmlText(url,headers)\n",
    "html"
   ]
  },
  {
   "cell_type": "code",
   "execution_count": 12,
   "metadata": {},
   "outputs": [],
   "source": [
    "urllist = getImg(html)"
   ]
  },
  {
   "cell_type": "code",
   "execution_count": 13,
   "metadata": {},
   "outputs": [
    {
     "data": {
      "text/plain": [
       "[]"
      ]
     },
     "execution_count": 13,
     "metadata": {},
     "output_type": "execute_result"
    }
   ],
   "source": [
    "urllist"
   ]
  },
  {
   "cell_type": "code",
   "execution_count": null,
   "metadata": {},
   "outputs": [],
   "source": []
  }
 ],
 "metadata": {
  "kernelspec": {
   "display_name": "Python 3",
   "language": "python",
   "name": "python3"
  },
  "language_info": {
   "codemirror_mode": {
    "name": "ipython",
    "version": 3
   },
   "file_extension": ".py",
   "mimetype": "text/x-python",
   "name": "python",
   "nbconvert_exporter": "python",
   "pygments_lexer": "ipython3",
   "version": "3.6.4"
  }
 },
 "nbformat": 4,
 "nbformat_minor": 2
}
