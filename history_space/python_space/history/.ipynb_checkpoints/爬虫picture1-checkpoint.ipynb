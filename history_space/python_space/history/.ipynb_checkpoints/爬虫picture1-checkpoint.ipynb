{
 "cells": [
  {
   "cell_type": "code",
   "execution_count": 1,
   "metadata": {},
   "outputs": [],
   "source": [
    "import requests\n",
    "import re\n",
    "import urllib\n",
    "import requests\n",
    "import pandas as pd\n",
    "from bs4 import BeautifulSoup"
   ]
  },
  {
   "cell_type": "code",
   "execution_count": 2,
   "metadata": {},
   "outputs": [],
   "source": [
    "# @brief  打开网页 # url : 网页地址# @return 返回网页数据\n",
    "def getHtmlText(url,headers):\n",
    "    try:\n",
    "        r = requests.get(url, headers,timeout=30)  # 如果状态码不是200 则应发HTTOError异常\n",
    "        r.raise_for_status()               # 设置正确的编码方式\n",
    "        r.encoding = r.apparent_encoding\n",
    "        return r.text\n",
    "    except:\n",
    "        return \"Something Wrong!\""
   ]
  },
  {
   "cell_type": "code",
   "execution_count": 3,
   "metadata": {},
   "outputs": [],
   "source": [
    "# 找图片\n",
    "def getImg(html):\n",
    "#    reg = r'src=\"(.+?\\.jpg)\" pic_ext'\n",
    "    reg = r'src=\"(.+?\\.jpg)\"'\n",
    "#    reg = r'src=\"(.+?\\.jpg)\" style'\n",
    "    imgre = re.compile(reg)\n",
    "    imglist = imgre.findall(html)                       #表示在整个网页中过滤出所有图片的地址，放在imglist中\n",
    "    return imglist"
   ]
  },
  {
   "cell_type": "code",
   "execution_count": 4,
   "metadata": {},
   "outputs": [],
   "source": [
    "# @brief 保存图片 # url : 图片url # addr  : 保存的地址\n",
    "def save_picture(url,addr,name):\n",
    "    urllib.request.urlretrieve(url,'{}{}.jpg'.format(addr,name))    \n",
    "    return"
   ]
  },
  {
   "cell_type": "code",
   "execution_count": 71,
   "metadata": {},
   "outputs": [],
   "source": [
    "def get_link(url,headers):\n",
    "   resp = requests.get(url,headers).content\n",
    "   soup = BeautifulSoup(resp, 'lxml')\n",
    "   dat1 = soup.find_all('li',attrs={'class':'zxsyt'})\n",
    "   url_list = re.findall(r'a href=\"/html/PIC06/(.+?).html\" target=\"_blank\"',str(dat1))\n",
    "   name_list = re.findall(r'target=\"_blank\">(.+?)</a>',str(dat1))\n",
    "   bisic = [url_list,name_list]\n",
    "   return bisic"
   ]
  },
  {
   "cell_type": "code",
   "execution_count": 118,
   "metadata": {},
   "outputs": [],
   "source": [
    " def main():\n",
    "    headers = {'User-Agent':'Mozilla/5.0 (Windows NT 6.1; WOW64) AppleWebKit/537.36 (KHTML, like Gecko) Chrome/49.0.2623.112 Safari/537.36'}\n",
    "    path = 'C:\\\\Users\\\\Think\\\\Desktop\\\\pythondownload\\\\'\n",
    "    for i in range(2):\n",
    "        try:\n",
    "            url1 = 'http://39td.com/PIC06/list_%s.html'%i\n",
    "            print(\"正在爬取第%s页图片\"%i)\n",
    "            url_list = get_link(url1,headers)\n",
    "            for url in url_list[0]:\n",
    "                url2 = 'http://39td.com/html/PIC06/%s.html'%url\n",
    "                html = getImg(getHtmlText(url2,headers))#获取该网址网页详细信息，得到的html就是网页的源代码\n",
    "                j = 1\n",
    "                for html_url in html:\n",
    "                    save_picture(html_url,path,str(url)+'_'+str(j))\n",
    "                    print('成功保存第%s张图片'%j)\n",
    "                    j += 1\n",
    "        except:\n",
    "            print('没有保存第%s页图片'%i)\n",
    "               "
   ]
  },
  {
   "cell_type": "code",
   "execution_count": 119,
   "metadata": {},
   "outputs": [
    {
     "name": "stdout",
     "output_type": "stream",
     "text": [
      "正在爬取第0页图片\n",
      "正在爬取第1页图片\n",
      "成功保存第1张图片\n",
      "成功保存第2张图片\n",
      "成功保存第3张图片\n",
      "成功保存第4张图片\n",
      "没有保存第1页图片\n"
     ]
    }
   ],
   "source": [
    "## 执行主函数\n",
    "if __name__ == '__main__':\n",
    "\tmain()"
   ]
  },
  {
   "cell_type": "code",
   "execution_count": 105,
   "metadata": {},
   "outputs": [
    {
     "data": {
      "text/plain": [
       "'99999_1'"
      ]
     },
     "execution_count": 105,
     "metadata": {},
     "output_type": "execute_result"
    }
   ],
   "source": [
    "url = 'http://39td.com/PIC06/index.html'\n",
    "headers = {'User-Agent':'Mozilla/5.0 (Windows NT 6.1; WOW64) AppleWebKit/537.36 (KHTML, like Gecko) Chrome/49.0.2623.112 Safari/537.36'}\n",
    "str(99999)+'_'+str(1)\n"
   ]
  },
  {
   "cell_type": "code",
   "execution_count": 6,
   "metadata": {
    "scrolled": true
   },
   "outputs": [
    {
     "name": "stdout",
     "output_type": "stream",
     "text": [
      "成功保存第11张图片\n",
      "成功保存第12张图片\n",
      "成功保存第13张图片\n",
      "成功保存第14张图片\n",
      "成功保存第15张图片\n",
      "成功保存第16张图片\n",
      "成功保存第17张图片\n",
      "成功保存第18张图片\n",
      "成功保存第19张图片\n",
      "成功保存第20张图片\n",
      "成功保存第21张图片\n",
      "成功保存第22张图片\n",
      "成功保存第23张图片\n",
      "成功保存第24张图片\n",
      "成功保存第25张图片\n"
     ]
    }
   ],
   "source": [
    "if __name__ == '__main__':\n",
    "\tmain()\n",
    "\t\t\t"
   ]
  },
  {
   "cell_type": "code",
   "execution_count": 74,
   "metadata": {},
   "outputs": [
    {
     "data": {
      "text/plain": [
       "['398726',\n",
       " '398725',\n",
       " '398724',\n",
       " '398723',\n",
       " '398722',\n",
       " '398721',\n",
       " '398720',\n",
       " '398719',\n",
       " '398718',\n",
       " '398717',\n",
       " '398716',\n",
       " '398715',\n",
       " '398714',\n",
       " '398713',\n",
       " '398712',\n",
       " '398711',\n",
       " '398710',\n",
       " '398709',\n",
       " '398708',\n",
       " '398707',\n",
       " '398424',\n",
       " '398423',\n",
       " '398422',\n",
       " '398421',\n",
       " '398420',\n",
       " '398419',\n",
       " '398418',\n",
       " '398417',\n",
       " '398416',\n",
       " '398415']"
      ]
     },
     "execution_count": 74,
     "metadata": {},
     "output_type": "execute_result"
    }
   ],
   "source": [
    "#re.findall(r'target=\"_blank\">(.+?)</a>',str(list1_1))\n",
    "re.findall(r'a href=\"/html/PIC06/(.+?).html\" target=\"_blank\"',str(list1_1))"
   ]
  },
  {
   "cell_type": "code",
   "execution_count": 75,
   "metadata": {},
   "outputs": [
    {
     "data": {
      "text/plain": [
       "'http://39td.com/PIC06/list_1.html'"
      ]
     },
     "execution_count": 75,
     "metadata": {},
     "output_type": "execute_result"
    }
   ],
   "source": [
    "url1 = 'http://39td.com/PIC06/list_%s.html'%(1)\n",
    "url1"
   ]
  },
  {
   "cell_type": "code",
   "execution_count": 97,
   "metadata": {
    "scrolled": true
   },
   "outputs": [
    {
     "data": {
      "text/plain": [
       "['http://s1bfd.d39jcrlyy.com/180423/%E6%B8%85%E7%BA%AF%E5%94%AF%E7%BE%8E/%E9%9B%80%E6%96%91%E6%98%AF%E8%BF%99%E4%BA%9B%E7%99%BD%E5%A8%98%E4%BB%AC%E4%BB%AC%E8%BA%B2%E4%B8%8D%E8%BF%87%E5%8E%BB%E7%9A%84%E4%BC%A4%E5%AE%B3%20[15P]/01.jpg',\n",
       " 'http://s1bfd.d39jcrlyy.com/180423/%E6%B8%85%E7%BA%AF%E5%94%AF%E7%BE%8E/%E9%9B%80%E6%96%91%E6%98%AF%E8%BF%99%E4%BA%9B%E7%99%BD%E5%A8%98%E4%BB%AC%E4%BB%AC%E8%BA%B2%E4%B8%8D%E8%BF%87%E5%8E%BB%E7%9A%84%E4%BC%A4%E5%AE%B3%20[15P]/02.jpg',\n",
       " 'http://s1bfd.d39jcrlyy.com/180423/%E6%B8%85%E7%BA%AF%E5%94%AF%E7%BE%8E/%E9%9B%80%E6%96%91%E6%98%AF%E8%BF%99%E4%BA%9B%E7%99%BD%E5%A8%98%E4%BB%AC%E4%BB%AC%E8%BA%B2%E4%B8%8D%E8%BF%87%E5%8E%BB%E7%9A%84%E4%BC%A4%E5%AE%B3%20[15P]/03.jpg',\n",
       " 'http://s1bfd.d39jcrlyy.com/180423/%E6%B8%85%E7%BA%AF%E5%94%AF%E7%BE%8E/%E9%9B%80%E6%96%91%E6%98%AF%E8%BF%99%E4%BA%9B%E7%99%BD%E5%A8%98%E4%BB%AC%E4%BB%AC%E8%BA%B2%E4%B8%8D%E8%BF%87%E5%8E%BB%E7%9A%84%E4%BC%A4%E5%AE%B3%20[15P]/04.jpg',\n",
       " 'http://s1bfd.d39jcrlyy.com/180423/%E6%B8%85%E7%BA%AF%E5%94%AF%E7%BE%8E/%E9%9B%80%E6%96%91%E6%98%AF%E8%BF%99%E4%BA%9B%E7%99%BD%E5%A8%98%E4%BB%AC%E4%BB%AC%E8%BA%B2%E4%B8%8D%E8%BF%87%E5%8E%BB%E7%9A%84%E4%BC%A4%E5%AE%B3%20[15P]/05.jpg',\n",
       " 'http://s1bfd.d39jcrlyy.com/180423/%E6%B8%85%E7%BA%AF%E5%94%AF%E7%BE%8E/%E9%9B%80%E6%96%91%E6%98%AF%E8%BF%99%E4%BA%9B%E7%99%BD%E5%A8%98%E4%BB%AC%E4%BB%AC%E8%BA%B2%E4%B8%8D%E8%BF%87%E5%8E%BB%E7%9A%84%E4%BC%A4%E5%AE%B3%20[15P]/06.jpg',\n",
       " 'http://s1bfd.d39jcrlyy.com/180423/%E6%B8%85%E7%BA%AF%E5%94%AF%E7%BE%8E/%E9%9B%80%E6%96%91%E6%98%AF%E8%BF%99%E4%BA%9B%E7%99%BD%E5%A8%98%E4%BB%AC%E4%BB%AC%E8%BA%B2%E4%B8%8D%E8%BF%87%E5%8E%BB%E7%9A%84%E4%BC%A4%E5%AE%B3%20[15P]/07.jpg',\n",
       " 'http://s1bfd.d39jcrlyy.com/180423/%E6%B8%85%E7%BA%AF%E5%94%AF%E7%BE%8E/%E9%9B%80%E6%96%91%E6%98%AF%E8%BF%99%E4%BA%9B%E7%99%BD%E5%A8%98%E4%BB%AC%E4%BB%AC%E8%BA%B2%E4%B8%8D%E8%BF%87%E5%8E%BB%E7%9A%84%E4%BC%A4%E5%AE%B3%20[15P]/08.jpg',\n",
       " 'http://s1bfd.d39jcrlyy.com/180423/%E6%B8%85%E7%BA%AF%E5%94%AF%E7%BE%8E/%E9%9B%80%E6%96%91%E6%98%AF%E8%BF%99%E4%BA%9B%E7%99%BD%E5%A8%98%E4%BB%AC%E4%BB%AC%E8%BA%B2%E4%B8%8D%E8%BF%87%E5%8E%BB%E7%9A%84%E4%BC%A4%E5%AE%B3%20[15P]/09.jpg',\n",
       " 'http://s1bfd.d39jcrlyy.com/180423/%E6%B8%85%E7%BA%AF%E5%94%AF%E7%BE%8E/%E9%9B%80%E6%96%91%E6%98%AF%E8%BF%99%E4%BA%9B%E7%99%BD%E5%A8%98%E4%BB%AC%E4%BB%AC%E8%BA%B2%E4%B8%8D%E8%BF%87%E5%8E%BB%E7%9A%84%E4%BC%A4%E5%AE%B3%20[15P]/10.jpg',\n",
       " 'http://s1bfd.d39jcrlyy.com/180423/%E6%B8%85%E7%BA%AF%E5%94%AF%E7%BE%8E/%E9%9B%80%E6%96%91%E6%98%AF%E8%BF%99%E4%BA%9B%E7%99%BD%E5%A8%98%E4%BB%AC%E4%BB%AC%E8%BA%B2%E4%B8%8D%E8%BF%87%E5%8E%BB%E7%9A%84%E4%BC%A4%E5%AE%B3%20[15P]/11.jpg',\n",
       " 'http://s1bfd.d39jcrlyy.com/180423/%E6%B8%85%E7%BA%AF%E5%94%AF%E7%BE%8E/%E9%9B%80%E6%96%91%E6%98%AF%E8%BF%99%E4%BA%9B%E7%99%BD%E5%A8%98%E4%BB%AC%E4%BB%AC%E8%BA%B2%E4%B8%8D%E8%BF%87%E5%8E%BB%E7%9A%84%E4%BC%A4%E5%AE%B3%20[15P]/12.jpg',\n",
       " 'http://s1bfd.d39jcrlyy.com/180423/%E6%B8%85%E7%BA%AF%E5%94%AF%E7%BE%8E/%E9%9B%80%E6%96%91%E6%98%AF%E8%BF%99%E4%BA%9B%E7%99%BD%E5%A8%98%E4%BB%AC%E4%BB%AC%E8%BA%B2%E4%B8%8D%E8%BF%87%E5%8E%BB%E7%9A%84%E4%BC%A4%E5%AE%B3%20[15P]/13.jpg',\n",
       " 'http://s1bfd.d39jcrlyy.com/180423/%E6%B8%85%E7%BA%AF%E5%94%AF%E7%BE%8E/%E9%9B%80%E6%96%91%E6%98%AF%E8%BF%99%E4%BA%9B%E7%99%BD%E5%A8%98%E4%BB%AC%E4%BB%AC%E8%BA%B2%E4%B8%8D%E8%BF%87%E5%8E%BB%E7%9A%84%E4%BC%A4%E5%AE%B3%20[15P]/14.jpg',\n",
       " 'http://s1bfd.d39jcrlyy.com/180423/%E6%B8%85%E7%BA%AF%E5%94%AF%E7%BE%8E/%E9%9B%80%E6%96%91%E6%98%AF%E8%BF%99%E4%BA%9B%E7%99%BD%E5%A8%98%E4%BB%AC%E4%BB%AC%E8%BA%B2%E4%B8%8D%E8%BF%87%E5%8E%BB%E7%9A%84%E4%BC%A4%E5%AE%B3%20[15P]/15.jpg']"
      ]
     },
     "execution_count": 97,
     "metadata": {},
     "output_type": "execute_result"
    }
   ],
   "source": [
    "url = url_list[0][0]\n",
    "url2 = 'http://39td.com/html/PIC06/%s.html'%(url)\n",
    "html = getImg(getHtmlText(url2,headers))#获取该网址网页详细信息，得到的html就是网页的源代码\n",
    "html"
   ]
  },
  {
   "cell_type": "code",
   "execution_count": 77,
   "metadata": {},
   "outputs": [],
   "source": [
    "url_list = get_link(url,headers)\n"
   ]
  },
  {
   "cell_type": "code",
   "execution_count": 117,
   "metadata": {},
   "outputs": [
    {
     "data": {
      "text/plain": [
       "range(0, 3)"
      ]
     },
     "execution_count": 117,
     "metadata": {},
     "output_type": "execute_result"
    }
   ],
   "source": [
    "range(3)"
   ]
  },
  {
   "cell_type": "code",
   "execution_count": 42,
   "metadata": {},
   "outputs": [],
   "source": [
    "resp = requests.get(url,headers).content\n",
    "soup = BeautifulSoup(resp,'lxml')\n",
    "list1_1 = soup.find_all('li',attrs={'class':'zxsyt'})\n",
    "list1_2 = re.findall(r'a href=\"(.+?)\" target=\"_blank\"',str(list1_1))\n",
    "li\n",
    "#list1"
   ]
  }
 ],
 "metadata": {
  "kernelspec": {
   "display_name": "Python 3",
   "language": "python",
   "name": "python3"
  },
  "language_info": {
   "codemirror_mode": {
    "name": "ipython",
    "version": 3
   },
   "file_extension": ".py",
   "mimetype": "text/x-python",
   "name": "python",
   "nbconvert_exporter": "python",
   "pygments_lexer": "ipython3",
   "version": "3.6.4"
  }
 },
 "nbformat": 4,
 "nbformat_minor": 2
}
