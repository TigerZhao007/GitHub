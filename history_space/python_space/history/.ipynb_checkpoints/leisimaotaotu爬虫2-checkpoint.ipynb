{
 "cells": [
  {
   "cell_type": "code",
   "execution_count": 1,
   "metadata": {},
   "outputs": [],
   "source": [
    "from bs4 import BeautifulSoup\n",
    "import pandas as pd\n",
    "from selenium import webdriver  \n",
    "import re\n",
    "import urllib\n",
    "import time"
   ]
  },
  {
   "cell_type": "code",
   "execution_count": 3,
   "metadata": {},
   "outputs": [],
   "source": [
    "# @brief 保存图片 # url : 图片url # addr  : 保存的地址\n",
    "def save_picture(url,addr,name):\n",
    "    urllib.request.urlretrieve(url,'{}{}.jpg'.format(addr,name))    \n",
    "    return"
   ]
  },
  {
   "cell_type": "code",
   "execution_count": 5,
   "metadata": {},
   "outputs": [],
   "source": [
    "item_list = pd.read_csv('C:/Users/Think/Desktop/data/房屋/personal/蕾丝猫套图信息.csv',engine='python')"
   ]
  },
  {
   "cell_type": "code",
   "execution_count": 13,
   "metadata": {},
   "outputs": [
    {
     "data": {
      "text/plain": [
       "5411    11881\n",
       "5412    11886\n",
       "5413    11885\n",
       "5414    12476\n",
       "5415    11882\n",
       "Name: link, dtype: int64"
      ]
     },
     "execution_count": 13,
     "metadata": {},
     "output_type": "execute_result"
    }
   ],
   "source": [
    "item_list['link'][5411:].head(5)"
   ]
  },
  {
   "cell_type": "code",
   "execution_count": null,
   "metadata": {},
   "outputs": [
    {
     "name": "stderr",
     "output_type": "stream",
     "text": [
      "D:\\Python\\lib\\site-packages\\selenium\\webdriver\\phantomjs\\webdriver.py:49: UserWarning: Selenium support for PhantomJS has been deprecated, please use headless versions of Chrome or Firefox instead\n",
      "  warnings.warn('Selenium support for PhantomJS has been deprecated, please use headless '\n"
     ]
    },
    {
     "name": "stdout",
     "output_type": "stream",
     "text": [
      "正在加载图片http://www.lesmao.me/thread-11904-1-1.html\n",
      "加载失败\n",
      "正在加载图片http://www.lesmao.me/thread-11904-2-1.html\n"
     ]
    }
   ],
   "source": [
    "driver = webdriver.PhantomJS(executable_path=\"D:/Python/selenium/webdriver/phantomjs/bin/phantomjs.exe\")  \n",
    "#path = 'C:\\\\Users\\\\Think\\\\Desktop\\\\pythondownload\\\\'\n",
    "path = 'E:/Downloads/picture/蕾丝猫套图/'\n",
    "for link in item_list['link'].iloc[5411:]: \n",
    "    time.sleep(3)\n",
    "    j = 1\n",
    "    for num in range(1,6):\n",
    "        url1 = 'http://www.lesmao.me/thread-' + str(link) + '-%s-1.html'%str(num)\n",
    "        print('正在加载图片%s'%(url1))\n",
    "        try:\n",
    "            driver.get(url1)\n",
    "            data = driver.page_source\n",
    "            soup = BeautifulSoup(data,'lxml')\n",
    "            lis1 = soup.find('div',attrs={'id':'thread-pic'}).find_all('li')\n",
    "            for lis in lis1:\n",
    "                picture = lis.find('img')['src']\n",
    "                save_picture(picture,path,str(link)+'_'+str(j))\n",
    "                j += 1\n",
    "        except:\n",
    "            print('加载失败')"
   ]
  },
  {
   "cell_type": "code",
   "execution_count": null,
   "metadata": {},
   "outputs": [],
   "source": []
  }
 ],
 "metadata": {
  "kernelspec": {
   "display_name": "Python 3",
   "language": "python",
   "name": "python3"
  },
  "language_info": {
   "codemirror_mode": {
    "name": "ipython",
    "version": 3
   },
   "file_extension": ".py",
   "mimetype": "text/x-python",
   "name": "python",
   "nbconvert_exporter": "python",
   "pygments_lexer": "ipython3",
   "version": "3.6.4"
  }
 },
 "nbformat": 4,
 "nbformat_minor": 2
}
