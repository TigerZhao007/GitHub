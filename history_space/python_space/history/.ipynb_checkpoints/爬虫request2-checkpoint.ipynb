{
 "cells": [
  {
   "cell_type": "code",
   "execution_count": 1,
   "metadata": {},
   "outputs": [],
   "source": [
    "import requests\n",
    "import re\n",
    "import urllib\n",
    "\n",
    "# @brief  打开网页 # url : 网页地址# @return 返回网页数据\n",
    "def getHtmlText(url,headers):\n",
    "    try:\n",
    "        r = requests.get(url, headers,timeout=30)  # 如果状态码不是200 则应发HTTOError异常\n",
    "        r.raise_for_status()               # 设置正确的编码方式\n",
    "        r.encoding = r.apparent_encoding\n",
    "        return r.text\n",
    "    except:\n",
    "        return \"Something Wrong!\"\n",
    "\n",
    "# 找图片\n",
    "def getImg(html):\n",
    "#    reg = r'src=\"(.+?\\.jpg)\" pic_ext'\n",
    "    reg = r'href=\"(.+?\\.jpg)\" style'\n",
    "    imgre = re.compile(reg)\n",
    "    imglist = imgre.findall(html)                       #表示在整个网页中过滤出所有图片的地址，放在imglist中\n",
    "    return imglist\n",
    "\n",
    "\n",
    "# @brief 保存图片 # url : 图片url # addr  : 保存的地址\n",
    "def save_picture(url,addr,name):\n",
    "    urllib.request.urlretrieve(url,'{}{}.jpg'.format(addr,name))    \n",
    "    return"
   ]
  },
  {
   "cell_type": "code",
   "execution_count": 2,
   "metadata": {},
   "outputs": [],
   "source": [
    "url = \"https://tieba.baidu.com/p/1457328431\"\n",
    "headers = {'User-Agent':'Mozilla/5.0 (Windows NT 6.1; WOW64) AppleWebKit/537.36 (KHTML, like Gecko) Chrome/49.0.2623.112 Safari/537.36'}\n",
    "path = 'C:\\\\Users\\\\Think\\\\Desktop\\\\pythondownload\\\\' \n",
    "html = getImg(getHtmlText(url,headers))#"
   ]
  },
  {
   "cell_type": "code",
   "execution_count": null,
   "metadata": {},
   "outputs": [],
   "source": [
    "url = 'https://timgsa.baidu.com/timg?image&quality=80&size=b9999_10000&sec=1522585101633&di=a0663fa50c3b3f470dc7e2b789b43d24&imgtype=0&src=http%3A%2F%2Fpic32.photophoto.cn%2F20140718%2F0033034334383169_b.jpg'\n",
    "url1 = 'https://cdn.pixabay.com/photo/2018/02/13/23/41/nature-3151869_960_720.jpg'"
   ]
  },
  {
   "cell_type": "code",
   "execution_count": null,
   "metadata": {},
   "outputs": [],
   "source": [
    "save_picture(url1,path,2)"
   ]
  },
  {
   "cell_type": "code",
   "execution_count": null,
   "metadata": {},
   "outputs": [],
   "source": []
  }
 ],
 "metadata": {
  "kernelspec": {
   "display_name": "Python 3",
   "language": "python",
   "name": "python3"
  },
  "language_info": {
   "codemirror_mode": {
    "name": "ipython",
    "version": 3
   },
   "file_extension": ".py",
   "mimetype": "text/x-python",
   "name": "python",
   "nbconvert_exporter": "python",
   "pygments_lexer": "ipython3",
   "version": "3.6.4"
  }
 },
 "nbformat": 4,
 "nbformat_minor": 2
}
