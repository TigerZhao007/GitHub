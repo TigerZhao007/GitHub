{
 "cells": [
  {
   "cell_type": "code",
   "execution_count": 1,
   "metadata": {},
   "outputs": [],
   "source": [
    "# -*- coding: utf-8 -*-\n",
    "import os\n",
    "import requests\n",
    "from lxml import etree\n",
    "import time\n",
    "from selenium import webdriver\n"
   ]
  },
  {
   "cell_type": "code",
   "execution_count": 3,
   "metadata": {},
   "outputs": [
    {
     "name": "stderr",
     "output_type": "stream",
     "text": [
      "D:\\Python\\lib\\site-packages\\selenium\\webdriver\\phantomjs\\webdriver.py:49: UserWarning: Selenium support for PhantomJS has been deprecated, please use headless versions of Chrome or Firefox instead\n",
      "  warnings.warn('Selenium support for PhantomJS has been deprecated, please use headless '\n"
     ]
    }
   ],
   "source": [
    "# 打开selenium\n",
    "browser = webdriver.PhantomJS(executable_path=\"D:/Python/selenium/webdriver/phantomjs/bin/phantomjs.exe\")  \n",
    "\n",
    "# @brief 保存图片 # url : 图片url # addr  : 保存的地址\n",
    "def save_picture(url,addr,name):\n",
    "    urllib.request.urlretrieve(url,'{}{}.jpg'.format(addr,name))    \n",
    "    return\n",
    "\n",
    "# 设置图片存储路径\n",
    "PICTURES_PATH = 'E:/Downloads/picture/妹子图/'"
   ]
  },
  {
   "cell_type": "code",
   "execution_count": 4,
   "metadata": {},
   "outputs": [],
   "source": [
    "class Spider(object):\n",
    "    def __init__(self, page_num):\n",
    "        self.page_num = page_num\n",
    "        self.page_urls = ['http://www.mmjpg.com/']\n",
    "        self.girl_urls = []\n",
    "        self.girl_name = ''\n",
    "        self.pic_urls = []"
   ]
  },
  {
   "cell_type": "code",
   "execution_count": 6,
   "metadata": {},
   "outputs": [],
   "source": [
    "# 获取页面url的方法\n",
    "class Spider(object):\n",
    "    def get_page_urls(self):\n",
    "        if int(page_num) > 1:\n",
    "            for n in range(2, int(page_num)+1):\n",
    "                page_url = 'http://www.mmjpg.com/home/' + str(n)\n",
    "                self.page_urls.append(page_url)\n",
    "        elif int(page_num) == 1:\n",
    "            pass\n",
    "\n",
    "# 获取妹子的url的方法\n",
    "    def get_girl_urls(self):\n",
    "        for page_url in self.page_urls:\n",
    "            html = requests.get(page_url).content\n",
    "            selector = etree.HTML(html)\n",
    "            self.girl_urls += (selector.xpath('//span[@class=\"title\"]/a/@href'))"
   ]
  },
  {
   "cell_type": "code",
   "execution_count": 7,
   "metadata": {},
   "outputs": [],
   "source": [
    "# 获取图片的url的方法\n",
    "class Spider(object):\n",
    "    def get_pic_urls(self):\n",
    "        driver = webdriver.PhantomJS(executable_path=\"D:/Python/selenium/webdriver/phantomjs/bin/phantomjs.exe\")  \n",
    "        for girl_url in self.girl_urls:\n",
    "            driver.get(girl_url)\n",
    "            time.sleep(3)\n",
    "            driver.find_element_by_xpath('//em[@class=\"ch all\"]').click()\n",
    "            time.sleep(3)\n",
    "            html = driver.page_source\n",
    "            selector = etree.HTML(html)\n",
    "            self.girl_name = selector.xpath('//div[@class=\"article\"]/h2/text()')[0]\n",
    "            self.pic_urls = selector.xpath('//div[@id=\"content\"]/img/@data-img')\n",
    "            try:\n",
    "                self.download_pic()\n",
    "            except Exception as e:\n",
    "                print(\"{}保存失败\".format(self.girl_name) + str(e))"
   ]
  },
  {
   "cell_type": "code",
   "execution_count": null,
   "metadata": {},
   "outputs": [],
   "source": [
    "# 下载图片的方法\n",
    "    def download_pic(self):\n",
    "        try:\n",
    "            os.mkdir(PICTURES_PATH)\n",
    "        except:\n",
    "            pass\n",
    "        girl_path = PICTURES_PATH + self.girl_name\n",
    "        try:\n",
    "            os.mkdir(girl_path)\n",
    "        except Exception as e:\n",
    "            print(\"{}已存在\".format(self.girl_name))\n",
    "        img_name = 0\n",
    "        for pic_url in self.pic_urls:\n",
    "            img_name += 1\n",
    "            img_data = requests.get(pic_url, headers=headers)\n",
    "            pic_path = girl_path + '/' + str(img_name)+'.jpg'\n",
    "            if os.path.isfile(pic_path):\n",
    "                print(\"{}第{}张已存在\".format(self.girl_name, img_name))\n",
    "                pass\n",
    "            else:\n",
    "                with open(pic_path, 'wb')as f:\n",
    "                    f.write(img_data.content)\n",
    "                    print(\"正在保存{}第{}张\".format(self.girl_name, img_name))\n",
    "                    f.close()\n",
    "        return"
   ]
  },
  {
   "cell_type": "code",
   "execution_count": 8,
   "metadata": {},
   "outputs": [],
   "source": [
    "# 爬虫的启动方法，按照爬虫逻辑依次调用方法\n",
    "class Spider(object):\n",
    "    def start(self):\n",
    "        self.get_page_urls()\n",
    "        self.get_girl_urls()\n",
    "        self.get_pic_urls()"
   ]
  },
  {
   "cell_type": "code",
   "execution_count": 10,
   "metadata": {},
   "outputs": [
    {
     "name": "stdout",
     "output_type": "stream",
     "text": [
      "请输入页码:9\n"
     ]
    },
    {
     "ename": "TypeError",
     "evalue": "object() takes no parameters",
     "output_type": "error",
     "traceback": [
      "\u001b[1;31m---------------------------------------------------------------------------\u001b[0m",
      "\u001b[1;31mTypeError\u001b[0m                                 Traceback (most recent call last)",
      "\u001b[1;32m<ipython-input-10-78ae536e49a9>\u001b[0m in \u001b[0;36m<module>\u001b[1;34m()\u001b[0m\n\u001b[0;32m      2\u001b[0m \u001b[1;32mif\u001b[0m \u001b[0m__name__\u001b[0m \u001b[1;33m==\u001b[0m \u001b[1;34m'__main__'\u001b[0m\u001b[1;33m:\u001b[0m\u001b[1;33m\u001b[0m\u001b[0m\n\u001b[0;32m      3\u001b[0m     \u001b[0mpage_num\u001b[0m \u001b[1;33m=\u001b[0m \u001b[0minput\u001b[0m\u001b[1;33m(\u001b[0m\u001b[1;34m\"请输入页码:\"\u001b[0m\u001b[1;33m)\u001b[0m\u001b[1;33m\u001b[0m\u001b[0m\n\u001b[1;32m----> 4\u001b[1;33m     \u001b[0mmmjpg_spider\u001b[0m \u001b[1;33m=\u001b[0m \u001b[0mSpider\u001b[0m\u001b[1;33m(\u001b[0m\u001b[0mpage_num\u001b[0m\u001b[1;33m)\u001b[0m\u001b[1;33m\u001b[0m\u001b[0m\n\u001b[0m\u001b[0;32m      5\u001b[0m     \u001b[0mmmjpg_spider\u001b[0m\u001b[1;33m.\u001b[0m\u001b[0mstart\u001b[0m\u001b[1;33m(\u001b[0m\u001b[1;33m)\u001b[0m\u001b[1;33m\u001b[0m\u001b[0m\n",
      "\u001b[1;31mTypeError\u001b[0m: object() takes no parameters"
     ]
    }
   ],
   "source": [
    "# main函数\n",
    "if __name__ == '__main__':\n",
    "    page_num = input(\"请输入页码:\")\n",
    "    mmjpg_spider = Spider(page_num)\n",
    "    mmjpg_spider.start()"
   ]
  },
  {
   "cell_type": "code",
   "execution_count": null,
   "metadata": {},
   "outputs": [],
   "source": []
  }
 ],
 "metadata": {
  "kernelspec": {
   "display_name": "Python 3",
   "language": "python",
   "name": "python3"
  },
  "language_info": {
   "codemirror_mode": {
    "name": "ipython",
    "version": 3
   },
   "file_extension": ".py",
   "mimetype": "text/x-python",
   "name": "python",
   "nbconvert_exporter": "python",
   "pygments_lexer": "ipython3",
   "version": "3.6.4"
  }
 },
 "nbformat": 4,
 "nbformat_minor": 2
}
