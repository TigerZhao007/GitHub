{
 "cells": [
  {
   "cell_type": "code",
   "execution_count": 1,
   "metadata": {
    "collapsed": true
   },
   "outputs": [],
   "source": [
    "#程序包加载\n",
    "import pandas as pd\n",
    "import numpy as np\n",
    "import matplotlib.pyplot as plt"
   ]
  },
  {
   "cell_type": "code",
   "execution_count": 2,
   "metadata": {
    "collapsed": false
   },
   "outputs": [
    {
     "name": "stdout",
     "output_type": "stream",
     "text": [
      "   Cancer development   size  stage    age  treatment type  Dose I  Dose II\n",
      "0                 0.0  279.0    1.0  222.0             2.0   257.0      6.0\n",
      "1                 0.0  257.0    1.0  307.0             1.0   341.0    503.0\n",
      "2                 1.0  153.0    0.0  308.0             1.0   359.0    162.0\n",
      "3                 0.0   11.0    1.0  278.0             2.0   253.0     44.0\n",
      "4                 1.0  225.0    1.0  335.0             2.0    28.0    337.0\n"
     ]
    }
   ],
   "source": [
    "#数据的读入和查看\n",
    "df = pd.read_csv('E:/pspace/cancer.csv')\n",
    "print(df.head(5))"
   ]
  },
  {
   "cell_type": "code",
   "execution_count": 3,
   "metadata": {
    "collapsed": false
   },
   "outputs": [
    {
     "name": "stdout",
     "output_type": "stream",
     "text": [
      "   canc   size  stage    age  type     d1     d2\n",
      "0   0.0  279.0    1.0  222.0   2.0  257.0    6.0\n",
      "1   0.0  257.0    1.0  307.0   1.0  341.0  503.0\n",
      "2   1.0  153.0    0.0  308.0   1.0  359.0  162.0\n",
      "3   0.0   11.0    1.0  278.0   2.0  253.0   44.0\n",
      "4   1.0  225.0    1.0  335.0   2.0   28.0  337.0\n"
     ]
    }
   ],
   "source": [
    "#修改数据框行名\n",
    "df.columns = ['canc','size','stage','age','type','d1','d2']\n",
    "print(df.head(5))"
   ]
  },
  {
   "cell_type": "code",
   "execution_count": 4,
   "metadata": {
    "collapsed": false
   },
   "outputs": [
    {
     "data": {
      "text/plain": [
       "0    0\n",
       "1    0\n",
       "2    1\n",
       "3    0\n",
       "4    1\n",
       "Name: canc, dtype: object"
      ]
     },
     "execution_count": 4,
     "metadata": {},
     "output_type": "execute_result"
    }
   ],
   "source": [
    "#替换缺失值  ？？？？？？\n",
    "canc = df['canc'].fillna('Missing')\n",
    "canc.head(5)"
   ]
  },
  {
   "cell_type": "code",
   "execution_count": 5,
   "metadata": {
    "collapsed": false
   },
   "outputs": [
    {
     "data": {
      "text/plain": [
       "0.0        116\n",
       "1.0         83\n",
       "Missing      1\n",
       "Name: canc, dtype: int64"
      ]
     },
     "execution_count": 5,
     "metadata": {},
     "output_type": "execute_result"
    }
   ],
   "source": [
    "# 统计类别变量个数\n",
    "canc_count = canc.value_counts()\n",
    "canc_count"
   ]
  },
  {
   "cell_type": "code",
   "execution_count": 6,
   "metadata": {
    "collapsed": false
   },
   "outputs": [
    {
     "data": {
      "text/plain": [
       "0.0        116\n",
       "1.0         83\n",
       "Missing      1\n",
       "Name: canc, dtype: int64"
      ]
     },
     "execution_count": 6,
     "metadata": {},
     "output_type": "execute_result"
    }
   ],
   "source": [
    "#替换指定缺失值\n",
    "canc_tz = canc\n",
    "canc_tz[canc_tz==''] = '99'                     \n",
    "canc_tz_count = canc_tz.value_counts()\n",
    "canc_tz_count"
   ]
  },
  {
   "cell_type": "code",
   "execution_count": 7,
   "metadata": {
    "collapsed": false
   },
   "outputs": [
    {
     "ename": "SyntaxError",
     "evalue": "invalid syntax (<ipython-input-7-e0e75c9cfaf6>, line 2)",
     "output_type": "error",
     "traceback": [
      "\u001b[0;36m  File \u001b[0;32m\"<ipython-input-7-e0e75c9cfaf6>\"\u001b[0;36m, line \u001b[0;32m2\u001b[0m\n\u001b[0;31m    for idx,label in canc_tz['canc']\u001b[0m\n\u001b[0m                                    ^\u001b[0m\n\u001b[0;31mSyntaxError\u001b[0m\u001b[0;31m:\u001b[0m invalid syntax\n"
     ]
    }
   ],
   "source": [
    "# 查看所有样本数据  ？？？？？？？？\n",
    "for idx,label in canc_tz['canc']\n",
    "print(idx,label)"
   ]
  },
  {
   "cell_type": "code",
   "execution_count": 8,
   "metadata": {
    "collapsed": false
   },
   "outputs": [
    {
     "data": {
      "image/png": "[encoded data removed]",
      "text/plain": [
       "<matplotlib.figure.Figure at 0x2971a658f98>"
      ]
     },
     "metadata": {},
     "output_type": "display_data"
    }
   ],
   "source": [
    "canc_tz_count.plot(kind='barh',rot=0)\n",
    "plt.show()"
   ]
  },
  {
   "cell_type": "code",
   "execution_count": 8,
   "metadata": {
    "collapsed": false
   },
   "outputs": [
    {
     "name": "stdout",
     "output_type": "stream",
     "text": [
      "Using matplotlib backend: Qt5Agg\n",
      "Populating the interactive namespace from numpy and matplotlib\n"
     ]
    }
   ],
   "source": [
    "#打开画布\n",
    "%pylab\n",
    "fig=plt.figure() "
   ]
  },
  {
   "cell_type": "code",
   "execution_count": 9,
   "metadata": {
    "collapsed": false
   },
   "outputs": [
    {
     "data": {
      "text/plain": [
       "<matplotlib.axes._subplots.AxesSubplot at 0x2971a6b37b8>"
      ]
     },
     "execution_count": 9,
     "metadata": {},
     "output_type": "execute_result"
    }
   ],
   "source": [
    "canc_tz_count.plot(kind='barh',rot=0)"
   ]
  },
  {
   "cell_type": "code",
   "execution_count": 10,
   "metadata": {
    "collapsed": false
   },
   "outputs": [
    {
     "data": {
      "text/plain": [
       "([<matplotlib.patches.Wedge at 0x2971a71c4a8>,\n",
       "  <matplotlib.patches.Wedge at 0x2971a9584a8>,\n",
       "  <matplotlib.patches.Wedge at 0x2971a9652e8>],\n",
       " [<matplotlib.text.Text at 0x2971a78de48>,\n",
       "  <matplotlib.text.Text at 0x2971a958e48>,\n",
       "  <matplotlib.text.Text at 0x2971a965940>])"
      ]
     },
     "execution_count": 10,
     "metadata": {},
     "output_type": "execute_result"
    }
   ],
   "source": [
    "plt.pie(canc_tz_count)"
   ]
  },
  {
   "cell_type": "code",
   "execution_count": null,
   "metadata": {
    "collapsed": false
   },
   "outputs": [],
   "source": []
  },
  {
   "cell_type": "code",
   "execution_count": null,
   "metadata": {
    "collapsed": true
   },
   "outputs": [],
   "source": []
  }
 ],
 "metadata": {
  "kernelspec": {
   "display_name": "Python 3",
   "language": "python",
   "name": "python3"
  },
  "language_info": {
   "codemirror_mode": {
    "name": "ipython",
    "version": 3
   },
   "file_extension": ".py",
   "mimetype": "text/x-python",
   "name": "python",
   "nbconvert_exporter": "python",
   "pygments_lexer": "ipython3",
   "version": "3.6.0"
  }
 },
 "nbformat": 4,
 "nbformat_minor": 2
}
